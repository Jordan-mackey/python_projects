{
  "cells": [
    {
      "cell_type": "markdown",
      "metadata": {
        "id": "view-in-github",
        "colab_type": "text"
      },
      "source": [
        "<a href=\"https://colab.research.google.com/github/Jordan-mackey/python_projects/blob/main/LSTM_unemployment.ipynb\" target=\"_parent\"><img src=\"https://colab.research.google.com/assets/colab-badge.svg\" alt=\"Open In Colab\"/></a>"
      ]
    },
    {
      "cell_type": "markdown",
      "id": "b18d5372",
      "metadata": {
        "id": "b18d5372"
      },
      "source": [
        "# Import Libraries"
      ]
    },
    {
      "cell_type": "code",
      "execution_count": null,
      "id": "091af47d",
      "metadata": {
        "id": "091af47d"
      },
      "outputs": [],
      "source": [
        "import pandas as pd\n",
        "import numpy as np\n",
        "%matplotlib inline\n",
        "import matplotlib.pyplot as plt"
      ]
    },
    {
      "cell_type": "code",
      "execution_count": null,
      "id": "f1814bb3",
      "metadata": {
        "id": "f1814bb3"
      },
      "outputs": [],
      "source": [
        "# For timeseries RNN LSTM neural network\n",
        "from tensorflow.keras.models import Sequential\n",
        "from tensorflow.keras.layers import LSTM\n",
        "from tensorflow.keras.layers import Dropout\n",
        "from tensorflow.keras.layers import Dense"
      ]
    },
    {
      "cell_type": "code",
      "execution_count": null,
      "id": "e60b38dc",
      "metadata": {
        "id": "e60b38dc"
      },
      "outputs": [],
      "source": [
        "# Import Keras: timeseries generator\n",
        "# This class produces time series batches used on training/testing model\n",
        "from tensorflow.keras.preprocessing.sequence import TimeseriesGenerator\n",
        "\n",
        "# import MinMaxScaler\n",
        "# This class is used to preprocess (scale) the data\n",
        "from sklearn.preprocessing import MinMaxScaler"
      ]
    },
    {
      "cell_type": "markdown",
      "id": "4157fab5",
      "metadata": {
        "id": "4157fab5"
      },
      "source": [
        "# Dataset: FRED Unemployment Rates (01/01/1948 - 01/01/2022)"
      ]
    },
    {
      "cell_type": "code",
      "execution_count": null,
      "id": "6b9471bb",
      "metadata": {
        "id": "6b9471bb"
      },
      "outputs": [],
      "source": [
        "dataset = 'DATA/unemployment.csv'"
      ]
    },
    {
      "cell_type": "markdown",
      "id": "25ece2f2",
      "metadata": {
        "id": "25ece2f2"
      },
      "source": [
        "## Load Dataset into DataFrame"
      ]
    },
    {
      "cell_type": "code",
      "execution_count": null,
      "id": "f0566a2e",
      "metadata": {
        "id": "f0566a2e"
      },
      "outputs": [],
      "source": [
        "df_all = pd.read_csv(dataset)"
      ]
    },
    {
      "cell_type": "code",
      "execution_count": null,
      "id": "d52ba90f",
      "metadata": {
        "id": "d52ba90f",
        "outputId": "c8076725-51d1-4135-d335-1e455867d4c4"
      },
      "outputs": [
        {
          "data": {
            "text/html": [
              "<div>\n",
              "<style scoped>\n",
              "    .dataframe tbody tr th:only-of-type {\n",
              "        vertical-align: middle;\n",
              "    }\n",
              "\n",
              "    .dataframe tbody tr th {\n",
              "        vertical-align: top;\n",
              "    }\n",
              "\n",
              "    .dataframe thead th {\n",
              "        text-align: right;\n",
              "    }\n",
              "</style>\n",
              "<table border=\"1\" class=\"dataframe\">\n",
              "  <thead>\n",
              "    <tr style=\"text-align: right;\">\n",
              "      <th></th>\n",
              "      <th>DATE</th>\n",
              "      <th>UNRATE</th>\n",
              "    </tr>\n",
              "  </thead>\n",
              "  <tbody>\n",
              "    <tr>\n",
              "      <th>0</th>\n",
              "      <td>1948-01-01</td>\n",
              "      <td>3.4</td>\n",
              "    </tr>\n",
              "    <tr>\n",
              "      <th>1</th>\n",
              "      <td>1948-02-01</td>\n",
              "      <td>3.8</td>\n",
              "    </tr>\n",
              "    <tr>\n",
              "      <th>2</th>\n",
              "      <td>1948-03-01</td>\n",
              "      <td>4.0</td>\n",
              "    </tr>\n",
              "    <tr>\n",
              "      <th>3</th>\n",
              "      <td>1948-04-01</td>\n",
              "      <td>3.9</td>\n",
              "    </tr>\n",
              "    <tr>\n",
              "      <th>4</th>\n",
              "      <td>1948-05-01</td>\n",
              "      <td>3.5</td>\n",
              "    </tr>\n",
              "  </tbody>\n",
              "</table>\n",
              "</div>"
            ],
            "text/plain": [
              "         DATE  UNRATE\n",
              "0  1948-01-01     3.4\n",
              "1  1948-02-01     3.8\n",
              "2  1948-03-01     4.0\n",
              "3  1948-04-01     3.9\n",
              "4  1948-05-01     3.5"
            ]
          },
          "execution_count": 6,
          "metadata": {},
          "output_type": "execute_result"
        }
      ],
      "source": [
        "df_all.head()"
      ]
    },
    {
      "cell_type": "markdown",
      "id": "164ee349",
      "metadata": {
        "id": "164ee349"
      },
      "source": [
        "## Keep Only the UNRATE Column for Unemployment Rate, Filter out DATE as Column"
      ]
    },
    {
      "cell_type": "code",
      "execution_count": null,
      "id": "5113c30d",
      "metadata": {
        "id": "5113c30d"
      },
      "outputs": [],
      "source": [
        "df = df_all.iloc[ : , 1:2]"
      ]
    },
    {
      "cell_type": "markdown",
      "id": "0d345de0",
      "metadata": {
        "id": "0d345de0"
      },
      "source": [
        "## EDA"
      ]
    },
    {
      "cell_type": "code",
      "execution_count": null,
      "id": "c0619768",
      "metadata": {
        "id": "c0619768",
        "outputId": "65759440-31a1-4876-b0c9-70da10317a0b"
      },
      "outputs": [
        {
          "data": {
            "text/plain": [
              "(889, 1)"
            ]
          },
          "execution_count": 8,
          "metadata": {},
          "output_type": "execute_result"
        }
      ],
      "source": [
        "df.shape"
      ]
    },
    {
      "cell_type": "code",
      "execution_count": null,
      "id": "dd9a14e4",
      "metadata": {
        "id": "dd9a14e4",
        "outputId": "f48f932b-fa6a-45cd-d73a-b3018db073ae"
      },
      "outputs": [
        {
          "data": {
            "text/plain": [
              "UNRATE    float64\n",
              "dtype: object"
            ]
          },
          "execution_count": 9,
          "metadata": {},
          "output_type": "execute_result"
        }
      ],
      "source": [
        "df.dtypes"
      ]
    },
    {
      "cell_type": "code",
      "execution_count": null,
      "id": "7a32c8d7",
      "metadata": {
        "id": "7a32c8d7",
        "outputId": "d3e40174-9ac8-4ec8-e55d-07dcbeef9038"
      },
      "outputs": [
        {
          "data": {
            "text/html": [
              "<div>\n",
              "<style scoped>\n",
              "    .dataframe tbody tr th:only-of-type {\n",
              "        vertical-align: middle;\n",
              "    }\n",
              "\n",
              "    .dataframe tbody tr th {\n",
              "        vertical-align: top;\n",
              "    }\n",
              "\n",
              "    .dataframe thead th {\n",
              "        text-align: right;\n",
              "    }\n",
              "</style>\n",
              "<table border=\"1\" class=\"dataframe\">\n",
              "  <thead>\n",
              "    <tr style=\"text-align: right;\">\n",
              "      <th></th>\n",
              "      <th>UNRATE</th>\n",
              "    </tr>\n",
              "  </thead>\n",
              "  <tbody>\n",
              "    <tr>\n",
              "      <th>count</th>\n",
              "      <td>889.000000</td>\n",
              "    </tr>\n",
              "    <tr>\n",
              "      <th>mean</th>\n",
              "      <td>5.758943</td>\n",
              "    </tr>\n",
              "    <tr>\n",
              "      <th>std</th>\n",
              "      <td>1.697299</td>\n",
              "    </tr>\n",
              "    <tr>\n",
              "      <th>min</th>\n",
              "      <td>2.500000</td>\n",
              "    </tr>\n",
              "    <tr>\n",
              "      <th>25%</th>\n",
              "      <td>4.500000</td>\n",
              "    </tr>\n",
              "    <tr>\n",
              "      <th>50%</th>\n",
              "      <td>5.600000</td>\n",
              "    </tr>\n",
              "    <tr>\n",
              "      <th>75%</th>\n",
              "      <td>6.800000</td>\n",
              "    </tr>\n",
              "    <tr>\n",
              "      <th>max</th>\n",
              "      <td>14.700000</td>\n",
              "    </tr>\n",
              "  </tbody>\n",
              "</table>\n",
              "</div>"
            ],
            "text/plain": [
              "           UNRATE\n",
              "count  889.000000\n",
              "mean     5.758943\n",
              "std      1.697299\n",
              "min      2.500000\n",
              "25%      4.500000\n",
              "50%      5.600000\n",
              "75%      6.800000\n",
              "max     14.700000"
            ]
          },
          "execution_count": 10,
          "metadata": {},
          "output_type": "execute_result"
        }
      ],
      "source": [
        "df.describe()"
      ]
    },
    {
      "cell_type": "code",
      "execution_count": null,
      "id": "ccd32fc4",
      "metadata": {
        "id": "ccd32fc4",
        "outputId": "9118ef2f-ba7b-427b-bdec-562532667547"
      },
      "outputs": [
        {
          "data": {
            "text/html": [
              "<div>\n",
              "<style scoped>\n",
              "    .dataframe tbody tr th:only-of-type {\n",
              "        vertical-align: middle;\n",
              "    }\n",
              "\n",
              "    .dataframe tbody tr th {\n",
              "        vertical-align: top;\n",
              "    }\n",
              "\n",
              "    .dataframe thead th {\n",
              "        text-align: right;\n",
              "    }\n",
              "</style>\n",
              "<table border=\"1\" class=\"dataframe\">\n",
              "  <thead>\n",
              "    <tr style=\"text-align: right;\">\n",
              "      <th></th>\n",
              "      <th>UNRATE</th>\n",
              "    </tr>\n",
              "  </thead>\n",
              "  <tbody>\n",
              "    <tr>\n",
              "      <th>0</th>\n",
              "      <td>3.4</td>\n",
              "    </tr>\n",
              "    <tr>\n",
              "      <th>1</th>\n",
              "      <td>3.8</td>\n",
              "    </tr>\n",
              "    <tr>\n",
              "      <th>2</th>\n",
              "      <td>4.0</td>\n",
              "    </tr>\n",
              "    <tr>\n",
              "      <th>3</th>\n",
              "      <td>3.9</td>\n",
              "    </tr>\n",
              "    <tr>\n",
              "      <th>4</th>\n",
              "      <td>3.5</td>\n",
              "    </tr>\n",
              "  </tbody>\n",
              "</table>\n",
              "</div>"
            ],
            "text/plain": [
              "   UNRATE\n",
              "0     3.4\n",
              "1     3.8\n",
              "2     4.0\n",
              "3     3.9\n",
              "4     3.5"
            ]
          },
          "execution_count": 11,
          "metadata": {},
          "output_type": "execute_result"
        }
      ],
      "source": [
        "df.head()"
      ]
    },
    {
      "cell_type": "code",
      "execution_count": null,
      "id": "0f041226",
      "metadata": {
        "id": "0f041226",
        "outputId": "af3c2228-5ff9-423d-9f7e-3bf335afba3f"
      },
      "outputs": [
        {
          "data": {
            "text/plain": [
              "<AxesSubplot:>"
            ]
          },
          "execution_count": 12,
          "metadata": {},
          "output_type": "execute_result"
        },
        {
          "data": {
            "image/png": "[encoded data removed]",
            "text/plain": [
              "<Figure size 864x576 with 1 Axes>"
            ]
          },
          "metadata": {
            "needs_background": "light"
          },
          "output_type": "display_data"
        }
      ],
      "source": [
        "df.plot(figsize = (12,8))"
      ]
    },
    {
      "cell_type": "markdown",
      "id": "0bdf0264",
      "metadata": {
        "id": "0bdf0264"
      },
      "source": [
        "# Length of Input Timeseries - Number of Input Time Steps"
      ]
    },
    {
      "cell_type": "code",
      "execution_count": null,
      "id": "960299b6",
      "metadata": {
        "id": "960299b6"
      },
      "outputs": [],
      "source": [
        "# Editing length of time steps to 36 (3 years time) to ideally improve accuracy\n",
        "length36 = 36"
      ]
    },
    {
      "cell_type": "markdown",
      "id": "d314e916",
      "metadata": {
        "id": "d314e916"
      },
      "source": [
        "# Timeseries Dataset: Train/Test Split"
      ]
    },
    {
      "cell_type": "code",
      "execution_count": null,
      "id": "b38bdc07",
      "metadata": {
        "id": "b38bdc07",
        "outputId": "24926228-8b35-4af1-aff9-2f841f17a570"
      },
      "outputs": [
        {
          "data": {
            "text/plain": [
              "889"
            ]
          },
          "execution_count": 14,
          "metadata": {},
          "output_type": "execute_result"
        }
      ],
      "source": [
        "len(df)"
      ]
    },
    {
      "cell_type": "code",
      "execution_count": null,
      "id": "e3973c63",
      "metadata": {
        "id": "e3973c63"
      },
      "outputs": [],
      "source": [
        "# Set percentage of data used for testing\n",
        "# Keeping the training dataset large (90%) to keep training points high\n",
        "test_percent = 0.1"
      ]
    },
    {
      "cell_type": "code",
      "execution_count": null,
      "id": "95597f81",
      "metadata": {
        "id": "95597f81",
        "outputId": "a8f41743-4fda-4609-8943-b6b5cbb829bc"
      },
      "outputs": [
        {
          "data": {
            "text/plain": [
              "88.9"
            ]
          },
          "execution_count": 16,
          "metadata": {},
          "output_type": "execute_result"
        }
      ],
      "source": [
        "# Number of data points reserved for testing the model\n",
        "# 10% of the original dataset\n",
        "\n",
        "len(df)*test_percent"
      ]
    },
    {
      "cell_type": "markdown",
      "id": "3884b6b3",
      "metadata": {
        "id": "3884b6b3"
      },
      "source": [
        "## Split Data into Train/Test Datasets"
      ]
    },
    {
      "cell_type": "code",
      "execution_count": null,
      "id": "97418c74",
      "metadata": {
        "id": "97418c74",
        "outputId": "e62fb85a-ed3c-40e0-920c-e000253c87a6"
      },
      "outputs": [
        {
          "data": {
            "text/plain": [
              "89.0"
            ]
          },
          "execution_count": 17,
          "metadata": {},
          "output_type": "execute_result"
        }
      ],
      "source": [
        "# Need to find the length of the testing dataset\n",
        "# It has been found above that around 89 data points are used for testing\n",
        "\n",
        "test_length = np.round(len(df)*test_percent)\n",
        "\n",
        "test_length"
      ]
    },
    {
      "cell_type": "code",
      "execution_count": null,
      "id": "ef42e02b",
      "metadata": {
        "id": "ef42e02b",
        "outputId": "d7fb5046-3071-4179-def2-26ff649e188c"
      },
      "outputs": [
        {
          "data": {
            "text/plain": [
              "800"
            ]
          },
          "execution_count": 18,
          "metadata": {},
          "output_type": "execute_result"
        }
      ],
      "source": [
        "# Find the index of the sequence where the testing data starts\n",
        "# test_start_index = int(len(df) - test_length)\n",
        "split_index = int(len(df) - test_length)\n",
        "split_index "
      ]
    },
    {
      "cell_type": "code",
      "execution_count": null,
      "id": "3e1aa186",
      "metadata": {
        "id": "3e1aa186"
      },
      "outputs": [],
      "source": [
        "# Create separate training and testing datasets \n",
        "\n",
        "# Training dataset: all indices from start to split_index\n",
        "# excluding the split_index\n",
        "data_train = df.iloc[ :split_index]\n",
        "\n",
        "# Testing dataset: \n",
        "# --) all indices from (split_index - length24) to the end of the index\n",
        "# --) split_index - length24: need the last 24 historical data points (also belong to data_train)\n",
        "#     to predict the first data point of the data_test index\n",
        "data_test = df.iloc[split_index - length36: ]"
      ]
    },
    {
      "cell_type": "code",
      "execution_count": null,
      "id": "83245988",
      "metadata": {
        "id": "83245988",
        "outputId": "c718f9a7-c3a3-4998-849e-ded4f74718ae"
      },
      "outputs": [
        {
          "data": {
            "text/html": [
              "<div>\n",
              "<style scoped>\n",
              "    .dataframe tbody tr th:only-of-type {\n",
              "        vertical-align: middle;\n",
              "    }\n",
              "\n",
              "    .dataframe tbody tr th {\n",
              "        vertical-align: top;\n",
              "    }\n",
              "\n",
              "    .dataframe thead th {\n",
              "        text-align: right;\n",
              "    }\n",
              "</style>\n",
              "<table border=\"1\" class=\"dataframe\">\n",
              "  <thead>\n",
              "    <tr style=\"text-align: right;\">\n",
              "      <th></th>\n",
              "      <th>UNRATE</th>\n",
              "    </tr>\n",
              "  </thead>\n",
              "  <tbody>\n",
              "    <tr>\n",
              "      <th>0</th>\n",
              "      <td>3.4</td>\n",
              "    </tr>\n",
              "    <tr>\n",
              "      <th>1</th>\n",
              "      <td>3.8</td>\n",
              "    </tr>\n",
              "    <tr>\n",
              "      <th>2</th>\n",
              "      <td>4.0</td>\n",
              "    </tr>\n",
              "    <tr>\n",
              "      <th>3</th>\n",
              "      <td>3.9</td>\n",
              "    </tr>\n",
              "    <tr>\n",
              "      <th>4</th>\n",
              "      <td>3.5</td>\n",
              "    </tr>\n",
              "  </tbody>\n",
              "</table>\n",
              "</div>"
            ],
            "text/plain": [
              "   UNRATE\n",
              "0     3.4\n",
              "1     3.8\n",
              "2     4.0\n",
              "3     3.9\n",
              "4     3.5"
            ]
          },
          "execution_count": 20,
          "metadata": {},
          "output_type": "execute_result"
        }
      ],
      "source": [
        "data_train.head()"
      ]
    },
    {
      "cell_type": "code",
      "execution_count": null,
      "id": "b7d522e6",
      "metadata": {
        "id": "b7d522e6",
        "outputId": "dd9a3547-fdc3-4f1a-98e6-893e4c6d3131"
      },
      "outputs": [
        {
          "data": {
            "text/html": [
              "<div>\n",
              "<style scoped>\n",
              "    .dataframe tbody tr th:only-of-type {\n",
              "        vertical-align: middle;\n",
              "    }\n",
              "\n",
              "    .dataframe tbody tr th {\n",
              "        vertical-align: top;\n",
              "    }\n",
              "\n",
              "    .dataframe thead th {\n",
              "        text-align: right;\n",
              "    }\n",
              "</style>\n",
              "<table border=\"1\" class=\"dataframe\">\n",
              "  <thead>\n",
              "    <tr style=\"text-align: right;\">\n",
              "      <th></th>\n",
              "      <th>UNRATE</th>\n",
              "    </tr>\n",
              "  </thead>\n",
              "  <tbody>\n",
              "    <tr>\n",
              "      <th>795</th>\n",
              "      <td>6.2</td>\n",
              "    </tr>\n",
              "    <tr>\n",
              "      <th>796</th>\n",
              "      <td>6.3</td>\n",
              "    </tr>\n",
              "    <tr>\n",
              "      <th>797</th>\n",
              "      <td>6.1</td>\n",
              "    </tr>\n",
              "    <tr>\n",
              "      <th>798</th>\n",
              "      <td>6.2</td>\n",
              "    </tr>\n",
              "    <tr>\n",
              "      <th>799</th>\n",
              "      <td>6.1</td>\n",
              "    </tr>\n",
              "  </tbody>\n",
              "</table>\n",
              "</div>"
            ],
            "text/plain": [
              "     UNRATE\n",
              "795     6.2\n",
              "796     6.3\n",
              "797     6.1\n",
              "798     6.2\n",
              "799     6.1"
            ]
          },
          "execution_count": 21,
          "metadata": {},
          "output_type": "execute_result"
        }
      ],
      "source": [
        "data_train.tail()"
      ]
    },
    {
      "cell_type": "code",
      "execution_count": null,
      "id": "3b639880",
      "metadata": {
        "id": "3b639880",
        "outputId": "a2aaf5f9-6e97-4c4c-adf4-49ba7242aa24"
      },
      "outputs": [
        {
          "data": {
            "text/html": [
              "<div>\n",
              "<style scoped>\n",
              "    .dataframe tbody tr th:only-of-type {\n",
              "        vertical-align: middle;\n",
              "    }\n",
              "\n",
              "    .dataframe tbody tr th {\n",
              "        vertical-align: top;\n",
              "    }\n",
              "\n",
              "    .dataframe thead th {\n",
              "        text-align: right;\n",
              "    }\n",
              "</style>\n",
              "<table border=\"1\" class=\"dataframe\">\n",
              "  <thead>\n",
              "    <tr style=\"text-align: right;\">\n",
              "      <th></th>\n",
              "      <th>UNRATE</th>\n",
              "    </tr>\n",
              "  </thead>\n",
              "  <tbody>\n",
              "    <tr>\n",
              "      <th>764</th>\n",
              "      <td>9.0</td>\n",
              "    </tr>\n",
              "    <tr>\n",
              "      <th>765</th>\n",
              "      <td>8.8</td>\n",
              "    </tr>\n",
              "    <tr>\n",
              "      <th>766</th>\n",
              "      <td>8.6</td>\n",
              "    </tr>\n",
              "    <tr>\n",
              "      <th>767</th>\n",
              "      <td>8.5</td>\n",
              "    </tr>\n",
              "    <tr>\n",
              "      <th>768</th>\n",
              "      <td>8.3</td>\n",
              "    </tr>\n",
              "  </tbody>\n",
              "</table>\n",
              "</div>"
            ],
            "text/plain": [
              "     UNRATE\n",
              "764     9.0\n",
              "765     8.8\n",
              "766     8.6\n",
              "767     8.5\n",
              "768     8.3"
            ]
          },
          "execution_count": 22,
          "metadata": {},
          "output_type": "execute_result"
        }
      ],
      "source": [
        "data_test.head()"
      ]
    },
    {
      "cell_type": "code",
      "execution_count": null,
      "id": "36eb9906",
      "metadata": {
        "id": "36eb9906",
        "outputId": "ab1ea62c-3b3e-4117-cecd-58e6a204f751"
      },
      "outputs": [
        {
          "data": {
            "text/html": [
              "<div>\n",
              "<style scoped>\n",
              "    .dataframe tbody tr th:only-of-type {\n",
              "        vertical-align: middle;\n",
              "    }\n",
              "\n",
              "    .dataframe tbody tr th {\n",
              "        vertical-align: top;\n",
              "    }\n",
              "\n",
              "    .dataframe thead th {\n",
              "        text-align: right;\n",
              "    }\n",
              "</style>\n",
              "<table border=\"1\" class=\"dataframe\">\n",
              "  <thead>\n",
              "    <tr style=\"text-align: right;\">\n",
              "      <th></th>\n",
              "      <th>UNRATE</th>\n",
              "    </tr>\n",
              "  </thead>\n",
              "  <tbody>\n",
              "    <tr>\n",
              "      <th>884</th>\n",
              "      <td>4.7</td>\n",
              "    </tr>\n",
              "    <tr>\n",
              "      <th>885</th>\n",
              "      <td>4.6</td>\n",
              "    </tr>\n",
              "    <tr>\n",
              "      <th>886</th>\n",
              "      <td>4.2</td>\n",
              "    </tr>\n",
              "    <tr>\n",
              "      <th>887</th>\n",
              "      <td>3.9</td>\n",
              "    </tr>\n",
              "    <tr>\n",
              "      <th>888</th>\n",
              "      <td>4.0</td>\n",
              "    </tr>\n",
              "  </tbody>\n",
              "</table>\n",
              "</div>"
            ],
            "text/plain": [
              "     UNRATE\n",
              "884     4.7\n",
              "885     4.6\n",
              "886     4.2\n",
              "887     3.9\n",
              "888     4.0"
            ]
          },
          "execution_count": 23,
          "metadata": {},
          "output_type": "execute_result"
        }
      ],
      "source": [
        "data_test.tail()"
      ]
    },
    {
      "cell_type": "markdown",
      "id": "479b29b3",
      "metadata": {
        "id": "479b29b3"
      },
      "source": [
        "## Normalize the Data (Scaled to Range [0, 1])"
      ]
    },
    {
      "cell_type": "code",
      "execution_count": null,
      "id": "9d91a743",
      "metadata": {
        "id": "9d91a743"
      },
      "outputs": [],
      "source": [
        "# Create a MinMaxScaler to normalize the data\n",
        "scaler = MinMaxScaler()"
      ]
    },
    {
      "cell_type": "code",
      "execution_count": null,
      "id": "6d1d528a",
      "metadata": {
        "id": "6d1d528a",
        "outputId": "1b2ac24a-7d05-44de-fd5f-3f4151e8e699"
      },
      "outputs": [
        {
          "data": {
            "text/plain": [
              "MinMaxScaler()"
            ]
          },
          "execution_count": 25,
          "metadata": {},
          "output_type": "execute_result"
        }
      ],
      "source": [
        "# Only scale the training data, not the testing data\n",
        "# Train the scaler to perform the normalization\n",
        "\n",
        "scaler.fit(data_train)"
      ]
    },
    {
      "cell_type": "code",
      "execution_count": null,
      "id": "9711be21",
      "metadata": {
        "id": "9711be21"
      },
      "outputs": [],
      "source": [
        "# Normalize the training dataset\n",
        "normalized_train = scaler.transform(data_train)\n",
        "\n",
        "# Normalize the testing dataset \n",
        "normalized_test = scaler.transform(data_test)"
      ]
    },
    {
      "cell_type": "markdown",
      "id": "42567d50",
      "metadata": {
        "id": "42567d50"
      },
      "source": [
        "## Create TimeseriesGenerator for Training"
      ]
    },
    {
      "cell_type": "code",
      "execution_count": null,
      "id": "a688cd53",
      "metadata": {
        "id": "a688cd53"
      },
      "outputs": [],
      "source": [
        "# TimeseriesGenerator: Generate time series batches for training/testing\n",
        "\n",
        "# Now using length36\n",
        "\n",
        "# batch_size = the number of time series samples in each batch \n",
        "# Sample: a single time series input that has 36 historical datapoints\n",
        "# Changed the batch_size to 15 to take in more samples\n",
        "batch_size15 = 15\n",
        "\n",
        "# Create a TimeseriesGenerator for training: train_tsGenerator\n",
        "# --) This time series generator produces time series batches used to train the model\n",
        "# TimeseriesGenerator(inputs, outputs, length, batch_size)\n",
        "# --) normally, inputs & outputs are the same dataset during training and testing/validation\n",
        "\n",
        "train_tsGenerator36 = TimeseriesGenerator(normalized_train, normalized_train, length = length36, batch_size = batch_size15)"
      ]
    },
    {
      "cell_type": "code",
      "execution_count": null,
      "id": "9701355f",
      "metadata": {
        "id": "9701355f",
        "outputId": "4e6e9545-4a36-420a-ca94-b32d4893c113"
      },
      "outputs": [
        {
          "data": {
            "text/plain": [
              "800"
            ]
          },
          "execution_count": 28,
          "metadata": {},
          "output_type": "execute_result"
        }
      ],
      "source": [
        "len(normalized_train)"
      ]
    },
    {
      "cell_type": "code",
      "execution_count": null,
      "id": "5306003f",
      "metadata": {
        "id": "5306003f",
        "outputId": "d4adbb1a-173c-4a38-a7de-497172cf4ed4"
      },
      "outputs": [
        {
          "data": {
            "text/plain": [
              "125"
            ]
          },
          "execution_count": 29,
          "metadata": {},
          "output_type": "execute_result"
        }
      ],
      "source": [
        "len(normalized_test)"
      ]
    },
    {
      "cell_type": "code",
      "execution_count": null,
      "id": "74e1b7ae",
      "metadata": {
        "id": "74e1b7ae"
      },
      "outputs": [],
      "source": [
        "# What does the first batch look like?\n",
        "X,y = train_tsGenerator36[0]"
      ]
    },
    {
      "cell_type": "code",
      "execution_count": null,
      "id": "fd4ba611",
      "metadata": {
        "id": "fd4ba611",
        "outputId": "2bacf66b-e5d7-46a3-ecb5-53bb90c3cf07"
      },
      "outputs": [
        {
          "name": "stdout",
          "output_type": "stream",
          "text": [
            "[[[0.10843373]\n",
            "  [0.15662651]\n",
            "  [0.18072289]\n",
            "  [0.1686747 ]\n",
            "  [0.12048193]\n",
            "  [0.13253012]\n",
            "  [0.13253012]\n",
            "  [0.1686747 ]\n",
            "  [0.15662651]\n",
            "  [0.14457831]\n",
            "  [0.15662651]\n",
            "  [0.18072289]\n",
            "  [0.21686747]\n",
            "  [0.26506024]\n",
            "  [0.30120482]\n",
            "  [0.3373494 ]\n",
            "  [0.43373494]\n",
            "  [0.44578313]\n",
            "  [0.5060241 ]\n",
            "  [0.51807229]\n",
            "  [0.4939759 ]\n",
            "  [0.65060241]\n",
            "  [0.46987952]\n",
            "  [0.4939759 ]\n",
            "  [0.48192771]\n",
            "  [0.46987952]\n",
            "  [0.45783133]\n",
            "  [0.39759036]\n",
            "  [0.36144578]\n",
            "  [0.34939759]\n",
            "  [0.30120482]\n",
            "  [0.24096386]\n",
            "  [0.22891566]\n",
            "  [0.20481928]\n",
            "  [0.20481928]\n",
            "  [0.21686747]]\n",
            "\n",
            " [[0.15662651]\n",
            "  [0.18072289]\n",
            "  [0.1686747 ]\n",
            "  [0.12048193]\n",
            "  [0.13253012]\n",
            "  [0.13253012]\n",
            "  [0.1686747 ]\n",
            "  [0.15662651]\n",
            "  [0.14457831]\n",
            "  [0.15662651]\n",
            "  [0.18072289]\n",
            "  [0.21686747]\n",
            "  [0.26506024]\n",
            "  [0.30120482]\n",
            "  [0.3373494 ]\n",
            "  [0.43373494]\n",
            "  [0.44578313]\n",
            "  [0.5060241 ]\n",
            "  [0.51807229]\n",
            "  [0.4939759 ]\n",
            "  [0.65060241]\n",
            "  [0.46987952]\n",
            "  [0.4939759 ]\n",
            "  [0.48192771]\n",
            "  [0.46987952]\n",
            "  [0.45783133]\n",
            "  [0.39759036]\n",
            "  [0.36144578]\n",
            "  [0.34939759]\n",
            "  [0.30120482]\n",
            "  [0.24096386]\n",
            "  [0.22891566]\n",
            "  [0.20481928]\n",
            "  [0.20481928]\n",
            "  [0.21686747]\n",
            "  [0.14457831]]\n",
            "\n",
            " [[0.18072289]\n",
            "  [0.1686747 ]\n",
            "  [0.12048193]\n",
            "  [0.13253012]\n",
            "  [0.13253012]\n",
            "  [0.1686747 ]\n",
            "  [0.15662651]\n",
            "  [0.14457831]\n",
            "  [0.15662651]\n",
            "  [0.18072289]\n",
            "  [0.21686747]\n",
            "  [0.26506024]\n",
            "  [0.30120482]\n",
            "  [0.3373494 ]\n",
            "  [0.43373494]\n",
            "  [0.44578313]\n",
            "  [0.5060241 ]\n",
            "  [0.51807229]\n",
            "  [0.4939759 ]\n",
            "  [0.65060241]\n",
            "  [0.46987952]\n",
            "  [0.4939759 ]\n",
            "  [0.48192771]\n",
            "  [0.46987952]\n",
            "  [0.45783133]\n",
            "  [0.39759036]\n",
            "  [0.36144578]\n",
            "  [0.34939759]\n",
            "  [0.30120482]\n",
            "  [0.24096386]\n",
            "  [0.22891566]\n",
            "  [0.20481928]\n",
            "  [0.20481928]\n",
            "  [0.21686747]\n",
            "  [0.14457831]\n",
            "  [0.10843373]]\n",
            "\n",
            " [[0.1686747 ]\n",
            "  [0.12048193]\n",
            "  [0.13253012]\n",
            "  [0.13253012]\n",
            "  [0.1686747 ]\n",
            "  [0.15662651]\n",
            "  [0.14457831]\n",
            "  [0.15662651]\n",
            "  [0.18072289]\n",
            "  [0.21686747]\n",
            "  [0.26506024]\n",
            "  [0.30120482]\n",
            "  [0.3373494 ]\n",
            "  [0.43373494]\n",
            "  [0.44578313]\n",
            "  [0.5060241 ]\n",
            "  [0.51807229]\n",
            "  [0.4939759 ]\n",
            "  [0.65060241]\n",
            "  [0.46987952]\n",
            "  [0.4939759 ]\n",
            "  [0.48192771]\n",
            "  [0.46987952]\n",
            "  [0.45783133]\n",
            "  [0.39759036]\n",
            "  [0.36144578]\n",
            "  [0.34939759]\n",
            "  [0.30120482]\n",
            "  [0.24096386]\n",
            "  [0.22891566]\n",
            "  [0.20481928]\n",
            "  [0.20481928]\n",
            "  [0.21686747]\n",
            "  [0.14457831]\n",
            "  [0.10843373]\n",
            "  [0.10843373]]\n",
            "\n",
            " [[0.12048193]\n",
            "  [0.13253012]\n",
            "  [0.13253012]\n",
            "  [0.1686747 ]\n",
            "  [0.15662651]\n",
            "  [0.14457831]\n",
            "  [0.15662651]\n",
            "  [0.18072289]\n",
            "  [0.21686747]\n",
            "  [0.26506024]\n",
            "  [0.30120482]\n",
            "  [0.3373494 ]\n",
            "  [0.43373494]\n",
            "  [0.44578313]\n",
            "  [0.5060241 ]\n",
            "  [0.51807229]\n",
            "  [0.4939759 ]\n",
            "  [0.65060241]\n",
            "  [0.46987952]\n",
            "  [0.4939759 ]\n",
            "  [0.48192771]\n",
            "  [0.46987952]\n",
            "  [0.45783133]\n",
            "  [0.39759036]\n",
            "  [0.36144578]\n",
            "  [0.34939759]\n",
            "  [0.30120482]\n",
            "  [0.24096386]\n",
            "  [0.22891566]\n",
            "  [0.20481928]\n",
            "  [0.20481928]\n",
            "  [0.21686747]\n",
            "  [0.14457831]\n",
            "  [0.10843373]\n",
            "  [0.10843373]\n",
            "  [0.07228916]]\n",
            "\n",
            " [[0.13253012]\n",
            "  [0.13253012]\n",
            "  [0.1686747 ]\n",
            "  [0.15662651]\n",
            "  [0.14457831]\n",
            "  [0.15662651]\n",
            "  [0.18072289]\n",
            "  [0.21686747]\n",
            "  [0.26506024]\n",
            "  [0.30120482]\n",
            "  [0.3373494 ]\n",
            "  [0.43373494]\n",
            "  [0.44578313]\n",
            "  [0.5060241 ]\n",
            "  [0.51807229]\n",
            "  [0.4939759 ]\n",
            "  [0.65060241]\n",
            "  [0.46987952]\n",
            "  [0.4939759 ]\n",
            "  [0.48192771]\n",
            "  [0.46987952]\n",
            "  [0.45783133]\n",
            "  [0.39759036]\n",
            "  [0.36144578]\n",
            "  [0.34939759]\n",
            "  [0.30120482]\n",
            "  [0.24096386]\n",
            "  [0.22891566]\n",
            "  [0.20481928]\n",
            "  [0.20481928]\n",
            "  [0.21686747]\n",
            "  [0.14457831]\n",
            "  [0.10843373]\n",
            "  [0.10843373]\n",
            "  [0.07228916]\n",
            "  [0.06024096]]\n",
            "\n",
            " [[0.13253012]\n",
            "  [0.1686747 ]\n",
            "  [0.15662651]\n",
            "  [0.14457831]\n",
            "  [0.15662651]\n",
            "  [0.18072289]\n",
            "  [0.21686747]\n",
            "  [0.26506024]\n",
            "  [0.30120482]\n",
            "  [0.3373494 ]\n",
            "  [0.43373494]\n",
            "  [0.44578313]\n",
            "  [0.5060241 ]\n",
            "  [0.51807229]\n",
            "  [0.4939759 ]\n",
            "  [0.65060241]\n",
            "  [0.46987952]\n",
            "  [0.4939759 ]\n",
            "  [0.48192771]\n",
            "  [0.46987952]\n",
            "  [0.45783133]\n",
            "  [0.39759036]\n",
            "  [0.36144578]\n",
            "  [0.34939759]\n",
            "  [0.30120482]\n",
            "  [0.24096386]\n",
            "  [0.22891566]\n",
            "  [0.20481928]\n",
            "  [0.20481928]\n",
            "  [0.21686747]\n",
            "  [0.14457831]\n",
            "  [0.10843373]\n",
            "  [0.10843373]\n",
            "  [0.07228916]\n",
            "  [0.06024096]\n",
            "  [0.08433735]]\n",
            "\n",
            " [[0.1686747 ]\n",
            "  [0.15662651]\n",
            "  [0.14457831]\n",
            "  [0.15662651]\n",
            "  [0.18072289]\n",
            "  [0.21686747]\n",
            "  [0.26506024]\n",
            "  [0.30120482]\n",
            "  [0.3373494 ]\n",
            "  [0.43373494]\n",
            "  [0.44578313]\n",
            "  [0.5060241 ]\n",
            "  [0.51807229]\n",
            "  [0.4939759 ]\n",
            "  [0.65060241]\n",
            "  [0.46987952]\n",
            "  [0.4939759 ]\n",
            "  [0.48192771]\n",
            "  [0.46987952]\n",
            "  [0.45783133]\n",
            "  [0.39759036]\n",
            "  [0.36144578]\n",
            "  [0.34939759]\n",
            "  [0.30120482]\n",
            "  [0.24096386]\n",
            "  [0.22891566]\n",
            "  [0.20481928]\n",
            "  [0.20481928]\n",
            "  [0.21686747]\n",
            "  [0.14457831]\n",
            "  [0.10843373]\n",
            "  [0.10843373]\n",
            "  [0.07228916]\n",
            "  [0.06024096]\n",
            "  [0.08433735]\n",
            "  [0.07228916]]\n",
            "\n",
            " [[0.15662651]\n",
            "  [0.14457831]\n",
            "  [0.15662651]\n",
            "  [0.18072289]\n",
            "  [0.21686747]\n",
            "  [0.26506024]\n",
            "  [0.30120482]\n",
            "  [0.3373494 ]\n",
            "  [0.43373494]\n",
            "  [0.44578313]\n",
            "  [0.5060241 ]\n",
            "  [0.51807229]\n",
            "  [0.4939759 ]\n",
            "  [0.65060241]\n",
            "  [0.46987952]\n",
            "  [0.4939759 ]\n",
            "  [0.48192771]\n",
            "  [0.46987952]\n",
            "  [0.45783133]\n",
            "  [0.39759036]\n",
            "  [0.36144578]\n",
            "  [0.34939759]\n",
            "  [0.30120482]\n",
            "  [0.24096386]\n",
            "  [0.22891566]\n",
            "  [0.20481928]\n",
            "  [0.20481928]\n",
            "  [0.21686747]\n",
            "  [0.14457831]\n",
            "  [0.10843373]\n",
            "  [0.10843373]\n",
            "  [0.07228916]\n",
            "  [0.06024096]\n",
            "  [0.08433735]\n",
            "  [0.07228916]\n",
            "  [0.07228916]]\n",
            "\n",
            " [[0.14457831]\n",
            "  [0.15662651]\n",
            "  [0.18072289]\n",
            "  [0.21686747]\n",
            "  [0.26506024]\n",
            "  [0.30120482]\n",
            "  [0.3373494 ]\n",
            "  [0.43373494]\n",
            "  [0.44578313]\n",
            "  [0.5060241 ]\n",
            "  [0.51807229]\n",
            "  [0.4939759 ]\n",
            "  [0.65060241]\n",
            "  [0.46987952]\n",
            "  [0.4939759 ]\n",
            "  [0.48192771]\n",
            "  [0.46987952]\n",
            "  [0.45783133]\n",
            "  [0.39759036]\n",
            "  [0.36144578]\n",
            "  [0.34939759]\n",
            "  [0.30120482]\n",
            "  [0.24096386]\n",
            "  [0.22891566]\n",
            "  [0.20481928]\n",
            "  [0.20481928]\n",
            "  [0.21686747]\n",
            "  [0.14457831]\n",
            "  [0.10843373]\n",
            "  [0.10843373]\n",
            "  [0.07228916]\n",
            "  [0.06024096]\n",
            "  [0.08433735]\n",
            "  [0.07228916]\n",
            "  [0.07228916]\n",
            "  [0.09638554]]\n",
            "\n",
            " [[0.15662651]\n",
            "  [0.18072289]\n",
            "  [0.21686747]\n",
            "  [0.26506024]\n",
            "  [0.30120482]\n",
            "  [0.3373494 ]\n",
            "  [0.43373494]\n",
            "  [0.44578313]\n",
            "  [0.5060241 ]\n",
            "  [0.51807229]\n",
            "  [0.4939759 ]\n",
            "  [0.65060241]\n",
            "  [0.46987952]\n",
            "  [0.4939759 ]\n",
            "  [0.48192771]\n",
            "  [0.46987952]\n",
            "  [0.45783133]\n",
            "  [0.39759036]\n",
            "  [0.36144578]\n",
            "  [0.34939759]\n",
            "  [0.30120482]\n",
            "  [0.24096386]\n",
            "  [0.22891566]\n",
            "  [0.20481928]\n",
            "  [0.20481928]\n",
            "  [0.21686747]\n",
            "  [0.14457831]\n",
            "  [0.10843373]\n",
            "  [0.10843373]\n",
            "  [0.07228916]\n",
            "  [0.06024096]\n",
            "  [0.08433735]\n",
            "  [0.07228916]\n",
            "  [0.07228916]\n",
            "  [0.09638554]\n",
            "  [0.12048193]]\n",
            "\n",
            " [[0.18072289]\n",
            "  [0.21686747]\n",
            "  [0.26506024]\n",
            "  [0.30120482]\n",
            "  [0.3373494 ]\n",
            "  [0.43373494]\n",
            "  [0.44578313]\n",
            "  [0.5060241 ]\n",
            "  [0.51807229]\n",
            "  [0.4939759 ]\n",
            "  [0.65060241]\n",
            "  [0.46987952]\n",
            "  [0.4939759 ]\n",
            "  [0.48192771]\n",
            "  [0.46987952]\n",
            "  [0.45783133]\n",
            "  [0.39759036]\n",
            "  [0.36144578]\n",
            "  [0.34939759]\n",
            "  [0.30120482]\n",
            "  [0.24096386]\n",
            "  [0.22891566]\n",
            "  [0.20481928]\n",
            "  [0.20481928]\n",
            "  [0.21686747]\n",
            "  [0.14457831]\n",
            "  [0.10843373]\n",
            "  [0.10843373]\n",
            "  [0.07228916]\n",
            "  [0.06024096]\n",
            "  [0.08433735]\n",
            "  [0.07228916]\n",
            "  [0.07228916]\n",
            "  [0.09638554]\n",
            "  [0.12048193]\n",
            "  [0.12048193]]\n",
            "\n",
            " [[0.21686747]\n",
            "  [0.26506024]\n",
            "  [0.30120482]\n",
            "  [0.3373494 ]\n",
            "  [0.43373494]\n",
            "  [0.44578313]\n",
            "  [0.5060241 ]\n",
            "  [0.51807229]\n",
            "  [0.4939759 ]\n",
            "  [0.65060241]\n",
            "  [0.46987952]\n",
            "  [0.4939759 ]\n",
            "  [0.48192771]\n",
            "  [0.46987952]\n",
            "  [0.45783133]\n",
            "  [0.39759036]\n",
            "  [0.36144578]\n",
            "  [0.34939759]\n",
            "  [0.30120482]\n",
            "  [0.24096386]\n",
            "  [0.22891566]\n",
            "  [0.20481928]\n",
            "  [0.20481928]\n",
            "  [0.21686747]\n",
            "  [0.14457831]\n",
            "  [0.10843373]\n",
            "  [0.10843373]\n",
            "  [0.07228916]\n",
            "  [0.06024096]\n",
            "  [0.08433735]\n",
            "  [0.07228916]\n",
            "  [0.07228916]\n",
            "  [0.09638554]\n",
            "  [0.12048193]\n",
            "  [0.12048193]\n",
            "  [0.07228916]]\n",
            "\n",
            " [[0.26506024]\n",
            "  [0.30120482]\n",
            "  [0.3373494 ]\n",
            "  [0.43373494]\n",
            "  [0.44578313]\n",
            "  [0.5060241 ]\n",
            "  [0.51807229]\n",
            "  [0.4939759 ]\n",
            "  [0.65060241]\n",
            "  [0.46987952]\n",
            "  [0.4939759 ]\n",
            "  [0.48192771]\n",
            "  [0.46987952]\n",
            "  [0.45783133]\n",
            "  [0.39759036]\n",
            "  [0.36144578]\n",
            "  [0.34939759]\n",
            "  [0.30120482]\n",
            "  [0.24096386]\n",
            "  [0.22891566]\n",
            "  [0.20481928]\n",
            "  [0.20481928]\n",
            "  [0.21686747]\n",
            "  [0.14457831]\n",
            "  [0.10843373]\n",
            "  [0.10843373]\n",
            "  [0.07228916]\n",
            "  [0.06024096]\n",
            "  [0.08433735]\n",
            "  [0.07228916]\n",
            "  [0.07228916]\n",
            "  [0.09638554]\n",
            "  [0.12048193]\n",
            "  [0.12048193]\n",
            "  [0.07228916]\n",
            "  [0.08433735]]\n",
            "\n",
            " [[0.30120482]\n",
            "  [0.3373494 ]\n",
            "  [0.43373494]\n",
            "  [0.44578313]\n",
            "  [0.5060241 ]\n",
            "  [0.51807229]\n",
            "  [0.4939759 ]\n",
            "  [0.65060241]\n",
            "  [0.46987952]\n",
            "  [0.4939759 ]\n",
            "  [0.48192771]\n",
            "  [0.46987952]\n",
            "  [0.45783133]\n",
            "  [0.39759036]\n",
            "  [0.36144578]\n",
            "  [0.34939759]\n",
            "  [0.30120482]\n",
            "  [0.24096386]\n",
            "  [0.22891566]\n",
            "  [0.20481928]\n",
            "  [0.20481928]\n",
            "  [0.21686747]\n",
            "  [0.14457831]\n",
            "  [0.10843373]\n",
            "  [0.10843373]\n",
            "  [0.07228916]\n",
            "  [0.06024096]\n",
            "  [0.08433735]\n",
            "  [0.07228916]\n",
            "  [0.07228916]\n",
            "  [0.09638554]\n",
            "  [0.12048193]\n",
            "  [0.12048193]\n",
            "  [0.07228916]\n",
            "  [0.08433735]\n",
            "  [0.07228916]]]\n"
          ]
        }
      ],
      "source": [
        "print(X)"
      ]
    },
    {
      "cell_type": "code",
      "execution_count": null,
      "id": "33e7aacc",
      "metadata": {
        "id": "33e7aacc",
        "outputId": "afbb800a-339e-4d00-e996-94c07d7de30b"
      },
      "outputs": [
        {
          "name": "stdout",
          "output_type": "stream",
          "text": [
            "[[0.14457831]\n",
            " [0.10843373]\n",
            " [0.10843373]\n",
            " [0.07228916]\n",
            " [0.06024096]\n",
            " [0.08433735]\n",
            " [0.07228916]\n",
            " [0.07228916]\n",
            " [0.09638554]\n",
            " [0.12048193]\n",
            " [0.12048193]\n",
            " [0.07228916]\n",
            " [0.08433735]\n",
            " [0.07228916]\n",
            " [0.04819277]]\n"
          ]
        }
      ],
      "source": [
        "print(y)"
      ]
    },
    {
      "cell_type": "markdown",
      "id": "a496dfc6",
      "metadata": {
        "id": "a496dfc6"
      },
      "source": [
        "# Build/Train/Test the Model\n",
        "\n",
        "## Build the LSTM Model"
      ]
    },
    {
      "cell_type": "code",
      "execution_count": null,
      "id": "5bc20df1",
      "metadata": {
        "id": "5bc20df1"
      },
      "outputs": [],
      "source": [
        "# Still only using the one feature: unemployment rate\n",
        "\n",
        "n_features = 1"
      ]
    },
    {
      "cell_type": "code",
      "execution_count": null,
      "id": "78f9f3b7",
      "metadata": {
        "id": "78f9f3b7",
        "outputId": "e552141b-a2f2-4ba3-9691-4022bb9d416a"
      },
      "outputs": [
        {
          "name": "stdout",
          "output_type": "stream",
          "text": [
            "WARNING:tensorflow:From /opt/conda/lib/python3.7/site-packages/tensorflow_core/python/ops/resource_variable_ops.py:1630: calling BaseResourceVariable.__init__ (from tensorflow.python.ops.resource_variable_ops) with constraint is deprecated and will be removed in a future version.\n",
            "Instructions for updating:\n",
            "If using Keras pass *_constraint arguments to layers.\n"
          ]
        }
      ],
      "source": [
        "# Define the model\n",
        "model = Sequential()\n",
        "\n",
        "# Add an LSTM layer\n",
        "# 36 LSTM cells\n",
        "# Activation function: relu\n",
        "# Must return_sequences = True\n",
        "# Changed the number of LSTM cells to 36, and increased Dropout rate to 0.2\n",
        "model.add(LSTM(36, activation = 'relu', return_sequences = True, input_shape = (length36, n_features)))\n",
        "\n",
        "# Dropout Layer \n",
        "model.add(Dropout(0.2))\n",
        "\n",
        "# Add 2nd LSTM layer\n",
        "model.add(LSTM(36, activation = 'relu', return_sequences = True))\n",
        "\n",
        "# Dropout Layer\n",
        "model.add(Dropout(0.2))\n",
        "\n",
        "# 3rd LSTM layer\n",
        "model.add(LSTM(36, activation = 'relu'))\n",
        "\n",
        "# Add a FC layer \n",
        "model.add(Dense(1))"
      ]
    },
    {
      "cell_type": "markdown",
      "id": "9ed24bc1",
      "metadata": {
        "id": "9ed24bc1"
      },
      "source": [
        "## Compile the Model"
      ]
    },
    {
      "cell_type": "code",
      "execution_count": null,
      "id": "5a9e9145",
      "metadata": {
        "id": "5a9e9145",
        "outputId": "f822c400-16d7-4f81-f266-209ce17e2abc"
      },
      "outputs": [
        {
          "name": "stdout",
          "output_type": "stream",
          "text": [
            "Model: \"sequential_1\"\n",
            "_________________________________________________________________\n",
            "Layer (type)                 Output Shape              Param #   \n",
            "=================================================================\n",
            "lstm (LSTM)                  (None, 36, 36)            5472      \n",
            "_________________________________________________________________\n",
            "dropout (Dropout)            (None, 36, 36)            0         \n",
            "_________________________________________________________________\n",
            "lstm_1 (LSTM)                (None, 36, 36)            10512     \n",
            "_________________________________________________________________\n",
            "dropout_1 (Dropout)          (None, 36, 36)            0         \n",
            "_________________________________________________________________\n",
            "lstm_2 (LSTM)                (None, 36)                10512     \n",
            "_________________________________________________________________\n",
            "dense (Dense)                (None, 1)                 37        \n",
            "=================================================================\n",
            "Total params: 26,533\n",
            "Trainable params: 26,533\n",
            "Non-trainable params: 0\n",
            "_________________________________________________________________\n"
          ]
        }
      ],
      "source": [
        "model.compile(optimizer = 'adam', loss = 'mse')\n",
        "\n",
        "model.summary()"
      ]
    },
    {
      "cell_type": "markdown",
      "id": "9fe30c94",
      "metadata": {
        "id": "9fe30c94"
      },
      "source": [
        "## Train/Fit the Model Using fit_generator( ) "
      ]
    },
    {
      "cell_type": "code",
      "execution_count": null,
      "id": "66bc8e18",
      "metadata": {
        "id": "66bc8e18",
        "outputId": "cfd77321-5ee7-4a89-c075-f63a97a192fd"
      },
      "outputs": [
        {
          "name": "stdout",
          "output_type": "stream",
          "text": [
            "Epoch 1/30\n",
            "WARNING:tensorflow:From /opt/conda/lib/python3.7/site-packages/tensorflow_core/python/ops/math_grad.py:1424: where (from tensorflow.python.ops.array_ops) is deprecated and will be removed in a future version.\n",
            "Instructions for updating:\n",
            "Use tf.where in 2.0, which has the same broadcast rule as np.where\n",
            "WARNING:tensorflow:OMP_NUM_THREADS is no longer used by the default Keras config. To configure the number of threads, use tf.config.threading APIs.\n"
          ]
        },
        {
          "name": "stderr",
          "output_type": "stream",
          "text": [
            "\n",
            "User settings:\n",
            "\n",
            "   KMP_AFFINITY=granularity=fine,verbose,compact,1,0\n",
            "   KMP_BLOCKTIME=0\n",
            "   KMP_DUPLICATE_LIB_OK=True\n",
            "   KMP_INIT_AT_FORK=FALSE\n",
            "   KMP_SETTINGS=1\n",
            "   OMP_NUM_THREADS=8\n",
            "\n",
            "Effective settings:\n",
            "\n",
            "   KMP_ABORT_DELAY=0\n",
            "   KMP_ADAPTIVE_LOCK_PROPS='1,1024'\n",
            "   KMP_ALIGN_ALLOC=64\n",
            "   KMP_ALL_THREADPRIVATE=128\n",
            "   KMP_ATOMIC_MODE=2\n",
            "   KMP_BLOCKTIME=0\n",
            "   KMP_CPUINFO_FILE: value is not defined\n",
            "   KMP_DETERMINISTIC_REDUCTION=false\n",
            "   KMP_DEVICE_THREAD_LIMIT=2147483647\n",
            "   KMP_DISP_HAND_THREAD=false\n",
            "   KMP_DISP_NUM_BUFFERS=7\n",
            "   KMP_DUPLICATE_LIB_OK=true\n",
            "   KMP_FORCE_REDUCTION: value is not defined\n",
            "   KMP_FOREIGN_THREADS_THREADPRIVATE=true\n",
            "   KMP_FORKJOIN_BARRIER='2,2'\n",
            "   KMP_FORKJOIN_BARRIER_PATTERN='hyper,hyper'\n",
            "   KMP_FORKJOIN_FRAMES=true\n",
            "   KMP_FORKJOIN_FRAMES_MODE=3\n",
            "   KMP_GTID_MODE=3\n",
            "   KMP_HANDLE_SIGNALS=false\n",
            "   KMP_HOT_TEAMS_MAX_LEVEL=1\n",
            "   KMP_HOT_TEAMS_MODE=0\n",
            "   KMP_INIT_AT_FORK=true\n",
            "   KMP_ITT_PREPARE_DELAY=0\n",
            "   KMP_LIBRARY=throughput\n",
            "   KMP_LOCK_KIND=queuing\n",
            "   KMP_MALLOC_POOL_INCR=1M\n",
            "   KMP_MWAIT_HINTS=0\n",
            "   KMP_NUM_LOCKS_IN_BLOCK=1\n",
            "   KMP_PLAIN_BARRIER='2,2'\n",
            "   KMP_PLAIN_BARRIER_PATTERN='hyper,hyper'\n",
            "   KMP_REDUCTION_BARRIER='1,1'\n",
            "   KMP_REDUCTION_BARRIER_PATTERN='hyper,hyper'\n",
            "   KMP_SCHEDULE='static,balanced;guided,iterative'\n",
            "   KMP_SETTINGS=true\n",
            "   KMP_SPIN_BACKOFF_PARAMS='4096,100'\n",
            "   KMP_STACKOFFSET=64\n",
            "   KMP_STACKPAD=0\n",
            "   KMP_STACKSIZE=8M\n",
            "   KMP_STORAGE_MAP=false\n",
            "   KMP_TASKING=2\n",
            "   KMP_TASKLOOP_MIN_TASKS=0\n",
            "   KMP_TASK_STEALING_CONSTRAINT=1\n",
            "   KMP_TEAMS_THREAD_LIMIT=8\n",
            "   KMP_TOPOLOGY_METHOD=all\n",
            "   KMP_USER_LEVEL_MWAIT=false\n",
            "   KMP_USE_YIELD=1\n",
            "   KMP_VERSION=false\n",
            "   KMP_WARNINGS=true\n",
            "   OMP_AFFINITY_FORMAT='OMP: pid %P tid %i thread %n bound to OS proc set {%A}'\n",
            "   OMP_ALLOCATOR=omp_default_mem_alloc\n",
            "   OMP_CANCELLATION=false\n",
            "   OMP_DEBUG=disabled\n",
            "   OMP_DEFAULT_DEVICE=0\n",
            "   OMP_DISPLAY_AFFINITY=false\n",
            "   OMP_DISPLAY_ENV=false\n",
            "   OMP_DYNAMIC=false\n",
            "   OMP_MAX_ACTIVE_LEVELS=2147483647\n",
            "   OMP_MAX_TASK_PRIORITY=0\n",
            "   OMP_NESTED=false\n",
            "   OMP_NUM_THREADS='8'\n",
            "   OMP_PLACES: value is not defined\n",
            "   OMP_PROC_BIND='intel'\n",
            "   OMP_SCHEDULE='static'\n",
            "   OMP_STACKSIZE=8M\n",
            "   OMP_TARGET_OFFLOAD=DEFAULT\n",
            "   OMP_THREAD_LIMIT=2147483647\n",
            "   OMP_TOOL=enabled\n",
            "   OMP_TOOL_LIBRARIES: value is not defined\n",
            "   OMP_WAIT_POLICY=PASSIVE\n",
            "   KMP_AFFINITY='verbose,warnings,respect,granularity=fine,compact,1,0'\n",
            "\n",
            "2022-03-01 21:42:24.975686: I tensorflow/core/platform/profile_utils/cpu_utils.cc:94] CPU Frequency: 2299995000 Hz\n",
            "2022-03-01 21:42:24.977208: I tensorflow/compiler/xla/service/service.cc:168] XLA service 0x55657d11bd90 initialized for platform Host (this does not guarantee that XLA will be used). Devices:\n",
            "2022-03-01 21:42:24.977243: I tensorflow/compiler/xla/service/service.cc:176]   StreamExecutor device (0): Host, Default Version\n",
            "2022-03-01 21:42:24.977397: I tensorflow/core/common_runtime/process_util.cc:136] Creating new thread pool with default inter op setting: 2. Tune using inter_op_parallelism_threads for best performance.\n",
            "OMP: Info #212: KMP_AFFINITY: decoding x2APIC ids.\n",
            "OMP: Info #210: KMP_AFFINITY: Affinity capable, using global cpuid leaf 11 info\n",
            "OMP: Info #154: KMP_AFFINITY: Initial OS proc set respected: 0-7\n",
            "OMP: Info #156: KMP_AFFINITY: 8 available OS procs\n",
            "OMP: Info #157: KMP_AFFINITY: Uniform topology\n",
            "OMP: Info #179: KMP_AFFINITY: 1 packages x 4 cores/pkg x 2 threads/core (4 total cores)\n",
            "OMP: Info #214: KMP_AFFINITY: OS proc to physical thread map:\n",
            "OMP: Info #171: KMP_AFFINITY: OS proc 0 maps to package 0 core 0 thread 0 \n",
            "OMP: Info #171: KMP_AFFINITY: OS proc 4 maps to package 0 core 0 thread 1 \n",
            "OMP: Info #171: KMP_AFFINITY: OS proc 1 maps to package 0 core 1 thread 0 \n",
            "OMP: Info #171: KMP_AFFINITY: OS proc 5 maps to package 0 core 1 thread 1 \n",
            "OMP: Info #171: KMP_AFFINITY: OS proc 2 maps to package 0 core 2 thread 0 \n",
            "OMP: Info #171: KMP_AFFINITY: OS proc 6 maps to package 0 core 2 thread 1 \n",
            "OMP: Info #171: KMP_AFFINITY: OS proc 3 maps to package 0 core 3 thread 0 \n",
            "OMP: Info #171: KMP_AFFINITY: OS proc 7 maps to package 0 core 3 thread 1 \n",
            "OMP: Info #250: KMP_AFFINITY: pid 3453 tid 3653 thread 0 bound to OS proc set 0\n",
            "OMP: Info #250: KMP_AFFINITY: pid 3453 tid 3653 thread 1 bound to OS proc set 1\n",
            "OMP: Info #250: KMP_AFFINITY: pid 3453 tid 3654 thread 2 bound to OS proc set 2\n",
            "OMP: Info #250: KMP_AFFINITY: pid 3453 tid 3656 thread 3 bound to OS proc set 3\n",
            "OMP: Info #250: KMP_AFFINITY: pid 3453 tid 3657 thread 4 bound to OS proc set 4\n",
            "OMP: Info #250: KMP_AFFINITY: pid 3453 tid 3658 thread 5 bound to OS proc set 5\n",
            "OMP: Info #250: KMP_AFFINITY: pid 3453 tid 3659 thread 6 bound to OS proc set 6\n",
            "OMP: Info #250: KMP_AFFINITY: pid 3453 tid 3660 thread 7 bound to OS proc set 7\n",
            "OMP: Info #250: KMP_AFFINITY: pid 3453 tid 3661 thread 8 bound to OS proc set 0\n",
            "OMP: Info #250: KMP_AFFINITY: pid 3453 tid 3662 thread 9 bound to OS proc set 1\n",
            "OMP: Info #250: KMP_AFFINITY: pid 3453 tid 3663 thread 10 bound to OS proc set 2\n",
            "OMP: Info #250: KMP_AFFINITY: pid 3453 tid 3664 thread 11 bound to OS proc set 3\n",
            "OMP: Info #250: KMP_AFFINITY: pid 3453 tid 3665 thread 12 bound to OS proc set 4\n",
            "OMP: Info #250: KMP_AFFINITY: pid 3453 tid 3666 thread 13 bound to OS proc set 5\n",
            "OMP: Info #250: KMP_AFFINITY: pid 3453 tid 3667 thread 14 bound to OS proc set 6\n",
            "OMP: Info #250: KMP_AFFINITY: pid 3453 tid 3668 thread 15 bound to OS proc set 7\n",
            "OMP: Info #250: KMP_AFFINITY: pid 3453 tid 3669 thread 16 bound to OS proc set 0\n"
          ]
        },
        {
          "name": "stdout",
          "output_type": "stream",
          "text": [
            "51/51 [==============================] - 16s 320ms/step - loss: 0.0689\n",
            "Epoch 2/30\n",
            "51/51 [==============================] - 9s 186ms/step - loss: 0.0239\n",
            "Epoch 3/30\n",
            "51/51 [==============================] - 9s 184ms/step - loss: 0.0180\n",
            "Epoch 4/30\n",
            "51/51 [==============================] - 9s 181ms/step - loss: 0.0194\n",
            "Epoch 5/30\n",
            "51/51 [==============================] - 9s 183ms/step - loss: 0.0160\n",
            "Epoch 6/30\n",
            "51/51 [==============================] - 10s 187ms/step - loss: 0.0140\n",
            "Epoch 7/30\n",
            "51/51 [==============================] - 10s 187ms/step - loss: 0.0178\n",
            "Epoch 8/30\n",
            "51/51 [==============================] - 10s 188ms/step - loss: 0.0141\n",
            "Epoch 9/30\n",
            "51/51 [==============================] - 10s 191ms/step - loss: 0.0118\n",
            "Epoch 10/30\n",
            "51/51 [==============================] - 10s 189ms/step - loss: 0.0125\n",
            "Epoch 11/30\n",
            "51/51 [==============================] - 10s 188ms/step - loss: 0.0099\n",
            "Epoch 12/30\n",
            "51/51 [==============================] - 10s 197ms/step - loss: 0.0080\n",
            "Epoch 13/30\n",
            "51/51 [==============================] - 10s 198ms/step - loss: 0.0093\n",
            "Epoch 14/30\n",
            "51/51 [==============================] - 10s 190ms/step - loss: 0.0081\n",
            "Epoch 15/30\n",
            "51/51 [==============================] - 10s 188ms/step - loss: 0.0072\n",
            "Epoch 16/30\n",
            "51/51 [==============================] - 10s 189ms/step - loss: 0.0067\n",
            "Epoch 17/30\n",
            "51/51 [==============================] - 10s 188ms/step - loss: 0.0065\n",
            "Epoch 18/30\n",
            "51/51 [==============================] - 10s 190ms/step - loss: 0.0058\n",
            "Epoch 19/30\n",
            "51/51 [==============================] - 10s 192ms/step - loss: 0.0067\n",
            "Epoch 20/30\n",
            "51/51 [==============================] - 10s 189ms/step - loss: 0.0066\n",
            "Epoch 21/30\n",
            "51/51 [==============================] - 10s 192ms/step - loss: 0.0070\n",
            "Epoch 22/30\n",
            "51/51 [==============================] - 10s 188ms/step - loss: 0.0051\n",
            "Epoch 23/30\n",
            "51/51 [==============================] - 10s 189ms/step - loss: 0.0049\n",
            "Epoch 24/30\n",
            "51/51 [==============================] - 10s 190ms/step - loss: 0.0051\n",
            "Epoch 25/30\n",
            "51/51 [==============================] - 9s 185ms/step - loss: 0.0054\n",
            "Epoch 26/30\n",
            "51/51 [==============================] - 9s 184ms/step - loss: 0.0049\n",
            "Epoch 27/30\n",
            "51/51 [==============================] - 9s 186ms/step - loss: 0.0044\n",
            "Epoch 28/30\n",
            "51/51 [==============================] - 9s 185ms/step - loss: 0.0046\n",
            "Epoch 29/30\n",
            "51/51 [==============================] - 9s 186ms/step - loss: 0.0042\n",
            "Epoch 30/30\n",
            "51/51 [==============================] - 10s 188ms/step - loss: 0.0038\n"
          ]
        },
        {
          "data": {
            "text/plain": [
              "<tensorflow.python.keras.callbacks.History at 0x7f55787bf7d0>"
            ]
          },
          "execution_count": 38,
          "metadata": {},
          "output_type": "execute_result"
        }
      ],
      "source": [
        "# Train the model\n",
        "\n",
        "model.fit_generator(train_tsGenerator36, epochs = 30)"
      ]
    },
    {
      "cell_type": "markdown",
      "id": "0d886ff9",
      "metadata": {
        "id": "0d886ff9"
      },
      "source": [
        "# Visualize Model's Performance after Training"
      ]
    },
    {
      "cell_type": "code",
      "execution_count": null,
      "id": "2b8d97a7",
      "metadata": {
        "id": "2b8d97a7",
        "outputId": "9380179f-6b3e-488b-ab51-5d2945263eda"
      },
      "outputs": [
        {
          "data": {
            "text/plain": [
              "dict_keys(['loss'])"
            ]
          },
          "execution_count": 39,
          "metadata": {},
          "output_type": "execute_result"
        }
      ],
      "source": [
        "loss_history_keys = model.history.history.keys()\n",
        "\n",
        "# model.history.history is a dictionary\n",
        "# 'loss' is its key\n",
        "# 'loss' is the loss during the training\n",
        "\n",
        "loss_history_keys"
      ]
    },
    {
      "cell_type": "code",
      "execution_count": null,
      "id": "e67573cd",
      "metadata": {
        "id": "e67573cd",
        "outputId": "2bf0d0ba-7a0d-4004-c5eb-55625243d676"
      },
      "outputs": [
        {
          "data": {
            "text/plain": [
              "<AxesSubplot:>"
            ]
          },
          "execution_count": 40,
          "metadata": {},
          "output_type": "execute_result"
        },
        {
          "data": {
            "image/png": "[encoded data removed]",
            "text/plain": [
              "<Figure size 432x288 with 1 Axes>"
            ]
          },
          "metadata": {
            "needs_background": "light"
          },
          "output_type": "display_data"
        }
      ],
      "source": [
        "# load the loss data (model.history.history) into a dataframe\n",
        "df_model_loss = pd.DataFrame(model.history.history)\n",
        "\n",
        "# Visualize the loss data using the DataFrame.plot()\n",
        "df_model_loss.plot()"
      ]
    },
    {
      "cell_type": "markdown",
      "id": "3a79ce10",
      "metadata": {
        "id": "3a79ce10"
      },
      "source": [
        "# Prediction for Testing: Using Timeseries Generator"
      ]
    },
    {
      "cell_type": "markdown",
      "id": "ed69f51c",
      "metadata": {
        "id": "ed69f51c"
      },
      "source": [
        "## Create Timeseries Generator for Testing"
      ]
    },
    {
      "cell_type": "code",
      "execution_count": null,
      "id": "9a5a8662",
      "metadata": {
        "id": "9a5a8662"
      },
      "outputs": [],
      "source": [
        "# batch_size MUST be 1\n",
        "batch_size1 = 1\n",
        "\n",
        "# create a TimeseriesGenerator for testing: test_tsGenerator\n",
        "test_tsGenerator36 = TimeseriesGenerator(normalized_test, normalized_test, length = length36, batch_size = batch_size1)"
      ]
    },
    {
      "cell_type": "markdown",
      "id": "938bdbb0",
      "metadata": {
        "id": "938bdbb0"
      },
      "source": [
        "## Predict Future Data Points for Testing"
      ]
    },
    {
      "cell_type": "code",
      "execution_count": null,
      "id": "b7d0bfe9",
      "metadata": {
        "id": "b7d0bfe9"
      },
      "outputs": [],
      "source": [
        "normalized_prediction = model.predict_generator(test_tsGenerator36)"
      ]
    },
    {
      "cell_type": "code",
      "execution_count": null,
      "id": "dbd1b159",
      "metadata": {
        "id": "dbd1b159",
        "outputId": "1d5f15f6-ecf0-4c11-fa1a-8b1d2f69b6c2"
      },
      "outputs": [
        {
          "data": {
            "text/plain": [
              "array([[0.42143598],\n",
              "       [0.4142121 ],\n",
              "       [0.40554592],\n",
              "       [0.3972194 ],\n",
              "       [0.38854393],\n",
              "       [0.38130268],\n",
              "       [0.3744449 ],\n",
              "       [0.36731306],\n",
              "       [0.36046633],\n",
              "       [0.3565484 ],\n",
              "       [0.35316512],\n",
              "       [0.34890977],\n",
              "       [0.3430349 ],\n",
              "       [0.33534423],\n",
              "       [0.32693282],\n",
              "       [0.31994334],\n",
              "       [0.31439355],\n",
              "       [0.30863976],\n",
              "       [0.30357683],\n",
              "       [0.3005972 ],\n",
              "       [0.30079195],\n",
              "       [0.301094  ],\n",
              "       [0.30141327],\n",
              "       [0.30078337],\n",
              "       [0.30010054],\n",
              "       [0.30060467],\n",
              "       [0.30149898],\n",
              "       [0.30061153],\n",
              "       [0.29777494],\n",
              "       [0.2936224 ],\n",
              "       [0.28816167],\n",
              "       [0.2804676 ],\n",
              "       [0.27139714],\n",
              "       [0.2622765 ],\n",
              "       [0.25339884],\n",
              "       [0.24548952],\n",
              "       [0.23991284],\n",
              "       [0.23617262],\n",
              "       [0.2331723 ],\n",
              "       [0.23062807],\n",
              "       [0.22774401],\n",
              "       [0.2238263 ],\n",
              "       [0.2199686 ],\n",
              "       [0.21605639],\n",
              "       [0.2123751 ],\n",
              "       [0.20780401],\n",
              "       [0.20391728],\n",
              "       [0.1999337 ],\n",
              "       [0.1958985 ],\n",
              "       [0.19140762],\n",
              "       [0.18742125],\n",
              "       [0.18439831],\n",
              "       [0.18315345],\n",
              "       [0.18433084],\n",
              "       [0.18615626],\n",
              "       [0.18776472],\n",
              "       [0.18743934],\n",
              "       [0.18506576],\n",
              "       [0.181274  ],\n",
              "       [0.17752388],\n",
              "       [0.17451827],\n",
              "       [0.17124334],\n",
              "       [0.16819698],\n",
              "       [0.16564329],\n",
              "       [0.16370326],\n",
              "       [0.16175573],\n",
              "       [0.15968844],\n",
              "       [0.16339971],\n",
              "       [0.2514112 ],\n",
              "       [0.44640464],\n",
              "       [0.708828  ],\n",
              "       [0.96050024],\n",
              "       [1.0863266 ],\n",
              "       [1.0670179 ],\n",
              "       [0.96190774],\n",
              "       [0.83234626],\n",
              "       [0.7107757 ],\n",
              "       [0.6058348 ],\n",
              "       [0.5191795 ],\n",
              "       [0.4496095 ],\n",
              "       [0.39671984],\n",
              "       [0.35814273],\n",
              "       [0.3338718 ],\n",
              "       [0.31876153],\n",
              "       [0.3094857 ],\n",
              "       [0.3003328 ],\n",
              "       [0.28961337],\n",
              "       [0.27536818],\n",
              "       [0.25768152]], dtype=float32)"
            ]
          },
          "execution_count": 44,
          "metadata": {},
          "output_type": "execute_result"
        }
      ],
      "source": [
        "# prediction is a 2D numpy array with only one column\n",
        "normalized_prediction"
      ]
    },
    {
      "cell_type": "code",
      "execution_count": null,
      "id": "f7c24c02",
      "metadata": {
        "id": "f7c24c02",
        "outputId": "b4b816b3-1e68-46db-a90d-1ac765d5595a"
      },
      "outputs": [
        {
          "data": {
            "text/plain": [
              "89"
            ]
          },
          "execution_count": 45,
          "metadata": {},
          "output_type": "execute_result"
        }
      ],
      "source": [
        "len(normalized_prediction)"
      ]
    },
    {
      "cell_type": "code",
      "execution_count": null,
      "id": "28a4aabb",
      "metadata": {
        "id": "28a4aabb"
      },
      "outputs": [],
      "source": [
        "# Convert normalized predictions back to true values\n",
        "prediction = scaler.inverse_transform(normalized_prediction)"
      ]
    },
    {
      "cell_type": "code",
      "execution_count": null,
      "id": "09efdeb0",
      "metadata": {
        "id": "09efdeb0"
      },
      "outputs": [],
      "source": [
        "# Flatten the 2D array\n",
        "\n",
        "prediction_index = np.arange(800, 889, step = 1)\n",
        "\n",
        "df_prediction = pd.DataFrame(data = prediction, index = prediction_index, columns = ['Prediction'])"
      ]
    },
    {
      "cell_type": "code",
      "execution_count": null,
      "id": "4654f8af",
      "metadata": {
        "id": "4654f8af",
        "outputId": "a701fc63-0494-4008-c04c-1858c7942e1c"
      },
      "outputs": [
        {
          "data": {
            "text/html": [
              "<div>\n",
              "<style scoped>\n",
              "    .dataframe tbody tr th:only-of-type {\n",
              "        vertical-align: middle;\n",
              "    }\n",
              "\n",
              "    .dataframe tbody tr th {\n",
              "        vertical-align: top;\n",
              "    }\n",
              "\n",
              "    .dataframe thead th {\n",
              "        text-align: right;\n",
              "    }\n",
              "</style>\n",
              "<table border=\"1\" class=\"dataframe\">\n",
              "  <thead>\n",
              "    <tr style=\"text-align: right;\">\n",
              "      <th></th>\n",
              "      <th>Prediction</th>\n",
              "    </tr>\n",
              "  </thead>\n",
              "  <tbody>\n",
              "    <tr>\n",
              "      <th>800</th>\n",
              "      <td>5.997919</td>\n",
              "    </tr>\n",
              "    <tr>\n",
              "      <th>801</th>\n",
              "      <td>5.937960</td>\n",
              "    </tr>\n",
              "    <tr>\n",
              "      <th>802</th>\n",
              "      <td>5.866031</td>\n",
              "    </tr>\n",
              "    <tr>\n",
              "      <th>803</th>\n",
              "      <td>5.796921</td>\n",
              "    </tr>\n",
              "    <tr>\n",
              "      <th>804</th>\n",
              "      <td>5.724915</td>\n",
              "    </tr>\n",
              "    <tr>\n",
              "      <th>...</th>\n",
              "      <td>...</td>\n",
              "    </tr>\n",
              "    <tr>\n",
              "      <th>884</th>\n",
              "      <td>5.068731</td>\n",
              "    </tr>\n",
              "    <tr>\n",
              "      <th>885</th>\n",
              "      <td>4.992763</td>\n",
              "    </tr>\n",
              "    <tr>\n",
              "      <th>886</th>\n",
              "      <td>4.903791</td>\n",
              "    </tr>\n",
              "    <tr>\n",
              "      <th>887</th>\n",
              "      <td>4.785556</td>\n",
              "    </tr>\n",
              "    <tr>\n",
              "      <th>888</th>\n",
              "      <td>4.638757</td>\n",
              "    </tr>\n",
              "  </tbody>\n",
              "</table>\n",
              "<p>89 rows × 1 columns</p>\n",
              "</div>"
            ],
            "text/plain": [
              "     Prediction\n",
              "800    5.997919\n",
              "801    5.937960\n",
              "802    5.866031\n",
              "803    5.796921\n",
              "804    5.724915\n",
              "..          ...\n",
              "884    5.068731\n",
              "885    4.992763\n",
              "886    4.903791\n",
              "887    4.785556\n",
              "888    4.638757\n",
              "\n",
              "[89 rows x 1 columns]"
            ]
          },
          "execution_count": 48,
          "metadata": {},
          "output_type": "execute_result"
        }
      ],
      "source": [
        "df_prediction"
      ]
    },
    {
      "cell_type": "markdown",
      "id": "746a7baf",
      "metadata": {
        "id": "746a7baf"
      },
      "source": [
        "## Visualize Predictions"
      ]
    },
    {
      "cell_type": "code",
      "execution_count": null,
      "id": "7222b90f",
      "metadata": {
        "id": "7222b90f",
        "outputId": "ebb65f72-fe3e-47a4-eea9-d2b50834b8ba"
      },
      "outputs": [
        {
          "data": {
            "text/plain": [
              "<AxesSubplot:>"
            ]
          },
          "execution_count": 49,
          "metadata": {},
          "output_type": "execute_result"
        },
        {
          "data": {
            "image/png": "[encoded data removed]",
            "text/plain": [
              "<Figure size 576x864 with 1 Axes>"
            ]
          },
          "metadata": {
            "needs_background": "light"
          },
          "output_type": "display_data"
        }
      ],
      "source": [
        "ax = data_train.plot()\n",
        "\n",
        "df_prediction.plot(ax = ax, figsize = (8,12))"
      ]
    },
    {
      "cell_type": "markdown",
      "id": "cdcc5432",
      "metadata": {
        "id": "cdcc5432"
      },
      "source": [
        "## Visualize Predictions and Compare Against Actual Unemployment Rate"
      ]
    },
    {
      "cell_type": "code",
      "execution_count": null,
      "id": "f52620fa",
      "metadata": {
        "id": "f52620fa",
        "outputId": "b056ae8c-45a4-4961-a4c2-09d6d630a4d6"
      },
      "outputs": [
        {
          "data": {
            "text/plain": [
              "<AxesSubplot:>"
            ]
          },
          "execution_count": 50,
          "metadata": {},
          "output_type": "execute_result"
        },
        {
          "data": {
            "image/png": "[encoded data removed]",
            "text/plain": [
              "<Figure size 576x864 with 1 Axes>"
            ]
          },
          "metadata": {
            "needs_background": "light"
          },
          "output_type": "display_data"
        }
      ],
      "source": [
        "ax = df.plot()\n",
        "df_prediction.plot(ax = ax, figsize = (8,12))"
      ]
    },
    {
      "cell_type": "markdown",
      "id": "4ea6e5a0",
      "metadata": {
        "id": "4ea6e5a0"
      },
      "source": [
        "# Timeseries Forecasting with LSTM"
      ]
    },
    {
      "cell_type": "markdown",
      "id": "c5f88b0c",
      "metadata": {
        "id": "c5f88b0c"
      },
      "source": [
        "## Overview:\n",
        "### Timeseries Forecasting:\n",
        "### --) Forecast into the \"future\" or unknown range¶\n",
        "### --) Should employ all of the available data\n",
        "### --) i.e., NOT split the data into training/testing sets"
      ]
    },
    {
      "cell_type": "markdown",
      "id": "c4b334ef",
      "metadata": {
        "id": "c4b334ef"
      },
      "source": [
        "## Preprocess Full Input Dataset"
      ]
    },
    {
      "cell_type": "code",
      "execution_count": null,
      "id": "55d67a10",
      "metadata": {
        "id": "55d67a10"
      },
      "outputs": [],
      "source": [
        "# Still use the MinMaxScaler to normalize the full input dataset df\n",
        "\n",
        "full_scaler = MinMaxScaler()\n",
        "normalized_full_data = full_scaler.fit_transform(df)"
      ]
    },
    {
      "cell_type": "markdown",
      "id": "342be07f",
      "metadata": {
        "id": "342be07f"
      },
      "source": [
        "## Create Timeseries Generator for Forecasting"
      ]
    },
    {
      "cell_type": "code",
      "execution_count": null,
      "id": "e7e3ed7d",
      "metadata": {
        "id": "e7e3ed7d",
        "outputId": "e016bc5a-109b-45a8-cdba-0b036db0a272"
      },
      "outputs": [
        {
          "data": {
            "text/plain": [
              "36"
            ]
          },
          "execution_count": 52,
          "metadata": {},
          "output_type": "execute_result"
        }
      ],
      "source": [
        "# Number of time steps of the input time series\n",
        "# still use length36\n",
        "length36"
      ]
    },
    {
      "cell_type": "code",
      "execution_count": null,
      "id": "ded5dee6",
      "metadata": {
        "id": "ded5dee6"
      },
      "outputs": [],
      "source": [
        "# Create timeseries Generator for forecasting\n",
        "forecast_tsGenerator = TimeseriesGenerator(normalized_full_data, normalized_full_data, length = length36, batch_size = batch_size15)"
      ]
    },
    {
      "cell_type": "markdown",
      "id": "f4b25abc",
      "metadata": {
        "id": "f4b25abc"
      },
      "source": [
        "## Build, Compile, Fit LSTM Model for Forecasting"
      ]
    },
    {
      "cell_type": "code",
      "execution_count": null,
      "id": "841c224e",
      "metadata": {
        "id": "841c224e",
        "outputId": "a55ad2a4-857a-40b6-ef74-a762140343a7"
      },
      "outputs": [
        {
          "name": "stdout",
          "output_type": "stream",
          "text": [
            "Epoch 1/30\n",
            "57/57 [==============================] - 11s 186ms/step - loss: 0.0043\n",
            "Epoch 2/30\n",
            "57/57 [==============================] - 10s 184ms/step - loss: 0.0042\n",
            "Epoch 3/30\n",
            "57/57 [==============================] - 10s 183ms/step - loss: 0.0041\n",
            "Epoch 4/30\n",
            "57/57 [==============================] - 10s 181ms/step - loss: 0.0038\n",
            "Epoch 5/30\n",
            "57/57 [==============================] - 10s 181ms/step - loss: 0.0039\n",
            "Epoch 6/30\n",
            "57/57 [==============================] - 10s 183ms/step - loss: 0.0042\n",
            "Epoch 7/30\n",
            "57/57 [==============================] - 10s 182ms/step - loss: 0.0037\n",
            "Epoch 8/30\n",
            "57/57 [==============================] - 10s 183ms/step - loss: 0.0037\n",
            "Epoch 9/30\n",
            "57/57 [==============================] - 11s 184ms/step - loss: 0.0039\n",
            "Epoch 10/30\n",
            "57/57 [==============================] - 11s 186ms/step - loss: 0.0039\n",
            "Epoch 11/30\n",
            "57/57 [==============================] - 11s 186ms/step - loss: 0.0037\n",
            "Epoch 12/30\n",
            "57/57 [==============================] - 11s 186ms/step - loss: 0.0035\n",
            "Epoch 13/30\n",
            "57/57 [==============================] - 11s 187ms/step - loss: 0.0034\n",
            "Epoch 14/30\n",
            "57/57 [==============================] - 11s 186ms/step - loss: 0.0036\n",
            "Epoch 15/30\n",
            "57/57 [==============================] - 11s 189ms/step - loss: 0.0034\n",
            "Epoch 16/30\n",
            "57/57 [==============================] - 11s 187ms/step - loss: 0.0032\n",
            "Epoch 17/30\n",
            "57/57 [==============================] - 11s 186ms/step - loss: 0.0032\n",
            "Epoch 18/30\n",
            "57/57 [==============================] - 11s 188ms/step - loss: 0.0033\n",
            "Epoch 19/30\n",
            "57/57 [==============================] - 11s 187ms/step - loss: 0.0030\n",
            "Epoch 20/30\n",
            "57/57 [==============================] - 11s 188ms/step - loss: 0.0033\n",
            "Epoch 21/30\n",
            "57/57 [==============================] - 11s 201ms/step - loss: 0.0030\n",
            "Epoch 22/30\n",
            "57/57 [==============================] - 12s 202ms/step - loss: 0.0030\n",
            "Epoch 23/30\n",
            "57/57 [==============================] - 11s 191ms/step - loss: 0.0030\n",
            "Epoch 24/30\n",
            "57/57 [==============================] - 11s 194ms/step - loss: 0.0028\n",
            "Epoch 25/30\n",
            "57/57 [==============================] - 11s 190ms/step - loss: 0.0030\n",
            "Epoch 26/30\n",
            "57/57 [==============================] - 11s 191ms/step - loss: 0.0030\n",
            "Epoch 27/30\n",
            "57/57 [==============================] - 11s 193ms/step - loss: 0.0029\n",
            "Epoch 28/30\n",
            "57/57 [==============================] - 11s 191ms/step - loss: 0.0028\n",
            "Epoch 29/30\n",
            "57/57 [==============================] - 11s 191ms/step - loss: 0.0025\n",
            "Epoch 30/30\n",
            "57/57 [==============================] - 11s 191ms/step - loss: 0.0027\n"
          ]
        },
        {
          "data": {
            "text/plain": [
              "<tensorflow.python.keras.callbacks.History at 0x7f5573f34a50>"
            ]
          },
          "execution_count": 54,
          "metadata": {},
          "output_type": "execute_result"
        }
      ],
      "source": [
        "# Train/Fit the LSTM model\n",
        "# In forecasting, we don't validate\n",
        "\n",
        "model.fit_generator(forecast_tsGenerator, epochs = 30)"
      ]
    },
    {
      "cell_type": "markdown",
      "id": "06130dc5",
      "metadata": {
        "id": "06130dc5"
      },
      "source": [
        "# Timeseries Forecast with LSTM Neural Network: 02/01/2022 - 02/01/2026"
      ]
    },
    {
      "cell_type": "code",
      "execution_count": null,
      "id": "453f7272",
      "metadata": {
        "id": "453f7272"
      },
      "outputs": [],
      "source": [
        "forecast = []\n",
        "\n",
        "# Set periods with the time span of forecasting \n",
        "# Let's forecast for the next 48 data points = 4 years (02/01/2022 - 02/01/2026)\n",
        "periods = 48\n",
        "\n",
        "first_eval_batch = normalized_full_data[-length36: ]\n",
        "current_batch = first_eval_batch.reshape((1, length36, n_features))\n",
        "\n",
        "for i in range(periods):\n",
        "    # Get prediction 1 time stamp ahead ([0] is for grabbing just the # instead of whole array)\n",
        "    current_pred = model.predict(current_batch)[0]\n",
        "    \n",
        "    # Store prediction\n",
        "    forecast.append(current_pred)\n",
        "    \n",
        "    # Update batch to now include prediction and drop the first value\n",
        "    current_batch = np.append(current_batch[ : , 1: , : ], [[current_pred]], axis = 1)"
      ]
    },
    {
      "cell_type": "markdown",
      "id": "c0c4bd49",
      "metadata": {
        "id": "c0c4bd49"
      },
      "source": [
        "## Inverse to Transform Normalized Data Back into True Values"
      ]
    },
    {
      "cell_type": "code",
      "execution_count": null,
      "id": "a07646d7",
      "metadata": {
        "id": "a07646d7",
        "outputId": "e388f480-4f66-4c8a-eb7f-66314d8672e2"
      },
      "outputs": [
        {
          "data": {
            "text/plain": [
              "array([[4.37257372],\n",
              "       [4.25224271],\n",
              "       [4.23008036],\n",
              "       [4.27626135],\n",
              "       [4.36517452],\n",
              "       [4.48298023],\n",
              "       [4.62248107],\n",
              "       [4.77841829],\n",
              "       [4.94687058],\n",
              "       [5.12341617],\n",
              "       [5.30102853],\n",
              "       [5.47413839],\n",
              "       [5.63766806],\n",
              "       [5.78686471],\n",
              "       [5.91772161],\n",
              "       [6.02715588],\n",
              "       [6.11647571],\n",
              "       [6.18392571],\n",
              "       [6.22691858],\n",
              "       [6.24448062],\n",
              "       [6.23722267],\n",
              "       [6.20654818],\n",
              "       [6.15478483],\n",
              "       [6.08502532],\n",
              "       [6.00097533],\n",
              "       [5.90665979],\n",
              "       [5.80628251],\n",
              "       [5.7039473 ],\n",
              "       [5.60356638],\n",
              "       [5.50864655],\n",
              "       [5.42223651],\n",
              "       [5.34683666],\n",
              "       [5.28472522],\n",
              "       [5.2373373 ],\n",
              "       [5.20545897],\n",
              "       [5.18933637],\n",
              "       [5.18870155],\n",
              "       [5.20283241],\n",
              "       [5.23061237],\n",
              "       [5.27055619],\n",
              "       [5.32087972],\n",
              "       [5.3795547 ],\n",
              "       [5.44437541],\n",
              "       [5.51300616],\n",
              "       [5.58305709],\n",
              "       [5.65214105],\n",
              "       [5.71799381],\n",
              "       [5.7787865 ]])"
            ]
          },
          "execution_count": 57,
          "metadata": {},
          "output_type": "execute_result"
        }
      ],
      "source": [
        "forecast = full_scaler.inverse_transform(forecast)\n",
        "\n",
        "forecast"
      ]
    },
    {
      "cell_type": "code",
      "execution_count": null,
      "id": "9aeb276d",
      "metadata": {
        "id": "9aeb276d",
        "outputId": "e21b9e6e-2e3c-455e-c932-8acb3166837e"
      },
      "outputs": [
        {
          "data": {
            "text/html": [
              "<div>\n",
              "<style scoped>\n",
              "    .dataframe tbody tr th:only-of-type {\n",
              "        vertical-align: middle;\n",
              "    }\n",
              "\n",
              "    .dataframe tbody tr th {\n",
              "        vertical-align: top;\n",
              "    }\n",
              "\n",
              "    .dataframe thead th {\n",
              "        text-align: right;\n",
              "    }\n",
              "</style>\n",
              "<table border=\"1\" class=\"dataframe\">\n",
              "  <thead>\n",
              "    <tr style=\"text-align: right;\">\n",
              "      <th></th>\n",
              "      <th>UNRATE</th>\n",
              "    </tr>\n",
              "  </thead>\n",
              "  <tbody>\n",
              "    <tr>\n",
              "      <th>0</th>\n",
              "      <td>3.4</td>\n",
              "    </tr>\n",
              "    <tr>\n",
              "      <th>1</th>\n",
              "      <td>3.8</td>\n",
              "    </tr>\n",
              "    <tr>\n",
              "      <th>2</th>\n",
              "      <td>4.0</td>\n",
              "    </tr>\n",
              "    <tr>\n",
              "      <th>3</th>\n",
              "      <td>3.9</td>\n",
              "    </tr>\n",
              "    <tr>\n",
              "      <th>4</th>\n",
              "      <td>3.5</td>\n",
              "    </tr>\n",
              "    <tr>\n",
              "      <th>...</th>\n",
              "      <td>...</td>\n",
              "    </tr>\n",
              "    <tr>\n",
              "      <th>884</th>\n",
              "      <td>4.7</td>\n",
              "    </tr>\n",
              "    <tr>\n",
              "      <th>885</th>\n",
              "      <td>4.6</td>\n",
              "    </tr>\n",
              "    <tr>\n",
              "      <th>886</th>\n",
              "      <td>4.2</td>\n",
              "    </tr>\n",
              "    <tr>\n",
              "      <th>887</th>\n",
              "      <td>3.9</td>\n",
              "    </tr>\n",
              "    <tr>\n",
              "      <th>888</th>\n",
              "      <td>4.0</td>\n",
              "    </tr>\n",
              "  </tbody>\n",
              "</table>\n",
              "<p>889 rows × 1 columns</p>\n",
              "</div>"
            ],
            "text/plain": [
              "     UNRATE\n",
              "0       3.4\n",
              "1       3.8\n",
              "2       4.0\n",
              "3       3.9\n",
              "4       3.5\n",
              "..      ...\n",
              "884     4.7\n",
              "885     4.6\n",
              "886     4.2\n",
              "887     3.9\n",
              "888     4.0\n",
              "\n",
              "[889 rows x 1 columns]"
            ]
          },
          "execution_count": 58,
          "metadata": {},
          "output_type": "execute_result"
        }
      ],
      "source": [
        "df"
      ]
    },
    {
      "cell_type": "markdown",
      "id": "225f56b6",
      "metadata": {
        "id": "225f56b6"
      },
      "source": [
        "## Creating New Timestamp Index with Pandas - 02/01/2022 - 02/01/2026"
      ]
    },
    {
      "cell_type": "code",
      "execution_count": null,
      "id": "158803cb",
      "metadata": {
        "id": "158803cb"
      },
      "outputs": [],
      "source": [
        "# Calculate forecast index \n",
        "forecast_index = np.arange(889, 937, step = 1)"
      ]
    },
    {
      "cell_type": "code",
      "execution_count": null,
      "id": "198725fd",
      "metadata": {
        "id": "198725fd"
      },
      "outputs": [],
      "source": [
        "forecast_df = pd.DataFrame(data = forecast, index = forecast_index, columns = ['Forecast'])"
      ]
    },
    {
      "cell_type": "code",
      "execution_count": null,
      "id": "fca8e4cc",
      "metadata": {
        "id": "fca8e4cc",
        "outputId": "32c88d92-4c6d-4243-f9d7-1f065a057f35"
      },
      "outputs": [
        {
          "data": {
            "text/html": [
              "<div>\n",
              "<style scoped>\n",
              "    .dataframe tbody tr th:only-of-type {\n",
              "        vertical-align: middle;\n",
              "    }\n",
              "\n",
              "    .dataframe tbody tr th {\n",
              "        vertical-align: top;\n",
              "    }\n",
              "\n",
              "    .dataframe thead th {\n",
              "        text-align: right;\n",
              "    }\n",
              "</style>\n",
              "<table border=\"1\" class=\"dataframe\">\n",
              "  <thead>\n",
              "    <tr style=\"text-align: right;\">\n",
              "      <th></th>\n",
              "      <th>Forecast</th>\n",
              "    </tr>\n",
              "  </thead>\n",
              "  <tbody>\n",
              "    <tr>\n",
              "      <th>889</th>\n",
              "      <td>4.372574</td>\n",
              "    </tr>\n",
              "    <tr>\n",
              "      <th>890</th>\n",
              "      <td>4.252243</td>\n",
              "    </tr>\n",
              "    <tr>\n",
              "      <th>891</th>\n",
              "      <td>4.230080</td>\n",
              "    </tr>\n",
              "    <tr>\n",
              "      <th>892</th>\n",
              "      <td>4.276261</td>\n",
              "    </tr>\n",
              "    <tr>\n",
              "      <th>893</th>\n",
              "      <td>4.365175</td>\n",
              "    </tr>\n",
              "    <tr>\n",
              "      <th>894</th>\n",
              "      <td>4.482980</td>\n",
              "    </tr>\n",
              "    <tr>\n",
              "      <th>895</th>\n",
              "      <td>4.622481</td>\n",
              "    </tr>\n",
              "    <tr>\n",
              "      <th>896</th>\n",
              "      <td>4.778418</td>\n",
              "    </tr>\n",
              "    <tr>\n",
              "      <th>897</th>\n",
              "      <td>4.946871</td>\n",
              "    </tr>\n",
              "    <tr>\n",
              "      <th>898</th>\n",
              "      <td>5.123416</td>\n",
              "    </tr>\n",
              "    <tr>\n",
              "      <th>899</th>\n",
              "      <td>5.301029</td>\n",
              "    </tr>\n",
              "    <tr>\n",
              "      <th>900</th>\n",
              "      <td>5.474138</td>\n",
              "    </tr>\n",
              "    <tr>\n",
              "      <th>901</th>\n",
              "      <td>5.637668</td>\n",
              "    </tr>\n",
              "    <tr>\n",
              "      <th>902</th>\n",
              "      <td>5.786865</td>\n",
              "    </tr>\n",
              "    <tr>\n",
              "      <th>903</th>\n",
              "      <td>5.917722</td>\n",
              "    </tr>\n",
              "    <tr>\n",
              "      <th>904</th>\n",
              "      <td>6.027156</td>\n",
              "    </tr>\n",
              "    <tr>\n",
              "      <th>905</th>\n",
              "      <td>6.116476</td>\n",
              "    </tr>\n",
              "    <tr>\n",
              "      <th>906</th>\n",
              "      <td>6.183926</td>\n",
              "    </tr>\n",
              "    <tr>\n",
              "      <th>907</th>\n",
              "      <td>6.226919</td>\n",
              "    </tr>\n",
              "    <tr>\n",
              "      <th>908</th>\n",
              "      <td>6.244481</td>\n",
              "    </tr>\n",
              "    <tr>\n",
              "      <th>909</th>\n",
              "      <td>6.237223</td>\n",
              "    </tr>\n",
              "    <tr>\n",
              "      <th>910</th>\n",
              "      <td>6.206548</td>\n",
              "    </tr>\n",
              "    <tr>\n",
              "      <th>911</th>\n",
              "      <td>6.154785</td>\n",
              "    </tr>\n",
              "    <tr>\n",
              "      <th>912</th>\n",
              "      <td>6.085025</td>\n",
              "    </tr>\n",
              "    <tr>\n",
              "      <th>913</th>\n",
              "      <td>6.000975</td>\n",
              "    </tr>\n",
              "    <tr>\n",
              "      <th>914</th>\n",
              "      <td>5.906660</td>\n",
              "    </tr>\n",
              "    <tr>\n",
              "      <th>915</th>\n",
              "      <td>5.806283</td>\n",
              "    </tr>\n",
              "    <tr>\n",
              "      <th>916</th>\n",
              "      <td>5.703947</td>\n",
              "    </tr>\n",
              "    <tr>\n",
              "      <th>917</th>\n",
              "      <td>5.603566</td>\n",
              "    </tr>\n",
              "    <tr>\n",
              "      <th>918</th>\n",
              "      <td>5.508647</td>\n",
              "    </tr>\n",
              "    <tr>\n",
              "      <th>919</th>\n",
              "      <td>5.422237</td>\n",
              "    </tr>\n",
              "    <tr>\n",
              "      <th>920</th>\n",
              "      <td>5.346837</td>\n",
              "    </tr>\n",
              "    <tr>\n",
              "      <th>921</th>\n",
              "      <td>5.284725</td>\n",
              "    </tr>\n",
              "    <tr>\n",
              "      <th>922</th>\n",
              "      <td>5.237337</td>\n",
              "    </tr>\n",
              "    <tr>\n",
              "      <th>923</th>\n",
              "      <td>5.205459</td>\n",
              "    </tr>\n",
              "    <tr>\n",
              "      <th>924</th>\n",
              "      <td>5.189336</td>\n",
              "    </tr>\n",
              "    <tr>\n",
              "      <th>925</th>\n",
              "      <td>5.188702</td>\n",
              "    </tr>\n",
              "    <tr>\n",
              "      <th>926</th>\n",
              "      <td>5.202832</td>\n",
              "    </tr>\n",
              "    <tr>\n",
              "      <th>927</th>\n",
              "      <td>5.230612</td>\n",
              "    </tr>\n",
              "    <tr>\n",
              "      <th>928</th>\n",
              "      <td>5.270556</td>\n",
              "    </tr>\n",
              "    <tr>\n",
              "      <th>929</th>\n",
              "      <td>5.320880</td>\n",
              "    </tr>\n",
              "    <tr>\n",
              "      <th>930</th>\n",
              "      <td>5.379555</td>\n",
              "    </tr>\n",
              "    <tr>\n",
              "      <th>931</th>\n",
              "      <td>5.444375</td>\n",
              "    </tr>\n",
              "    <tr>\n",
              "      <th>932</th>\n",
              "      <td>5.513006</td>\n",
              "    </tr>\n",
              "    <tr>\n",
              "      <th>933</th>\n",
              "      <td>5.583057</td>\n",
              "    </tr>\n",
              "    <tr>\n",
              "      <th>934</th>\n",
              "      <td>5.652141</td>\n",
              "    </tr>\n",
              "    <tr>\n",
              "      <th>935</th>\n",
              "      <td>5.717994</td>\n",
              "    </tr>\n",
              "    <tr>\n",
              "      <th>936</th>\n",
              "      <td>5.778787</td>\n",
              "    </tr>\n",
              "  </tbody>\n",
              "</table>\n",
              "</div>"
            ],
            "text/plain": [
              "     Forecast\n",
              "889  4.372574\n",
              "890  4.252243\n",
              "891  4.230080\n",
              "892  4.276261\n",
              "893  4.365175\n",
              "894  4.482980\n",
              "895  4.622481\n",
              "896  4.778418\n",
              "897  4.946871\n",
              "898  5.123416\n",
              "899  5.301029\n",
              "900  5.474138\n",
              "901  5.637668\n",
              "902  5.786865\n",
              "903  5.917722\n",
              "904  6.027156\n",
              "905  6.116476\n",
              "906  6.183926\n",
              "907  6.226919\n",
              "908  6.244481\n",
              "909  6.237223\n",
              "910  6.206548\n",
              "911  6.154785\n",
              "912  6.085025\n",
              "913  6.000975\n",
              "914  5.906660\n",
              "915  5.806283\n",
              "916  5.703947\n",
              "917  5.603566\n",
              "918  5.508647\n",
              "919  5.422237\n",
              "920  5.346837\n",
              "921  5.284725\n",
              "922  5.237337\n",
              "923  5.205459\n",
              "924  5.189336\n",
              "925  5.188702\n",
              "926  5.202832\n",
              "927  5.230612\n",
              "928  5.270556\n",
              "929  5.320880\n",
              "930  5.379555\n",
              "931  5.444375\n",
              "932  5.513006\n",
              "933  5.583057\n",
              "934  5.652141\n",
              "935  5.717994\n",
              "936  5.778787"
            ]
          },
          "execution_count": 61,
          "metadata": {},
          "output_type": "execute_result"
        }
      ],
      "source": [
        "forecast_df"
      ]
    },
    {
      "cell_type": "markdown",
      "id": "4300ec54",
      "metadata": {
        "id": "4300ec54"
      },
      "source": [
        "## Plot the Forecast"
      ]
    },
    {
      "cell_type": "code",
      "execution_count": null,
      "id": "7bcb4a04",
      "metadata": {
        "id": "7bcb4a04",
        "outputId": "1c519768-eb67-4c4c-870d-0f04005ce464"
      },
      "outputs": [
        {
          "data": {
            "text/plain": [
              "<AxesSubplot:>"
            ]
          },
          "execution_count": 62,
          "metadata": {},
          "output_type": "execute_result"
        },
        {
          "data": {
            "image/png": "[encoded data removed]",
            "text/plain": [
              "<Figure size 432x288 with 1 Axes>"
            ]
          },
          "metadata": {
            "needs_background": "light"
          },
          "output_type": "display_data"
        },
        {
          "data": {
            "image/png": "[encoded data removed]",
            "text/plain": [
              "<Figure size 432x288 with 1 Axes>"
            ]
          },
          "metadata": {
            "needs_background": "light"
          },
          "output_type": "display_data"
        }
      ],
      "source": [
        "df.plot()\n",
        "forecast_df.plot()"
      ]
    },
    {
      "cell_type": "markdown",
      "id": "fbc18ed6",
      "metadata": {
        "id": "fbc18ed6"
      },
      "source": [
        "## Joining Pandas Plots"
      ]
    },
    {
      "cell_type": "code",
      "execution_count": null,
      "id": "d397a877",
      "metadata": {
        "id": "d397a877",
        "outputId": "1a250983-7c52-48ce-c536-913a0b7278f9"
      },
      "outputs": [
        {
          "data": {
            "text/plain": [
              "<AxesSubplot:>"
            ]
          },
          "execution_count": 63,
          "metadata": {},
          "output_type": "execute_result"
        },
        {
          "data": {
            "image/png": "[encoded data removed]",
            "text/plain": [
              "<Figure size 864x576 with 1 Axes>"
            ]
          },
          "metadata": {
            "needs_background": "light"
          },
          "output_type": "display_data"
        }
      ],
      "source": [
        "ax = df.plot()\n",
        "forecast_df.plot(ax = ax, figsize = (12,8))"
      ]
    },
    {
      "cell_type": "code",
      "execution_count": null,
      "id": "c4f360f6",
      "metadata": {
        "id": "c4f360f6"
      },
      "outputs": [],
      "source": [
        ""
      ]
    }
  ],
  "metadata": {
    "kernelspec": {
      "display_name": "Python 3",
      "language": "python",
      "name": "python3"
    },
    "language_info": {
      "codemirror_mode": {
        "name": "ipython",
        "version": 3
      },
      "file_extension": ".py",
      "mimetype": "text/x-python",
      "name": "python",
      "nbconvert_exporter": "python",
      "pygments_lexer": "ipython3",
      "version": "3.7.12"
    },
    "colab": {
      "name": "LSTM_unemployment.ipynb",
      "provenance": [],
      "include_colab_link": true
    }
  },
  "nbformat": 4,
  "nbformat_minor": 5
}