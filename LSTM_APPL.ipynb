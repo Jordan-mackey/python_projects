{
  "cells": [
    {
      "cell_type": "markdown",
      "metadata": {
        "id": "view-in-github",
        "colab_type": "text"
      },
      "source": [
        "<a href=\"https://colab.research.google.com/github/Jordan-mackey/python_projects/blob/main/LSTM_APPL.ipynb\" target=\"_parent\"><img src=\"https://colab.research.google.com/assets/colab-badge.svg\" alt=\"Open In Colab\"/></a>"
      ]
    },
    {
      "cell_type": "markdown",
      "id": "eaea7171",
      "metadata": {
        "id": "eaea7171"
      },
      "source": [
        "# Import Libraries"
      ]
    },
    {
      "cell_type": "code",
      "execution_count": null,
      "id": "fe4250e0",
      "metadata": {
        "id": "fe4250e0"
      },
      "outputs": [],
      "source": [
        "import pandas as pd\n",
        "import numpy as np\n",
        "%matplotlib inline\n",
        "import matplotlib.pyplot as plt"
      ]
    },
    {
      "cell_type": "code",
      "execution_count": null,
      "id": "98c2b2dd",
      "metadata": {
        "id": "98c2b2dd"
      },
      "outputs": [],
      "source": [
        "# For timeseries RNN LSTM neural network\n",
        "from tensorflow.keras.models import Sequential \n",
        "from tensorflow.keras.layers import LSTM\n",
        "from tensorflow.keras.layers import Dropout\n",
        "from tensorflow.keras.layers import Dense"
      ]
    },
    {
      "cell_type": "code",
      "execution_count": null,
      "id": "20e7078d",
      "metadata": {
        "id": "20e7078d"
      },
      "outputs": [],
      "source": [
        "# import Keras: Timeseries Generator \n",
        "# This class produces time series batches used on training/testing the model\n",
        "from tensorflow.keras.preprocessing.sequence import TimeseriesGenerator\n",
        "\n",
        "# import MinMaxScaler\n",
        "# This class is used to preprocess (scale) the data\n",
        "from sklearn.preprocessing import MinMaxScaler"
      ]
    },
    {
      "cell_type": "markdown",
      "id": "b150e2dc",
      "metadata": {
        "id": "b150e2dc"
      },
      "source": [
        "# Dataset: AAPL (01/01/2014 - 02/18/2022)"
      ]
    },
    {
      "cell_type": "code",
      "execution_count": null,
      "id": "dfe16dea",
      "metadata": {
        "id": "dfe16dea"
      },
      "outputs": [],
      "source": [
        "dir_path_dataset_1 = 'DATA/AAPL.csv'"
      ]
    },
    {
      "cell_type": "markdown",
      "id": "2abe4ebd",
      "metadata": {
        "id": "2abe4ebd"
      },
      "source": [
        "### Load Dataset into DataFrame"
      ]
    },
    {
      "cell_type": "code",
      "execution_count": null,
      "id": "551f9f73",
      "metadata": {
        "id": "551f9f73"
      },
      "outputs": [],
      "source": [
        "df_ALL = pd.read_csv(dir_path_dataset_1)"
      ]
    },
    {
      "cell_type": "code",
      "execution_count": null,
      "id": "6f8ae3ee",
      "metadata": {
        "id": "6f8ae3ee",
        "outputId": "ec4b85ba-e4be-4eb2-857d-076a777e7075"
      },
      "outputs": [
        {
          "data": {
            "text/html": [
              "<div>\n",
              "<style scoped>\n",
              "    .dataframe tbody tr th:only-of-type {\n",
              "        vertical-align: middle;\n",
              "    }\n",
              "\n",
              "    .dataframe tbody tr th {\n",
              "        vertical-align: top;\n",
              "    }\n",
              "\n",
              "    .dataframe thead th {\n",
              "        text-align: right;\n",
              "    }\n",
              "</style>\n",
              "<table border=\"1\" class=\"dataframe\">\n",
              "  <thead>\n",
              "    <tr style=\"text-align: right;\">\n",
              "      <th></th>\n",
              "      <th>Date</th>\n",
              "      <th>Open</th>\n",
              "      <th>High</th>\n",
              "      <th>Low</th>\n",
              "      <th>Close</th>\n",
              "      <th>Adj Close</th>\n",
              "      <th>Volume</th>\n",
              "    </tr>\n",
              "  </thead>\n",
              "  <tbody>\n",
              "    <tr>\n",
              "      <th>0</th>\n",
              "      <td>2014-01-02</td>\n",
              "      <td>19.845715</td>\n",
              "      <td>19.893929</td>\n",
              "      <td>19.715000</td>\n",
              "      <td>19.754642</td>\n",
              "      <td>17.494318</td>\n",
              "      <td>234684800</td>\n",
              "    </tr>\n",
              "    <tr>\n",
              "      <th>1</th>\n",
              "      <td>2014-01-03</td>\n",
              "      <td>19.745001</td>\n",
              "      <td>19.775000</td>\n",
              "      <td>19.301071</td>\n",
              "      <td>19.320715</td>\n",
              "      <td>17.110039</td>\n",
              "      <td>392467600</td>\n",
              "    </tr>\n",
              "    <tr>\n",
              "      <th>2</th>\n",
              "      <td>2014-01-06</td>\n",
              "      <td>19.194643</td>\n",
              "      <td>19.528570</td>\n",
              "      <td>19.057142</td>\n",
              "      <td>19.426071</td>\n",
              "      <td>17.203346</td>\n",
              "      <td>412610800</td>\n",
              "    </tr>\n",
              "    <tr>\n",
              "      <th>3</th>\n",
              "      <td>2014-01-07</td>\n",
              "      <td>19.440001</td>\n",
              "      <td>19.498571</td>\n",
              "      <td>19.211430</td>\n",
              "      <td>19.287144</td>\n",
              "      <td>17.080307</td>\n",
              "      <td>317209200</td>\n",
              "    </tr>\n",
              "    <tr>\n",
              "      <th>4</th>\n",
              "      <td>2014-01-08</td>\n",
              "      <td>19.243214</td>\n",
              "      <td>19.484285</td>\n",
              "      <td>19.238930</td>\n",
              "      <td>19.409286</td>\n",
              "      <td>17.188478</td>\n",
              "      <td>258529600</td>\n",
              "    </tr>\n",
              "  </tbody>\n",
              "</table>\n",
              "</div>"
            ],
            "text/plain": [
              "         Date       Open       High        Low      Close  Adj Close  \\\n",
              "0  2014-01-02  19.845715  19.893929  19.715000  19.754642  17.494318   \n",
              "1  2014-01-03  19.745001  19.775000  19.301071  19.320715  17.110039   \n",
              "2  2014-01-06  19.194643  19.528570  19.057142  19.426071  17.203346   \n",
              "3  2014-01-07  19.440001  19.498571  19.211430  19.287144  17.080307   \n",
              "4  2014-01-08  19.243214  19.484285  19.238930  19.409286  17.188478   \n",
              "\n",
              "      Volume  \n",
              "0  234684800  \n",
              "1  392467600  \n",
              "2  412610800  \n",
              "3  317209200  \n",
              "4  258529600  "
            ]
          },
          "execution_count": 6,
          "metadata": {},
          "output_type": "execute_result"
        }
      ],
      "source": [
        "df_ALL.head()"
      ]
    },
    {
      "cell_type": "markdown",
      "id": "2b48d829",
      "metadata": {
        "id": "2b48d829"
      },
      "source": [
        "# Brief EDA"
      ]
    },
    {
      "cell_type": "code",
      "execution_count": null,
      "id": "d8048ba3",
      "metadata": {
        "id": "d8048ba3",
        "outputId": "dad93f87-766b-4d3c-f526-3eecd3028467"
      },
      "outputs": [
        {
          "data": {
            "text/plain": [
              "(2049, 7)"
            ]
          },
          "execution_count": 7,
          "metadata": {},
          "output_type": "execute_result"
        }
      ],
      "source": [
        "df_ALL.shape"
      ]
    },
    {
      "cell_type": "code",
      "execution_count": null,
      "id": "23435ece",
      "metadata": {
        "id": "23435ece",
        "outputId": "754038ba-7e0d-48af-b92c-436551005a36"
      },
      "outputs": [
        {
          "data": {
            "text/plain": [
              "Date          object\n",
              "Open         float64\n",
              "High         float64\n",
              "Low          float64\n",
              "Close        float64\n",
              "Adj Close    float64\n",
              "Volume         int64\n",
              "dtype: object"
            ]
          },
          "execution_count": 8,
          "metadata": {},
          "output_type": "execute_result"
        }
      ],
      "source": [
        "df_ALL.dtypes"
      ]
    },
    {
      "cell_type": "code",
      "execution_count": null,
      "id": "e9f87ace",
      "metadata": {
        "id": "e9f87ace",
        "outputId": "302d173d-1b2d-4353-a64b-535e5375263b"
      },
      "outputs": [
        {
          "data": {
            "text/html": [
              "<div>\n",
              "<style scoped>\n",
              "    .dataframe tbody tr th:only-of-type {\n",
              "        vertical-align: middle;\n",
              "    }\n",
              "\n",
              "    .dataframe tbody tr th {\n",
              "        vertical-align: top;\n",
              "    }\n",
              "\n",
              "    .dataframe thead th {\n",
              "        text-align: right;\n",
              "    }\n",
              "</style>\n",
              "<table border=\"1\" class=\"dataframe\">\n",
              "  <thead>\n",
              "    <tr style=\"text-align: right;\">\n",
              "      <th></th>\n",
              "      <th>Open</th>\n",
              "      <th>High</th>\n",
              "      <th>Low</th>\n",
              "      <th>Close</th>\n",
              "      <th>Adj Close</th>\n",
              "      <th>Volume</th>\n",
              "    </tr>\n",
              "  </thead>\n",
              "  <tbody>\n",
              "    <tr>\n",
              "      <th>count</th>\n",
              "      <td>2049.000000</td>\n",
              "      <td>2049.000000</td>\n",
              "      <td>2049.000000</td>\n",
              "      <td>2049.000000</td>\n",
              "      <td>2049.000000</td>\n",
              "      <td>2.049000e+03</td>\n",
              "    </tr>\n",
              "    <tr>\n",
              "      <th>mean</th>\n",
              "      <td>58.460144</td>\n",
              "      <td>59.080064</td>\n",
              "      <td>57.858505</td>\n",
              "      <td>58.494184</td>\n",
              "      <td>56.870121</td>\n",
              "      <td>1.513949e+08</td>\n",
              "    </tr>\n",
              "    <tr>\n",
              "      <th>std</th>\n",
              "      <td>42.088815</td>\n",
              "      <td>42.597094</td>\n",
              "      <td>41.580848</td>\n",
              "      <td>42.107121</td>\n",
              "      <td>42.692927</td>\n",
              "      <td>8.581324e+07</td>\n",
              "    </tr>\n",
              "    <tr>\n",
              "      <th>min</th>\n",
              "      <td>17.684999</td>\n",
              "      <td>17.911785</td>\n",
              "      <td>17.626785</td>\n",
              "      <td>17.849285</td>\n",
              "      <td>15.806974</td>\n",
              "      <td>4.100000e+07</td>\n",
              "    </tr>\n",
              "    <tr>\n",
              "      <th>25%</th>\n",
              "      <td>28.365000</td>\n",
              "      <td>28.590000</td>\n",
              "      <td>28.077499</td>\n",
              "      <td>28.372499</td>\n",
              "      <td>26.134121</td>\n",
              "      <td>9.431800e+07</td>\n",
              "    </tr>\n",
              "    <tr>\n",
              "      <th>50%</th>\n",
              "      <td>41.952499</td>\n",
              "      <td>42.522499</td>\n",
              "      <td>41.610001</td>\n",
              "      <td>42.084999</td>\n",
              "      <td>40.359653</td>\n",
              "      <td>1.280424e+08</td>\n",
              "    </tr>\n",
              "    <tr>\n",
              "      <th>75%</th>\n",
              "      <td>70.275002</td>\n",
              "      <td>71.222504</td>\n",
              "      <td>69.639999</td>\n",
              "      <td>70.742500</td>\n",
              "      <td>69.783585</td>\n",
              "      <td>1.838572e+08</td>\n",
              "    </tr>\n",
              "    <tr>\n",
              "      <th>max</th>\n",
              "      <td>182.630005</td>\n",
              "      <td>182.940002</td>\n",
              "      <td>179.119995</td>\n",
              "      <td>182.009995</td>\n",
              "      <td>181.778397</td>\n",
              "      <td>1.065523e+09</td>\n",
              "    </tr>\n",
              "  </tbody>\n",
              "</table>\n",
              "</div>"
            ],
            "text/plain": [
              "              Open         High          Low        Close    Adj Close  \\\n",
              "count  2049.000000  2049.000000  2049.000000  2049.000000  2049.000000   \n",
              "mean     58.460144    59.080064    57.858505    58.494184    56.870121   \n",
              "std      42.088815    42.597094    41.580848    42.107121    42.692927   \n",
              "min      17.684999    17.911785    17.626785    17.849285    15.806974   \n",
              "25%      28.365000    28.590000    28.077499    28.372499    26.134121   \n",
              "50%      41.952499    42.522499    41.610001    42.084999    40.359653   \n",
              "75%      70.275002    71.222504    69.639999    70.742500    69.783585   \n",
              "max     182.630005   182.940002   179.119995   182.009995   181.778397   \n",
              "\n",
              "             Volume  \n",
              "count  2.049000e+03  \n",
              "mean   1.513949e+08  \n",
              "std    8.581324e+07  \n",
              "min    4.100000e+07  \n",
              "25%    9.431800e+07  \n",
              "50%    1.280424e+08  \n",
              "75%    1.838572e+08  \n",
              "max    1.065523e+09  "
            ]
          },
          "execution_count": 9,
          "metadata": {},
          "output_type": "execute_result"
        }
      ],
      "source": [
        "# Statistical summary\n",
        "df_ALL.describe()"
      ]
    },
    {
      "cell_type": "markdown",
      "id": "d7806418",
      "metadata": {
        "id": "d7806418"
      },
      "source": [
        "# Keep only \"Close\" for Closing Price, and Filter Out All Others"
      ]
    },
    {
      "cell_type": "markdown",
      "id": "412af911",
      "metadata": {
        "id": "412af911"
      },
      "source": [
        "### Research focuses only on the closing price"
      ]
    },
    {
      "cell_type": "code",
      "execution_count": null,
      "id": "dcb105e1",
      "metadata": {
        "id": "dcb105e1"
      },
      "outputs": [],
      "source": [
        "df = df_ALL.iloc[:, 4:5]"
      ]
    },
    {
      "cell_type": "code",
      "execution_count": null,
      "id": "eae46b4a",
      "metadata": {
        "id": "eae46b4a",
        "outputId": "adde4d81-d59a-4a0c-9d04-40fb760eb281"
      },
      "outputs": [
        {
          "data": {
            "text/html": [
              "<div>\n",
              "<style scoped>\n",
              "    .dataframe tbody tr th:only-of-type {\n",
              "        vertical-align: middle;\n",
              "    }\n",
              "\n",
              "    .dataframe tbody tr th {\n",
              "        vertical-align: top;\n",
              "    }\n",
              "\n",
              "    .dataframe thead th {\n",
              "        text-align: right;\n",
              "    }\n",
              "</style>\n",
              "<table border=\"1\" class=\"dataframe\">\n",
              "  <thead>\n",
              "    <tr style=\"text-align: right;\">\n",
              "      <th></th>\n",
              "      <th>Close</th>\n",
              "    </tr>\n",
              "  </thead>\n",
              "  <tbody>\n",
              "    <tr>\n",
              "      <th>0</th>\n",
              "      <td>19.754642</td>\n",
              "    </tr>\n",
              "    <tr>\n",
              "      <th>1</th>\n",
              "      <td>19.320715</td>\n",
              "    </tr>\n",
              "    <tr>\n",
              "      <th>2</th>\n",
              "      <td>19.426071</td>\n",
              "    </tr>\n",
              "    <tr>\n",
              "      <th>3</th>\n",
              "      <td>19.287144</td>\n",
              "    </tr>\n",
              "    <tr>\n",
              "      <th>4</th>\n",
              "      <td>19.409286</td>\n",
              "    </tr>\n",
              "  </tbody>\n",
              "</table>\n",
              "</div>"
            ],
            "text/plain": [
              "       Close\n",
              "0  19.754642\n",
              "1  19.320715\n",
              "2  19.426071\n",
              "3  19.287144\n",
              "4  19.409286"
            ]
          },
          "execution_count": 11,
          "metadata": {},
          "output_type": "execute_result"
        }
      ],
      "source": [
        "df.head()"
      ]
    },
    {
      "cell_type": "code",
      "execution_count": null,
      "id": "ae4bacea",
      "metadata": {
        "id": "ae4bacea",
        "outputId": "4d237918-6cee-4dbf-ce56-862fa78c4c0f"
      },
      "outputs": [
        {
          "data": {
            "text/plain": [
              "<AxesSubplot:>"
            ]
          },
          "execution_count": 12,
          "metadata": {},
          "output_type": "execute_result"
        },
        {
          "data": {
            "image/png": "[encoded data removed]",
            "text/plain": [
              "<Figure size 864x576 with 1 Axes>"
            ]
          },
          "metadata": {
            "needs_background": "light"
          },
          "output_type": "display_data"
        }
      ],
      "source": [
        "df.plot(figsize = (12,8))"
      ]
    },
    {
      "cell_type": "markdown",
      "id": "69f723e5",
      "metadata": {
        "id": "69f723e5"
      },
      "source": [
        "## Length of Input Timeseries - Number of Input Time Steps"
      ]
    },
    {
      "cell_type": "code",
      "execution_count": 3,
      "id": "c3c0f6bb",
      "metadata": {
        "id": "c3c0f6bb"
      },
      "outputs": [],
      "source": [
        "# Set the length of the input sequence\n",
        "# i.e, the number of timeseries steps that are used to predict the future one\n",
        "# currently use 60 historical data points to predict the next one\n",
        "# means that 60 consecutive closing prices will be used to predict the next one\n",
        "length60 = 60"
      ]
    },
    {
      "cell_type": "code",
      "execution_count": 4,
      "id": "29510687",
      "metadata": {
        "colab": {
          "base_uri": "https://localhost:8080/"
        },
        "id": "29510687",
        "outputId": "9f01fada-e49a-400f-faf0-d361cf4966fb"
      },
      "outputs": [
        {
          "output_type": "execute_result",
          "data": {
            "text/plain": [
              "60"
            ]
          },
          "metadata": {},
          "execution_count": 4
        }
      ],
      "source": [
        "length60"
      ]
    },
    {
      "cell_type": "markdown",
      "id": "b80a7d1f",
      "metadata": {
        "id": "b80a7d1f"
      },
      "source": [
        "# Timeseries Dataset: Train/Test Split"
      ]
    },
    {
      "cell_type": "code",
      "execution_count": null,
      "id": "49f073cf",
      "metadata": {
        "id": "49f073cf",
        "outputId": "802ad20c-8c43-4697-d5c0-56de823ec230"
      },
      "outputs": [
        {
          "data": {
            "text/plain": [
              "2049"
            ]
          },
          "execution_count": 15,
          "metadata": {},
          "output_type": "execute_result"
        }
      ],
      "source": [
        "len(df)"
      ]
    },
    {
      "cell_type": "code",
      "execution_count": null,
      "id": "6f1adda4",
      "metadata": {
        "id": "6f1adda4"
      },
      "outputs": [],
      "source": [
        "# Set percentage of data used for testing\n",
        "test_percent = 0.1"
      ]
    },
    {
      "cell_type": "code",
      "execution_count": null,
      "id": "af38108f",
      "metadata": {
        "id": "af38108f",
        "outputId": "5230ff05-2a44-4300-af3d-9a04015bf00e"
      },
      "outputs": [
        {
          "data": {
            "text/plain": [
              "204.9"
            ]
          },
          "execution_count": 17,
          "metadata": {},
          "output_type": "execute_result"
        }
      ],
      "source": [
        "# Number of data points reserved for testing the model\n",
        "# 10% of the original dataset\n",
        "\n",
        "len(df)*test_percent"
      ]
    },
    {
      "cell_type": "markdown",
      "id": "514274de",
      "metadata": {
        "id": "514274de"
      },
      "source": [
        "## Split Data --> Train/Test"
      ]
    },
    {
      "cell_type": "code",
      "execution_count": null,
      "id": "1b38c602",
      "metadata": {
        "id": "1b38c602",
        "outputId": "f84352e5-d933-474d-ccc5-30c0afc4fcdb"
      },
      "outputs": [
        {
          "data": {
            "text/plain": [
              "205.0"
            ]
          },
          "execution_count": 18,
          "metadata": {},
          "output_type": "execute_result"
        }
      ],
      "source": [
        "# Need to find the length of the testing dataset\n",
        "# It has been found above that around 205 data points are used for testing\n",
        "\n",
        "test_length = np.round(len(df)*test_percent)\n",
        "\n",
        "test_length"
      ]
    },
    {
      "cell_type": "code",
      "execution_count": null,
      "id": "f2ecbf22",
      "metadata": {
        "id": "f2ecbf22",
        "outputId": "039eb14e-98d8-425d-a8b3-2738eaf53826"
      },
      "outputs": [
        {
          "data": {
            "text/plain": [
              "1844"
            ]
          },
          "execution_count": 19,
          "metadata": {},
          "output_type": "execute_result"
        }
      ],
      "source": [
        "# Find index of the sequence where the testing data starts\n",
        "# test_start_index = int(len(df) - test_length)\n",
        "split_index = int(len(df) - test_length)\n",
        "\n",
        "split_index"
      ]
    },
    {
      "cell_type": "code",
      "execution_count": null,
      "id": "78890845",
      "metadata": {
        "id": "78890845"
      },
      "outputs": [],
      "source": [
        "# Create separate training and testing datasets\n",
        "\n",
        "# Training dataset: all indices from start to split_index\n",
        "# excluding split_index\n",
        "data_train = df.iloc[:split_index]\n",
        "\n",
        "# Testing dataset:\n",
        "# --) all the indices from (split_index - length60) to the end of the DF\n",
        "# --) split_index - length60: need the last 60 historical data points (also belong to data_train)\n",
        "#     to predict the first data point of the data_test\n",
        "data_test = df.iloc[split_index - length60 :]"
      ]
    },
    {
      "cell_type": "code",
      "execution_count": null,
      "id": "7fc69426",
      "metadata": {
        "id": "7fc69426",
        "outputId": "43466771-17e5-4328-d4be-f1a825918c36"
      },
      "outputs": [
        {
          "data": {
            "text/html": [
              "<div>\n",
              "<style scoped>\n",
              "    .dataframe tbody tr th:only-of-type {\n",
              "        vertical-align: middle;\n",
              "    }\n",
              "\n",
              "    .dataframe tbody tr th {\n",
              "        vertical-align: top;\n",
              "    }\n",
              "\n",
              "    .dataframe thead th {\n",
              "        text-align: right;\n",
              "    }\n",
              "</style>\n",
              "<table border=\"1\" class=\"dataframe\">\n",
              "  <thead>\n",
              "    <tr style=\"text-align: right;\">\n",
              "      <th></th>\n",
              "      <th>Close</th>\n",
              "    </tr>\n",
              "  </thead>\n",
              "  <tbody>\n",
              "    <tr>\n",
              "      <th>0</th>\n",
              "      <td>19.754642</td>\n",
              "    </tr>\n",
              "    <tr>\n",
              "      <th>1</th>\n",
              "      <td>19.320715</td>\n",
              "    </tr>\n",
              "    <tr>\n",
              "      <th>2</th>\n",
              "      <td>19.426071</td>\n",
              "    </tr>\n",
              "    <tr>\n",
              "      <th>3</th>\n",
              "      <td>19.287144</td>\n",
              "    </tr>\n",
              "    <tr>\n",
              "      <th>4</th>\n",
              "      <td>19.409286</td>\n",
              "    </tr>\n",
              "  </tbody>\n",
              "</table>\n",
              "</div>"
            ],
            "text/plain": [
              "       Close\n",
              "0  19.754642\n",
              "1  19.320715\n",
              "2  19.426071\n",
              "3  19.287144\n",
              "4  19.409286"
            ]
          },
          "execution_count": 21,
          "metadata": {},
          "output_type": "execute_result"
        }
      ],
      "source": [
        "data_train.head(5)"
      ]
    },
    {
      "cell_type": "code",
      "execution_count": null,
      "id": "1e182a41",
      "metadata": {
        "id": "1e182a41",
        "outputId": "411876cb-fb46-474b-9319-65d6b0ba9cb4"
      },
      "outputs": [
        {
          "data": {
            "text/html": [
              "<div>\n",
              "<style scoped>\n",
              "    .dataframe tbody tr th:only-of-type {\n",
              "        vertical-align: middle;\n",
              "    }\n",
              "\n",
              "    .dataframe tbody tr th {\n",
              "        vertical-align: top;\n",
              "    }\n",
              "\n",
              "    .dataframe thead th {\n",
              "        text-align: right;\n",
              "    }\n",
              "</style>\n",
              "<table border=\"1\" class=\"dataframe\">\n",
              "  <thead>\n",
              "    <tr style=\"text-align: right;\">\n",
              "      <th></th>\n",
              "      <th>Close</th>\n",
              "    </tr>\n",
              "  </thead>\n",
              "  <tbody>\n",
              "    <tr>\n",
              "      <th>1839</th>\n",
              "      <td>134.320007</td>\n",
              "    </tr>\n",
              "    <tr>\n",
              "      <th>1840</th>\n",
              "      <td>134.720001</td>\n",
              "    </tr>\n",
              "    <tr>\n",
              "      <th>1841</th>\n",
              "      <td>134.389999</td>\n",
              "    </tr>\n",
              "    <tr>\n",
              "      <th>1842</th>\n",
              "      <td>133.580002</td>\n",
              "    </tr>\n",
              "    <tr>\n",
              "      <th>1843</th>\n",
              "      <td>133.479996</td>\n",
              "    </tr>\n",
              "  </tbody>\n",
              "</table>\n",
              "</div>"
            ],
            "text/plain": [
              "           Close\n",
              "1839  134.320007\n",
              "1840  134.720001\n",
              "1841  134.389999\n",
              "1842  133.580002\n",
              "1843  133.479996"
            ]
          },
          "execution_count": 22,
          "metadata": {},
          "output_type": "execute_result"
        }
      ],
      "source": [
        "data_train.tail()"
      ]
    },
    {
      "cell_type": "code",
      "execution_count": null,
      "id": "d3570b4f",
      "metadata": {
        "id": "d3570b4f",
        "outputId": "50eb7af3-00cf-4c6d-b295-217dcc085303"
      },
      "outputs": [
        {
          "data": {
            "text/html": [
              "<div>\n",
              "<style scoped>\n",
              "    .dataframe tbody tr th:only-of-type {\n",
              "        vertical-align: middle;\n",
              "    }\n",
              "\n",
              "    .dataframe tbody tr th {\n",
              "        vertical-align: top;\n",
              "    }\n",
              "\n",
              "    .dataframe thead th {\n",
              "        text-align: right;\n",
              "    }\n",
              "</style>\n",
              "<table border=\"1\" class=\"dataframe\">\n",
              "  <thead>\n",
              "    <tr style=\"text-align: right;\">\n",
              "      <th></th>\n",
              "      <th>Close</th>\n",
              "    </tr>\n",
              "  </thead>\n",
              "  <tbody>\n",
              "    <tr>\n",
              "      <th>1784</th>\n",
              "      <td>133.940002</td>\n",
              "    </tr>\n",
              "    <tr>\n",
              "      <th>1785</th>\n",
              "      <td>137.389999</td>\n",
              "    </tr>\n",
              "    <tr>\n",
              "      <th>1786</th>\n",
              "      <td>136.759995</td>\n",
              "    </tr>\n",
              "    <tr>\n",
              "      <th>1787</th>\n",
              "      <td>136.910004</td>\n",
              "    </tr>\n",
              "    <tr>\n",
              "      <th>1788</th>\n",
              "      <td>136.009995</td>\n",
              "    </tr>\n",
              "  </tbody>\n",
              "</table>\n",
              "</div>"
            ],
            "text/plain": [
              "           Close\n",
              "1784  133.940002\n",
              "1785  137.389999\n",
              "1786  136.759995\n",
              "1787  136.910004\n",
              "1788  136.009995"
            ]
          },
          "execution_count": 23,
          "metadata": {},
          "output_type": "execute_result"
        }
      ],
      "source": [
        "data_test.head()"
      ]
    },
    {
      "cell_type": "markdown",
      "id": "2435a31e",
      "metadata": {
        "id": "2435a31e"
      },
      "source": [
        "data_test.tail()"
      ]
    },
    {
      "cell_type": "markdown",
      "id": "b71871f0",
      "metadata": {
        "id": "b71871f0"
      },
      "source": [
        "# Normalize the Data (Scaled to Range [0, 1])"
      ]
    },
    {
      "cell_type": "code",
      "execution_count": null,
      "id": "2a91209d",
      "metadata": {
        "id": "2a91209d"
      },
      "outputs": [],
      "source": [
        "# Create a MinMaxScaler to normalize the data\n",
        "scaler = MinMaxScaler()"
      ]
    },
    {
      "cell_type": "code",
      "execution_count": null,
      "id": "b70da860",
      "metadata": {
        "id": "b70da860",
        "outputId": "1e2064b5-b8a9-43d9-c16a-e93f9d083bda"
      },
      "outputs": [
        {
          "data": {
            "text/plain": [
              "MinMaxScaler()"
            ]
          },
          "execution_count": 25,
          "metadata": {},
          "output_type": "execute_result"
        }
      ],
      "source": [
        "# Ignore the warning: just converting the data to floats\n",
        "# only scale the training data, not scaling the testing data\n",
        "\n",
        "# Train the scaler to perform the normalization\n",
        "scaler.fit(data_train)"
      ]
    },
    {
      "cell_type": "code",
      "execution_count": null,
      "id": "dd9dc75a",
      "metadata": {
        "id": "dd9dc75a"
      },
      "outputs": [],
      "source": [
        "# Normalize the training dataset\n",
        "normalized_train = scaler.transform(data_train)\n",
        "\n",
        "# Normalize the testing dataset\n",
        "normalized_test = scaler.transform(data_test)"
      ]
    },
    {
      "cell_type": "markdown",
      "id": "f2a85e7c",
      "metadata": {
        "id": "f2a85e7c"
      },
      "source": [
        "## Create TimeseriesGenerator for Training"
      ]
    },
    {
      "cell_type": "code",
      "execution_count": null,
      "id": "d47a39b8",
      "metadata": {
        "id": "d47a39b8"
      },
      "outputs": [],
      "source": [
        "# TimeseriesGenerator: Generate time series batches for training/testing\n",
        "\n",
        "# Set the length of the input sequence as above\n",
        "# length60\n",
        "\n",
        "# batch_size: the number of time series samples in each batch\n",
        "# Sample: a single time series input that has 60 historical data points\n",
        "batch_size32 = 32\n",
        "\n",
        "# Create a TimeseriesGenerator for training: train_tsGenerator\n",
        "# --) This time series generator produces time serires batches used to train the model\n",
        "# TimeseriesGenerator(inputs, outputs, length, batch_size)\n",
        "# --) Normally: INPUTS & OUTPUTS are the same dataset during training & testing/validation\n",
        "\n",
        "train_tsGenerator60 = TimeseriesGenerator(normalized_train, normalized_train, length = length60, batch_size = batch_size32)"
      ]
    },
    {
      "cell_type": "code",
      "execution_count": null,
      "id": "c984eb3b",
      "metadata": {
        "id": "c984eb3b",
        "outputId": "b91ad9fb-6292-42c0-d161-3a6befb9d36e"
      },
      "outputs": [
        {
          "data": {
            "text/plain": [
              "1844"
            ]
          },
          "execution_count": 28,
          "metadata": {},
          "output_type": "execute_result"
        }
      ],
      "source": [
        "len(normalized_train)"
      ]
    },
    {
      "cell_type": "code",
      "execution_count": null,
      "id": "ce65f96c",
      "metadata": {
        "id": "ce65f96c",
        "outputId": "675b7d0d-0b0b-43b6-e088-fc05e89687fc"
      },
      "outputs": [
        {
          "data": {
            "text/plain": [
              "56"
            ]
          },
          "execution_count": 29,
          "metadata": {},
          "output_type": "execute_result"
        }
      ],
      "source": [
        "len(train_tsGenerator60)"
      ]
    },
    {
      "cell_type": "code",
      "execution_count": null,
      "id": "ff2e75b6",
      "metadata": {
        "id": "ff2e75b6"
      },
      "outputs": [],
      "source": [
        "# What does the first batch look like?\n",
        "X,y = train_tsGenerator60[0]"
      ]
    },
    {
      "cell_type": "code",
      "execution_count": null,
      "id": "ece34743",
      "metadata": {
        "id": "ece34743",
        "outputId": "849ee095-2729-4348-ccf3-c270393f4dba"
      },
      "outputs": [
        {
          "name": "stdout",
          "output_type": "stream",
          "text": [
            "[[[0.01520506]\n",
            "  [0.01174225]\n",
            "  [0.01258301]\n",
            "  ...\n",
            "  [0.01140024]\n",
            "  [0.01073903]\n",
            "  [0.01056802]]\n",
            "\n",
            " [[0.01174225]\n",
            "  [0.01258301]\n",
            "  [0.01147435]\n",
            "  ...\n",
            "  [0.01073903]\n",
            "  [0.01056802]\n",
            "  [0.01053383]]\n",
            "\n",
            " [[0.01258301]\n",
            "  [0.01147435]\n",
            "  [0.01244906]\n",
            "  ...\n",
            "  [0.01056802]\n",
            "  [0.01053383]\n",
            "  [0.0119332 ]]\n",
            "\n",
            " ...\n",
            "\n",
            " [[0.01272553]\n",
            "  [0.0126001 ]\n",
            "  [0.01317013]\n",
            "  ...\n",
            "  [0.02637729]\n",
            "  [0.02514037]\n",
            "  [0.02444211]]\n",
            "\n",
            " [[0.0126001 ]\n",
            "  [0.01317013]\n",
            "  [0.01071338]\n",
            "  ...\n",
            "  [0.02514037]\n",
            "  [0.02444211]\n",
            "  [0.02651981]]\n",
            "\n",
            " [[0.01317013]\n",
            "  [0.01071338]\n",
            "  [0.00894064]\n",
            "  ...\n",
            "  [0.02444211]\n",
            "  [0.02651981]\n",
            "  [0.02678484]]]\n"
          ]
        }
      ],
      "source": [
        "print(X)"
      ]
    },
    {
      "cell_type": "code",
      "execution_count": null,
      "id": "df4335ce",
      "metadata": {
        "id": "df4335ce",
        "outputId": "b1b385bd-ebfa-47b9-b257-3cd0f720b6e8"
      },
      "outputs": [
        {
          "name": "stdout",
          "output_type": "stream",
          "text": [
            "[[0.01053383]\n",
            " [0.0119332 ]\n",
            " [0.0121897 ]\n",
            " [0.01111808]\n",
            " [0.00913158]\n",
            " [0.00675178]\n",
            " [0.00674325]\n",
            " [0.00870409]\n",
            " [0.00675465]\n",
            " [0.00565168]\n",
            " [0.00624164]\n",
            " [0.00518141]\n",
            " [0.00548067]\n",
            " [0.00717074]\n",
            " [0.00894635]\n",
            " [0.00909739]\n",
            " [0.00711661]\n",
            " [0.01937755]\n",
            " [0.02056604]\n",
            " [0.02687891]\n",
            " [0.02637729]\n",
            " [0.02573888]\n",
            " [0.02613505]\n",
            " [0.02644854]\n",
            " [0.02883689]\n",
            " [0.02697012]\n",
            " [0.02637729]\n",
            " [0.02514037]\n",
            " [0.02444211]\n",
            " [0.02651981]\n",
            " [0.02678484]\n",
            " [0.0268162 ]]\n"
          ]
        }
      ],
      "source": [
        "print(y)"
      ]
    },
    {
      "cell_type": "markdown",
      "id": "d9a2599f",
      "metadata": {
        "id": "d9a2599f"
      },
      "source": [
        "# Build, Train, Test Model\n",
        "\n",
        "### Build LSTM Model"
      ]
    },
    {
      "cell_type": "code",
      "execution_count": null,
      "id": "e80d0537",
      "metadata": {
        "id": "e80d0537"
      },
      "outputs": [],
      "source": [
        "# Set number of features\n",
        "\n",
        "# Only using the one feature: close price\n",
        "n_features = 1"
      ]
    },
    {
      "cell_type": "code",
      "execution_count": null,
      "id": "271d31d9",
      "metadata": {
        "id": "271d31d9",
        "outputId": "8483057c-1ab5-4eaa-f7f5-198c60aa3274"
      },
      "outputs": [
        {
          "name": "stdout",
          "output_type": "stream",
          "text": [
            "WARNING:tensorflow:From /opt/conda/lib/python3.7/site-packages/tensorflow_core/python/ops/resource_variable_ops.py:1630: calling BaseResourceVariable.__init__ (from tensorflow.python.ops.resource_variable_ops) with constraint is deprecated and will be removed in a future version.\n",
            "Instructions for updating:\n",
            "If using Keras pass *_constraint arguments to layers.\n"
          ]
        }
      ],
      "source": [
        "# Define the model\n",
        "model = Sequential()\n",
        "\n",
        "# Add an LSTM layer\n",
        "# This layer has 50 LSTM cells\n",
        "# Activiation function: relu\n",
        "# Must: return_sequences = True\n",
        "# --) because of mulitple LSTM layers, the layers are stacked\n",
        "# --) outputs = inputs of the next LSTM layer\n",
        "model.add(LSTM(units = 50, activation = 'relu', return_sequences = True, input_shape = (length60, n_features)))\n",
        "\n",
        "# Dropout Layer\n",
        "model.add(Dropout(0.2))\n",
        "\n",
        "# Add 2nd LSTM layer\n",
        "model.add(LSTM(units = 50, activation = 'relu', return_sequences = True))\n",
        "\n",
        "# Dropout Layer \n",
        "model.add(Dropout(0.2))\n",
        "\n",
        "# Add 3rd LSTM layer\n",
        "model.add(LSTM(units = 50, activation = 'relu'))\n",
        "\n",
        "# Add a FC (fully connected) layer\n",
        "model.add(Dense(1))"
      ]
    },
    {
      "cell_type": "markdown",
      "id": "aee64b66",
      "metadata": {
        "id": "aee64b66"
      },
      "source": [
        "### Compile the Model"
      ]
    },
    {
      "cell_type": "code",
      "execution_count": null,
      "id": "af0a71ef",
      "metadata": {
        "id": "af0a71ef",
        "outputId": "127e6888-af89-4af1-e401-e95487340664"
      },
      "outputs": [
        {
          "name": "stdout",
          "output_type": "stream",
          "text": [
            "Model: \"sequential\"\n",
            "_________________________________________________________________\n",
            "Layer (type)                 Output Shape              Param #   \n",
            "=================================================================\n",
            "lstm (LSTM)                  (None, 60, 50)            10400     \n",
            "_________________________________________________________________\n",
            "dropout (Dropout)            (None, 60, 50)            0         \n",
            "_________________________________________________________________\n",
            "lstm_1 (LSTM)                (None, 60, 50)            20200     \n",
            "_________________________________________________________________\n",
            "dropout_1 (Dropout)          (None, 60, 50)            0         \n",
            "_________________________________________________________________\n",
            "lstm_2 (LSTM)                (None, 50)                20200     \n",
            "_________________________________________________________________\n",
            "dense (Dense)                (None, 1)                 51        \n",
            "=================================================================\n",
            "Total params: 50,851\n",
            "Trainable params: 50,851\n",
            "Non-trainable params: 0\n",
            "_________________________________________________________________\n"
          ]
        }
      ],
      "source": [
        "model.compile(optimizer = 'adam', loss = 'mse')\n",
        "\n",
        "model.summary()"
      ]
    },
    {
      "cell_type": "markdown",
      "id": "2d5c1a7a",
      "metadata": {
        "id": "2d5c1a7a"
      },
      "source": [
        "### Train (Fit) the Model Using fit_generator()"
      ]
    },
    {
      "cell_type": "code",
      "execution_count": null,
      "id": "e7010ff3",
      "metadata": {
        "id": "e7010ff3",
        "outputId": "394398c9-372c-4cec-ff41-0ed93fb36016"
      },
      "outputs": [
        {
          "name": "stdout",
          "output_type": "stream",
          "text": [
            "Epoch 1/50\n",
            "WARNING:tensorflow:From /opt/conda/lib/python3.7/site-packages/tensorflow_core/python/ops/math_grad.py:1424: where (from tensorflow.python.ops.array_ops) is deprecated and will be removed in a future version.\n",
            "Instructions for updating:\n",
            "Use tf.where in 2.0, which has the same broadcast rule as np.where\n",
            "WARNING:tensorflow:OMP_NUM_THREADS is no longer used by the default Keras config. To configure the number of threads, use tf.config.threading APIs.\n"
          ]
        },
        {
          "name": "stderr",
          "output_type": "stream",
          "text": [
            "\n",
            "User settings:\n",
            "\n",
            "   KMP_AFFINITY=granularity=fine,verbose,compact,1,0\n",
            "   KMP_BLOCKTIME=0\n",
            "   KMP_DUPLICATE_LIB_OK=True\n",
            "   KMP_INIT_AT_FORK=FALSE\n",
            "   KMP_SETTINGS=1\n",
            "   OMP_NUM_THREADS=8\n",
            "\n",
            "Effective settings:\n",
            "\n",
            "   KMP_ABORT_DELAY=0\n",
            "   KMP_ADAPTIVE_LOCK_PROPS='1,1024'\n",
            "   KMP_ALIGN_ALLOC=64\n",
            "   KMP_ALL_THREADPRIVATE=128\n",
            "   KMP_ATOMIC_MODE=2\n",
            "   KMP_BLOCKTIME=0\n",
            "   KMP_CPUINFO_FILE: value is not defined\n",
            "   KMP_DETERMINISTIC_REDUCTION=false\n",
            "   KMP_DEVICE_THREAD_LIMIT=2147483647\n",
            "   KMP_DISP_HAND_THREAD=false\n",
            "   KMP_DISP_NUM_BUFFERS=7\n",
            "   KMP_DUPLICATE_LIB_OK=true\n",
            "   KMP_FORCE_REDUCTION: value is not defined\n",
            "   KMP_FOREIGN_THREADS_THREADPRIVATE=true\n",
            "   KMP_FORKJOIN_BARRIER='2,2'\n",
            "   KMP_FORKJOIN_BARRIER_PATTERN='hyper,hyper'\n",
            "   KMP_FORKJOIN_FRAMES=true\n",
            "   KMP_FORKJOIN_FRAMES_MODE=3\n",
            "   KMP_GTID_MODE=3\n",
            "   KMP_HANDLE_SIGNALS=false\n",
            "   KMP_HOT_TEAMS_MAX_LEVEL=1\n",
            "   KMP_HOT_TEAMS_MODE=0\n",
            "   KMP_INIT_AT_FORK=true\n",
            "   KMP_ITT_PREPARE_DELAY=0\n",
            "   KMP_LIBRARY=throughput\n",
            "   KMP_LOCK_KIND=queuing\n",
            "   KMP_MALLOC_POOL_INCR=1M\n",
            "   KMP_MWAIT_HINTS=0\n",
            "   KMP_NUM_LOCKS_IN_BLOCK=1\n",
            "   KMP_PLAIN_BARRIER='2,2'\n",
            "   KMP_PLAIN_BARRIER_PATTERN='hyper,hyper'\n",
            "   KMP_REDUCTION_BARRIER='1,1'\n",
            "   KMP_REDUCTION_BARRIER_PATTERN='hyper,hyper'\n",
            "   KMP_SCHEDULE='static,balanced;guided,iterative'\n",
            "   KMP_SETTINGS=true\n",
            "   KMP_SPIN_BACKOFF_PARAMS='4096,100'\n",
            "   KMP_STACKOFFSET=64\n",
            "   KMP_STACKPAD=0\n",
            "   KMP_STACKSIZE=8M\n",
            "   KMP_STORAGE_MAP=false\n",
            "   KMP_TASKING=2\n",
            "   KMP_TASKLOOP_MIN_TASKS=0\n",
            "   KMP_TASK_STEALING_CONSTRAINT=1\n",
            "   KMP_TEAMS_THREAD_LIMIT=8\n",
            "   KMP_TOPOLOGY_METHOD=all\n",
            "   KMP_USER_LEVEL_MWAIT=false\n",
            "   KMP_USE_YIELD=1\n",
            "   KMP_VERSION=false\n",
            "   KMP_WARNINGS=true\n",
            "   OMP_AFFINITY_FORMAT='OMP: pid %P tid %i thread %n bound to OS proc set {%A}'\n",
            "   OMP_ALLOCATOR=omp_default_mem_alloc\n",
            "   OMP_CANCELLATION=false\n",
            "   OMP_DEBUG=disabled\n",
            "   OMP_DEFAULT_DEVICE=0\n",
            "   OMP_DISPLAY_AFFINITY=false\n",
            "   OMP_DISPLAY_ENV=false\n",
            "   OMP_DYNAMIC=false\n",
            "   OMP_MAX_ACTIVE_LEVELS=2147483647\n",
            "   OMP_MAX_TASK_PRIORITY=0\n",
            "   OMP_NESTED=false\n",
            "   OMP_NUM_THREADS='8'\n",
            "   OMP_PLACES: value is not defined\n",
            "   OMP_PROC_BIND='intel'\n",
            "   OMP_SCHEDULE='static'\n",
            "   OMP_STACKSIZE=8M\n",
            "   OMP_TARGET_OFFLOAD=DEFAULT\n",
            "   OMP_THREAD_LIMIT=2147483647\n",
            "   OMP_TOOL=enabled\n",
            "   OMP_TOOL_LIBRARIES: value is not defined\n",
            "   OMP_WAIT_POLICY=PASSIVE\n",
            "   KMP_AFFINITY='verbose,warnings,respect,granularity=fine,compact,1,0'\n",
            "\n",
            "2022-02-22 23:37:26.101922: I tensorflow/core/platform/profile_utils/cpu_utils.cc:94] CPU Frequency: 2299995000 Hz\n",
            "2022-02-22 23:37:26.107747: I tensorflow/compiler/xla/service/service.cc:168] XLA service 0x558ff7068310 initialized for platform Host (this does not guarantee that XLA will be used). Devices:\n",
            "2022-02-22 23:37:26.107807: I tensorflow/compiler/xla/service/service.cc:176]   StreamExecutor device (0): Host, Default Version\n",
            "2022-02-22 23:37:26.108690: I tensorflow/core/common_runtime/process_util.cc:136] Creating new thread pool with default inter op setting: 2. Tune using inter_op_parallelism_threads for best performance.\n",
            "OMP: Info #212: KMP_AFFINITY: decoding x2APIC ids.\n",
            "OMP: Info #210: KMP_AFFINITY: Affinity capable, using global cpuid leaf 11 info\n",
            "OMP: Info #154: KMP_AFFINITY: Initial OS proc set respected: 0-7\n",
            "OMP: Info #156: KMP_AFFINITY: 8 available OS procs\n",
            "OMP: Info #157: KMP_AFFINITY: Uniform topology\n",
            "OMP: Info #179: KMP_AFFINITY: 1 packages x 4 cores/pkg x 2 threads/core (4 total cores)\n",
            "OMP: Info #214: KMP_AFFINITY: OS proc to physical thread map:\n",
            "OMP: Info #171: KMP_AFFINITY: OS proc 0 maps to package 0 core 0 thread 0 \n",
            "OMP: Info #171: KMP_AFFINITY: OS proc 4 maps to package 0 core 0 thread 1 \n",
            "OMP: Info #171: KMP_AFFINITY: OS proc 1 maps to package 0 core 1 thread 0 \n",
            "OMP: Info #171: KMP_AFFINITY: OS proc 5 maps to package 0 core 1 thread 1 \n",
            "OMP: Info #171: KMP_AFFINITY: OS proc 2 maps to package 0 core 2 thread 0 \n",
            "OMP: Info #171: KMP_AFFINITY: OS proc 6 maps to package 0 core 2 thread 1 \n",
            "OMP: Info #171: KMP_AFFINITY: OS proc 3 maps to package 0 core 3 thread 0 \n",
            "OMP: Info #171: KMP_AFFINITY: OS proc 7 maps to package 0 core 3 thread 1 \n",
            "OMP: Info #250: KMP_AFFINITY: pid 2780 tid 2838 thread 0 bound to OS proc set 0\n",
            "OMP: Info #250: KMP_AFFINITY: pid 2780 tid 2838 thread 1 bound to OS proc set 1\n",
            "OMP: Info #250: KMP_AFFINITY: pid 2780 tid 2837 thread 2 bound to OS proc set 2\n",
            "OMP: Info #250: KMP_AFFINITY: pid 2780 tid 2841 thread 3 bound to OS proc set 3\n",
            "OMP: Info #250: KMP_AFFINITY: pid 2780 tid 2842 thread 4 bound to OS proc set 4\n",
            "OMP: Info #250: KMP_AFFINITY: pid 2780 tid 2843 thread 5 bound to OS proc set 5\n",
            "OMP: Info #250: KMP_AFFINITY: pid 2780 tid 2844 thread 6 bound to OS proc set 6\n",
            "OMP: Info #250: KMP_AFFINITY: pid 2780 tid 2846 thread 8 bound to OS proc set 0\n",
            "OMP: Info #250: KMP_AFFINITY: pid 2780 tid 2845 thread 7 bound to OS proc set 7\n",
            "OMP: Info #250: KMP_AFFINITY: pid 2780 tid 2848 thread 10 bound to OS proc set 2\n",
            "OMP: Info #250: KMP_AFFINITY: pid 2780 tid 2847 thread 9 bound to OS proc set 1\n",
            "OMP: Info #250: KMP_AFFINITY: pid 2780 tid 2849 thread 11 bound to OS proc set 3\n",
            "OMP: Info #250: KMP_AFFINITY: pid 2780 tid 2850 thread 12 bound to OS proc set 4\n",
            "OMP: Info #250: KMP_AFFINITY: pid 2780 tid 2851 thread 13 bound to OS proc set 5\n",
            "OMP: Info #250: KMP_AFFINITY: pid 2780 tid 2853 thread 15 bound to OS proc set 7\n",
            "OMP: Info #250: KMP_AFFINITY: pid 2780 tid 2852 thread 14 bound to OS proc set 6\n",
            "OMP: Info #250: KMP_AFFINITY: pid 2780 tid 2854 thread 16 bound to OS proc set 0\n"
          ]
        },
        {
          "name": "stdout",
          "output_type": "stream",
          "text": [
            "56/56 [==============================] - 34s 614ms/step - loss: 0.0472\n",
            "Epoch 2/50\n",
            "56/56 [==============================] - 26s 473ms/step - loss: 0.0178\n",
            "Epoch 3/50\n",
            "56/56 [==============================] - 27s 480ms/step - loss: 0.0311\n",
            "Epoch 4/50\n",
            "56/56 [==============================] - 26s 465ms/step - loss: 0.0288\n",
            "Epoch 5/50\n",
            "56/56 [==============================] - 27s 488ms/step - loss: 0.0395\n",
            "Epoch 6/50\n",
            "56/56 [==============================] - 27s 485ms/step - loss: 0.0103\n",
            "Epoch 7/50\n",
            "56/56 [==============================] - 27s 482ms/step - loss: 0.0024\n",
            "Epoch 8/50\n",
            "56/56 [==============================] - 26s 463ms/step - loss: 0.0013\n",
            "Epoch 9/50\n",
            "56/56 [==============================] - 27s 478ms/step - loss: 0.0016\n",
            "Epoch 10/50\n",
            "56/56 [==============================] - 26s 461ms/step - loss: 0.0010\n",
            "Epoch 11/50\n",
            "56/56 [==============================] - 25s 453ms/step - loss: 0.0014\n",
            "Epoch 12/50\n",
            "56/56 [==============================] - 27s 474ms/step - loss: 0.0013\n",
            "Epoch 13/50\n",
            "56/56 [==============================] - 25s 453ms/step - loss: 0.0014\n",
            "Epoch 14/50\n",
            "56/56 [==============================] - 27s 474ms/step - loss: 0.0011\n",
            "Epoch 15/50\n",
            "56/56 [==============================] - 26s 458ms/step - loss: 9.9311e-04\n",
            "Epoch 16/50\n",
            "56/56 [==============================] - 28s 501ms/step - loss: 0.0011\n",
            "Epoch 17/50\n",
            "56/56 [==============================] - 28s 508ms/step - loss: 0.0013\n",
            "Epoch 18/50\n",
            "56/56 [==============================] - 28s 500ms/step - loss: 0.0013\n",
            "Epoch 19/50\n",
            "56/56 [==============================] - 29s 512ms/step - loss: 0.0013\n",
            "Epoch 20/50\n",
            "56/56 [==============================] - 29s 518ms/step - loss: 0.0011\n",
            "Epoch 21/50\n",
            "56/56 [==============================] - 29s 523ms/step - loss: 0.0013\n",
            "Epoch 22/50\n",
            "56/56 [==============================] - 27s 491ms/step - loss: 0.0011\n",
            "Epoch 23/50\n",
            "56/56 [==============================] - 28s 494ms/step - loss: 9.8150e-04\n",
            "Epoch 24/50\n",
            "56/56 [==============================] - 27s 486ms/step - loss: 0.0011\n",
            "Epoch 25/50\n",
            "56/56 [==============================] - 28s 499ms/step - loss: 9.0690e-04\n",
            "Epoch 26/50\n",
            "56/56 [==============================] - 27s 476ms/step - loss: 0.0010\n",
            "Epoch 27/50\n",
            "56/56 [==============================] - 27s 478ms/step - loss: 0.0014\n",
            "Epoch 28/50\n",
            "56/56 [==============================] - 26s 462ms/step - loss: 0.0014\n",
            "Epoch 29/50\n",
            "56/56 [==============================] - 26s 469ms/step - loss: 0.0011\n",
            "Epoch 30/50\n",
            "56/56 [==============================] - 26s 468ms/step - loss: 9.4452e-04\n",
            "Epoch 31/50\n",
            "56/56 [==============================] - 26s 463ms/step - loss: 9.1229e-04\n",
            "Epoch 32/50\n",
            "56/56 [==============================] - 28s 494ms/step - loss: 9.5674e-04\n",
            "Epoch 33/50\n",
            "56/56 [==============================] - 26s 460ms/step - loss: 0.0012\n",
            "Epoch 34/50\n",
            "56/56 [==============================] - 27s 473ms/step - loss: 0.0012\n",
            "Epoch 35/50\n",
            "56/56 [==============================] - 25s 455ms/step - loss: 8.6643e-04\n",
            "Epoch 36/50\n",
            "56/56 [==============================] - 27s 473ms/step - loss: 0.0012\n",
            "Epoch 37/50\n",
            "56/56 [==============================] - 26s 457ms/step - loss: 0.0011\n",
            "Epoch 38/50\n",
            "56/56 [==============================] - 25s 446ms/step - loss: 9.3126e-04\n",
            "Epoch 39/50\n",
            "56/56 [==============================] - 26s 461ms/step - loss: 0.0012\n",
            "Epoch 40/50\n",
            "56/56 [==============================] - 26s 456ms/step - loss: 0.0012\n",
            "Epoch 41/50\n",
            "56/56 [==============================] - 25s 451ms/step - loss: 0.0014\n",
            "Epoch 42/50\n",
            "56/56 [==============================] - 25s 452ms/step - loss: 0.0011\n",
            "Epoch 43/50\n",
            "56/56 [==============================] - 26s 464ms/step - loss: 0.0012\n",
            "Epoch 44/50\n",
            "56/56 [==============================] - 26s 461ms/step - loss: 9.6871e-04\n",
            "Epoch 45/50\n",
            "56/56 [==============================] - 26s 467ms/step - loss: 0.0012\n",
            "Epoch 46/50\n",
            "56/56 [==============================] - 26s 460ms/step - loss: 0.0011\n",
            "Epoch 47/50\n",
            "56/56 [==============================] - 25s 455ms/step - loss: 0.0015\n",
            "Epoch 48/50\n",
            "56/56 [==============================] - 26s 466ms/step - loss: 0.0011\n",
            "Epoch 49/50\n",
            "56/56 [==============================] - 25s 449ms/step - loss: 0.0011\n",
            "Epoch 50/50\n",
            "56/56 [==============================] - 26s 463ms/step - loss: 0.0015\n"
          ]
        },
        {
          "data": {
            "text/plain": [
              "<tensorflow.python.keras.callbacks.History at 0x7f27a0b11810>"
            ]
          },
          "execution_count": 36,
          "metadata": {},
          "output_type": "execute_result"
        }
      ],
      "source": [
        "# Train the model\n",
        "\n",
        "model.fit_generator(train_tsGenerator60, epochs = 50)"
      ]
    },
    {
      "cell_type": "markdown",
      "id": "f2b18eaf",
      "metadata": {
        "id": "f2b18eaf"
      },
      "source": [
        "# Visualize Model's Performance after Training"
      ]
    },
    {
      "cell_type": "code",
      "execution_count": null,
      "id": "0f931475",
      "metadata": {
        "id": "0f931475",
        "outputId": "6e7624e1-9c96-42c7-abae-33909376c51a"
      },
      "outputs": [
        {
          "data": {
            "text/plain": [
              "dict_keys(['loss'])"
            ]
          },
          "execution_count": 38,
          "metadata": {},
          "output_type": "execute_result"
        }
      ],
      "source": [
        "loss_history_keys = model.history.history.keys()\n",
        "\n",
        "# model.history.history is a dict\n",
        "# 'loss' is its key\n",
        "# 'loss' is the loss during training\n",
        "loss_history_keys"
      ]
    },
    {
      "cell_type": "code",
      "execution_count": null,
      "id": "9fe2bc1d",
      "metadata": {
        "id": "9fe2bc1d",
        "outputId": "6c8f5df9-6a12-4a29-e3e6-8b46366eb3f0"
      },
      "outputs": [
        {
          "data": {
            "text/plain": [
              "<AxesSubplot:>"
            ]
          },
          "execution_count": 39,
          "metadata": {},
          "output_type": "execute_result"
        },
        {
          "data": {
            "image/png": "[encoded data removed]",
            "text/plain": [
              "<Figure size 432x288 with 1 Axes>"
            ]
          },
          "metadata": {
            "needs_background": "light"
          },
          "output_type": "display_data"
        }
      ],
      "source": [
        "# load the loss data (model.history.history) into a dataframe\n",
        "df_model_loss = pd.DataFrame(model.history.history)\n",
        "\n",
        "# Visualize the loss data using DataFrame.plot()\n",
        "df_model_loss.plot()"
      ]
    },
    {
      "cell_type": "markdown",
      "id": "3b0e8117",
      "metadata": {
        "id": "3b0e8117"
      },
      "source": [
        "# Prediction for Testing: Using Timeseries Generator\n",
        "\n",
        "### Create Timeseries Generator for Testing"
      ]
    },
    {
      "cell_type": "code",
      "execution_count": null,
      "id": "f6674a12",
      "metadata": {
        "id": "f6674a12"
      },
      "outputs": [],
      "source": [
        "# batch_size MUST be 1\n",
        "batch_size1 = 1\n",
        "\n",
        "# Create a TimeseriesGenerator for testing: test_tsGenerator for testing: test_tsGenerator\n",
        "test_tsGenerator60 = TimeseriesGenerator(normalized_test, normalized_test, length = length60, batch_size = batch_size1)"
      ]
    },
    {
      "cell_type": "markdown",
      "id": "473a4d3d",
      "metadata": {
        "id": "473a4d3d"
      },
      "source": [
        "### Predict Future Data Points for Testing\n"
      ]
    },
    {
      "cell_type": "code",
      "execution_count": null,
      "id": "3f8ea7c5",
      "metadata": {
        "id": "3f8ea7c5"
      },
      "outputs": [],
      "source": [
        "normalized_prediction = model.predict_generator (test_tsGenerator60)"
      ]
    },
    {
      "cell_type": "code",
      "execution_count": null,
      "id": "321d6f6c",
      "metadata": {
        "id": "321d6f6c",
        "outputId": "6c325344-9736-4526-966f-4b367f16298e"
      },
      "outputs": [
        {
          "data": {
            "text/plain": [
              "array([[0.87816966],\n",
              "       [0.87988514],\n",
              "       [0.8812126 ],\n",
              "       [0.88187253],\n",
              "       [0.8818637 ],\n",
              "       [0.8813868 ],\n",
              "       [0.8806264 ],\n",
              "       [0.8794731 ],\n",
              "       [0.8778915 ],\n",
              "       [0.8755724 ],\n",
              "       [0.8728018 ],\n",
              "       [0.8700386 ],\n",
              "       [0.8673682 ],\n",
              "       [0.8647224 ],\n",
              "       [0.8621066 ],\n",
              "       [0.8598295 ],\n",
              "       [0.85778147],\n",
              "       [0.85608184],\n",
              "       [0.854709  ],\n",
              "       [0.8536289 ],\n",
              "       [0.8526858 ],\n",
              "       [0.85174835],\n",
              "       [0.85073745],\n",
              "       [0.84971356],\n",
              "       [0.8485592 ],\n",
              "       [0.8475112 ],\n",
              "       [0.8466341 ],\n",
              "       [0.84601057],\n",
              "       [0.8456669 ],\n",
              "       [0.8455088 ],\n",
              "       [0.8455652 ],\n",
              "       [0.84603965],\n",
              "       [0.8468864 ],\n",
              "       [0.8480672 ],\n",
              "       [0.84962267],\n",
              "       [0.85139763],\n",
              "       [0.85341144],\n",
              "       [0.855729  ],\n",
              "       [0.85828304],\n",
              "       [0.8609626 ],\n",
              "       [0.8636476 ],\n",
              "       [0.86637366],\n",
              "       [0.86922276],\n",
              "       [0.8722211 ],\n",
              "       [0.87534535],\n",
              "       [0.8787225 ],\n",
              "       [0.88246757],\n",
              "       [0.8867136 ],\n",
              "       [0.89129996],\n",
              "       [0.89619875],\n",
              "       [0.9012457 ],\n",
              "       [0.9063742 ],\n",
              "       [0.91172844],\n",
              "       [0.91721666],\n",
              "       [0.92257273],\n",
              "       [0.9273612 ],\n",
              "       [0.9316894 ],\n",
              "       [0.93553936],\n",
              "       [0.9390282 ],\n",
              "       [0.9423357 ],\n",
              "       [0.9455523 ],\n",
              "       [0.948534  ],\n",
              "       [0.95109844],\n",
              "       [0.9532472 ],\n",
              "       [0.9550178 ],\n",
              "       [0.9564307 ],\n",
              "       [0.9576627 ],\n",
              "       [0.9587648 ],\n",
              "       [0.95977545],\n",
              "       [0.96064734],\n",
              "       [0.9613674 ],\n",
              "       [0.96190536],\n",
              "       [0.962287  ],\n",
              "       [0.9627582 ],\n",
              "       [0.9634105 ],\n",
              "       [0.96440256],\n",
              "       [0.9656726 ],\n",
              "       [0.9668727 ],\n",
              "       [0.9678899 ],\n",
              "       [0.96878415],\n",
              "       [0.9696871 ],\n",
              "       [0.9706334 ],\n",
              "       [0.97153604],\n",
              "       [0.97229993],\n",
              "       [0.97297   ],\n",
              "       [0.97388566],\n",
              "       [0.9750452 ],\n",
              "       [0.9764624 ],\n",
              "       [0.97817254],\n",
              "       [0.98017526],\n",
              "       [0.9825803 ],\n",
              "       [0.9852278 ],\n",
              "       [0.98791933],\n",
              "       [0.9901701 ],\n",
              "       [0.99186116],\n",
              "       [0.9928788 ],\n",
              "       [0.9933164 ],\n",
              "       [0.9932637 ],\n",
              "       [0.9926271 ],\n",
              "       [0.99123335],\n",
              "       [0.9891716 ],\n",
              "       [0.9867673 ],\n",
              "       [0.98430115],\n",
              "       [0.9819412 ],\n",
              "       [0.97966534],\n",
              "       [0.977234  ],\n",
              "       [0.97467226],\n",
              "       [0.97193384],\n",
              "       [0.9691436 ],\n",
              "       [0.9661341 ],\n",
              "       [0.9630556 ],\n",
              "       [0.96007454],\n",
              "       [0.95737803],\n",
              "       [0.9550121 ],\n",
              "       [0.95297796],\n",
              "       [0.95116246],\n",
              "       [0.949468  ],\n",
              "       [0.94806415],\n",
              "       [0.9470694 ],\n",
              "       [0.94662   ],\n",
              "       [0.94685555],\n",
              "       [0.9477715 ],\n",
              "       [0.9492804 ],\n",
              "       [0.9511895 ],\n",
              "       [0.95333755],\n",
              "       [0.9556436 ],\n",
              "       [0.9579846 ],\n",
              "       [0.96054554],\n",
              "       [0.9631288 ],\n",
              "       [0.96557033],\n",
              "       [0.96786666],\n",
              "       [0.9701085 ],\n",
              "       [0.9722717 ],\n",
              "       [0.9743582 ],\n",
              "       [0.97629565],\n",
              "       [0.9780791 ],\n",
              "       [0.97949946],\n",
              "       [0.98050404],\n",
              "       [0.98126024],\n",
              "       [0.9818569 ],\n",
              "       [0.98242044],\n",
              "       [0.98317933],\n",
              "       [0.984513  ],\n",
              "       [0.98667574],\n",
              "       [0.9896725 ],\n",
              "       [0.9933914 ],\n",
              "       [0.9976841 ],\n",
              "       [1.0019784 ],\n",
              "       [1.0062494 ],\n",
              "       [1.0107882 ],\n",
              "       [1.0155705 ],\n",
              "       [1.0204326 ],\n",
              "       [1.0250999 ],\n",
              "       [1.0296912 ],\n",
              "       [1.03463   ],\n",
              "       [1.040265  ],\n",
              "       [1.0465428 ],\n",
              "       [1.0536621 ],\n",
              "       [1.0612161 ],\n",
              "       [1.0688013 ],\n",
              "       [1.0765287 ],\n",
              "       [1.0837795 ],\n",
              "       [1.090229  ],\n",
              "       [1.095659  ],\n",
              "       [1.1002855 ],\n",
              "       [1.1044344 ],\n",
              "       [1.1083039 ],\n",
              "       [1.112279  ],\n",
              "       [1.1163806 ],\n",
              "       [1.1205755 ],\n",
              "       [1.1247046 ],\n",
              "       [1.1286203 ],\n",
              "       [1.1325741 ],\n",
              "       [1.1364329 ],\n",
              "       [1.1397661 ],\n",
              "       [1.1422204 ],\n",
              "       [1.1437479 ],\n",
              "       [1.1444244 ],\n",
              "       [1.1446016 ],\n",
              "       [1.1445165 ],\n",
              "       [1.1440629 ],\n",
              "       [1.1433347 ],\n",
              "       [1.1421673 ],\n",
              "       [1.1403106 ],\n",
              "       [1.137653  ],\n",
              "       [1.134126  ],\n",
              "       [1.1297958 ],\n",
              "       [1.1247073 ],\n",
              "       [1.119044  ],\n",
              "       [1.1129915 ],\n",
              "       [1.1075903 ],\n",
              "       [1.1035367 ],\n",
              "       [1.1009886 ],\n",
              "       [1.0999547 ],\n",
              "       [1.1000308 ],\n",
              "       [1.1008731 ],\n",
              "       [1.102164  ],\n",
              "       [1.1039212 ],\n",
              "       [1.1061586 ],\n",
              "       [1.1084815 ],\n",
              "       [1.1104418 ],\n",
              "       [1.1118962 ],\n",
              "       [1.1131111 ],\n",
              "       [1.114182  ],\n",
              "       [1.1148918 ]], dtype=float32)"
            ]
          },
          "execution_count": 42,
          "metadata": {},
          "output_type": "execute_result"
        }
      ],
      "source": [
        "# prediction is a numpy 2D array with only one column\n",
        "normalized_prediction"
      ]
    },
    {
      "cell_type": "code",
      "execution_count": null,
      "id": "6a51e71f",
      "metadata": {
        "id": "6a51e71f",
        "outputId": "d239c39e-6fa9-4d19-909d-b6546d215360"
      },
      "outputs": [
        {
          "data": {
            "text/plain": [
              "205"
            ]
          },
          "execution_count": 43,
          "metadata": {},
          "output_type": "execute_result"
        }
      ],
      "source": [
        "len(normalized_prediction)"
      ]
    },
    {
      "cell_type": "code",
      "execution_count": null,
      "id": "79cef18c",
      "metadata": {
        "id": "79cef18c"
      },
      "outputs": [],
      "source": [
        "# Convert normalized predictions back to the true values\n",
        "\n",
        "prediction = scaler.inverse_transform(normalized_prediction)"
      ]
    },
    {
      "cell_type": "code",
      "execution_count": null,
      "id": "048d578c",
      "metadata": {
        "id": "048d578c"
      },
      "outputs": [],
      "source": [
        "# Flatten all the 2D array\n",
        "\n",
        "# data_train = data_train.reshape((-1))\n",
        "# data_test = data_test.reshape((-1))\n",
        "# prediction = prediction.reshape((-1))\n",
        "\n",
        "prediction_index = np.arange(1844, 2049, step = 1)\n",
        "\n",
        "df_prediction = pd.DataFrame(data = prediction, index = prediction_index, columns = ['Prediction'])"
      ]
    },
    {
      "cell_type": "code",
      "execution_count": null,
      "id": "757b65a9",
      "metadata": {
        "id": "757b65a9",
        "outputId": "3129a184-a5b8-4fe5-ed54-d4d5d0e23976"
      },
      "outputs": [
        {
          "data": {
            "text/html": [
              "<div>\n",
              "<style scoped>\n",
              "    .dataframe tbody tr th:only-of-type {\n",
              "        vertical-align: middle;\n",
              "    }\n",
              "\n",
              "    .dataframe tbody tr th {\n",
              "        vertical-align: top;\n",
              "    }\n",
              "\n",
              "    .dataframe thead th {\n",
              "        text-align: right;\n",
              "    }\n",
              "</style>\n",
              "<table border=\"1\" class=\"dataframe\">\n",
              "  <thead>\n",
              "    <tr style=\"text-align: right;\">\n",
              "      <th></th>\n",
              "      <th>Prediction</th>\n",
              "    </tr>\n",
              "  </thead>\n",
              "  <tbody>\n",
              "    <tr>\n",
              "      <th>1844</th>\n",
              "      <td>127.893356</td>\n",
              "    </tr>\n",
              "    <tr>\n",
              "      <th>1845</th>\n",
              "      <td>128.108337</td>\n",
              "    </tr>\n",
              "    <tr>\n",
              "      <th>1846</th>\n",
              "      <td>128.274673</td>\n",
              "    </tr>\n",
              "    <tr>\n",
              "      <th>1847</th>\n",
              "      <td>128.357361</td>\n",
              "    </tr>\n",
              "    <tr>\n",
              "      <th>1848</th>\n",
              "      <td>128.356262</td>\n",
              "    </tr>\n",
              "    <tr>\n",
              "      <th>...</th>\n",
              "      <td>...</td>\n",
              "    </tr>\n",
              "    <tr>\n",
              "      <th>2044</th>\n",
              "      <td>156.999542</td>\n",
              "    </tr>\n",
              "    <tr>\n",
              "      <th>2045</th>\n",
              "      <td>157.181793</td>\n",
              "    </tr>\n",
              "    <tr>\n",
              "      <th>2046</th>\n",
              "      <td>157.334045</td>\n",
              "    </tr>\n",
              "    <tr>\n",
              "      <th>2047</th>\n",
              "      <td>157.468231</td>\n",
              "    </tr>\n",
              "    <tr>\n",
              "      <th>2048</th>\n",
              "      <td>157.557175</td>\n",
              "    </tr>\n",
              "  </tbody>\n",
              "</table>\n",
              "<p>205 rows × 1 columns</p>\n",
              "</div>"
            ],
            "text/plain": [
              "      Prediction\n",
              "1844  127.893356\n",
              "1845  128.108337\n",
              "1846  128.274673\n",
              "1847  128.357361\n",
              "1848  128.356262\n",
              "...          ...\n",
              "2044  156.999542\n",
              "2045  157.181793\n",
              "2046  157.334045\n",
              "2047  157.468231\n",
              "2048  157.557175\n",
              "\n",
              "[205 rows x 1 columns]"
            ]
          },
          "execution_count": 46,
          "metadata": {},
          "output_type": "execute_result"
        }
      ],
      "source": [
        "df_prediction "
      ]
    },
    {
      "cell_type": "markdown",
      "id": "166ca922",
      "metadata": {
        "id": "166ca922"
      },
      "source": [
        "### Visualize Predictions"
      ]
    },
    {
      "cell_type": "code",
      "execution_count": null,
      "id": "c7947d1f",
      "metadata": {
        "id": "c7947d1f",
        "outputId": "7bbb97ee-9e16-4b73-f23e-9713e74755f3"
      },
      "outputs": [
        {
          "data": {
            "text/plain": [
              "<AxesSubplot:>"
            ]
          },
          "execution_count": 47,
          "metadata": {},
          "output_type": "execute_result"
        },
        {
          "data": {
            "image/png": "[encoded data removed]",
            "text/plain": [
              "<Figure size 576x864 with 1 Axes>"
            ]
          },
          "metadata": {
            "needs_background": "light"
          },
          "output_type": "display_data"
        }
      ],
      "source": [
        "ax = data_train.plot()\n",
        "\n",
        "df_prediction.plot(ax = ax, figsize = (8,12))"
      ]
    },
    {
      "cell_type": "markdown",
      "id": "95649547",
      "metadata": {
        "id": "95649547"
      },
      "source": [
        "### Visualize Prediciton and Compare Against Actual Close Price"
      ]
    },
    {
      "cell_type": "code",
      "execution_count": null,
      "id": "327ef2dd",
      "metadata": {
        "id": "327ef2dd",
        "outputId": "33c8c37a-5b8c-4365-ec88-d479b7cb500a"
      },
      "outputs": [
        {
          "data": {
            "text/plain": [
              "<AxesSubplot:>"
            ]
          },
          "execution_count": 48,
          "metadata": {},
          "output_type": "execute_result"
        },
        {
          "data": {
            "image/png": "[encoded data removed]",
            "text/plain": [
              "<Figure size 576x864 with 1 Axes>"
            ]
          },
          "metadata": {
            "needs_background": "light"
          },
          "output_type": "display_data"
        }
      ],
      "source": [
        "ax = df.plot()\n",
        "df_prediction.plot(ax = ax, figsize = (8,12))"
      ]
    },
    {
      "cell_type": "markdown",
      "id": "245c3247",
      "metadata": {
        "id": "245c3247"
      },
      "source": [
        "# Timeseries Forecasting with LSTM\n",
        "\n",
        "## Overview\n",
        "##### Timeseries Forecasting:\n",
        "##### --) Forecast into the \"future\" or unknown range\n",
        "##### --) Should employ all the available data\n",
        "##### --) i.e, NOT split the data into training/testing\n",
        "\n",
        "## Preprocess Full Input Dataset"
      ]
    },
    {
      "cell_type": "code",
      "execution_count": null,
      "id": "04c0650e",
      "metadata": {
        "id": "04c0650e"
      },
      "outputs": [],
      "source": [
        "# Still use MinMaxScaler to normalize the full input dataset df\n",
        "\n",
        "full_scaler = MinMaxScaler()\n",
        "normalized_full_data = full_scaler.fit_transform(df)"
      ]
    },
    {
      "cell_type": "markdown",
      "id": "198e7f9d",
      "metadata": {
        "id": "198e7f9d"
      },
      "source": [
        "## Create Timeseries Generator for Forecasting"
      ]
    },
    {
      "cell_type": "code",
      "execution_count": null,
      "id": "ada343f3",
      "metadata": {
        "id": "ada343f3",
        "outputId": "08f6d4cc-9e3a-4907-a0f8-c7488e223d85"
      },
      "outputs": [
        {
          "data": {
            "text/plain": [
              "60"
            ]
          },
          "execution_count": 50,
          "metadata": {},
          "output_type": "execute_result"
        }
      ],
      "source": [
        "# Number of time steps of the input time series\n",
        "# Still use length60:\n",
        "length60"
      ]
    },
    {
      "cell_type": "code",
      "execution_count": null,
      "id": "5033b518",
      "metadata": {
        "id": "5033b518"
      },
      "outputs": [],
      "source": [
        "# Create timeseries Generator for forecasting\n",
        "\n",
        "forecast_tsGenerator = TimeseriesGenerator(normalized_full_data, normalized_full_data, length = length60, batch_size = batch_size32)"
      ]
    },
    {
      "cell_type": "markdown",
      "id": "5582b6b8",
      "metadata": {
        "id": "5582b6b8"
      },
      "source": [
        "## Build, Compile, and Fit LSTM Model for Forecasting"
      ]
    },
    {
      "cell_type": "code",
      "execution_count": null,
      "id": "db056656",
      "metadata": {
        "id": "db056656",
        "outputId": "c388b779-1aa5-4900-dbfc-a0b8ea71c2de"
      },
      "outputs": [
        {
          "name": "stdout",
          "output_type": "stream",
          "text": [
            "Epoch 1/40\n",
            "63/63 [==============================] - 29s 455ms/step - loss: 8.6819e-04\n",
            "Epoch 2/40\n",
            "63/63 [==============================] - 28s 449ms/step - loss: 0.0014\n",
            "Epoch 3/40\n",
            "63/63 [==============================] - 28s 444ms/step - loss: 9.3169e-04\n",
            "Epoch 4/40\n",
            "63/63 [==============================] - 29s 457ms/step - loss: 9.3509e-04\n",
            "Epoch 5/40\n",
            "63/63 [==============================] - 28s 447ms/step - loss: 0.0023\n",
            "Epoch 6/40\n",
            "63/63 [==============================] - 29s 460ms/step - loss: 0.0011\n",
            "Epoch 7/40\n",
            "63/63 [==============================] - 28s 448ms/step - loss: 0.0015\n",
            "Epoch 8/40\n",
            "63/63 [==============================] - 29s 465ms/step - loss: 0.0016\n",
            "Epoch 9/40\n",
            "63/63 [==============================] - 28s 445ms/step - loss: 8.3769e-04\n",
            "Epoch 10/40\n",
            "63/63 [==============================] - 29s 466ms/step - loss: 0.0010\n",
            "Epoch 11/40\n",
            "63/63 [==============================] - 29s 455ms/step - loss: 8.9019e-04\n",
            "Epoch 12/40\n",
            "63/63 [==============================] - 31s 487ms/step - loss: 7.7416e-04\n",
            "Epoch 13/40\n",
            "63/63 [==============================] - 30s 474ms/step - loss: 9.2447e-04\n",
            "Epoch 14/40\n",
            "63/63 [==============================] - 30s 470ms/step - loss: 9.9001e-04\n",
            "Epoch 15/40\n",
            "63/63 [==============================] - 29s 467ms/step - loss: 8.7484e-04\n",
            "Epoch 16/40\n",
            "63/63 [==============================] - 30s 476ms/step - loss: 8.4799e-04\n",
            "Epoch 17/40\n",
            "63/63 [==============================] - 30s 469ms/step - loss: 7.7041e-04\n",
            "Epoch 18/40\n",
            "63/63 [==============================] - 30s 482ms/step - loss: 8.2000e-04\n",
            "Epoch 19/40\n",
            "63/63 [==============================] - 30s 469ms/step - loss: 8.7397e-04\n",
            "Epoch 20/40\n",
            "63/63 [==============================] - 30s 479ms/step - loss: 0.0013\n",
            "Epoch 21/40\n",
            "63/63 [==============================] - 29s 466ms/step - loss: 8.2213e-04\n",
            "Epoch 22/40\n",
            "63/63 [==============================] - 31s 487ms/step - loss: 7.9846e-04\n",
            "Epoch 23/40\n",
            "63/63 [==============================] - 31s 490ms/step - loss: 9.0434e-04\n",
            "Epoch 24/40\n",
            "63/63 [==============================] - 31s 486ms/step - loss: 0.0011\n",
            "Epoch 25/40\n",
            "63/63 [==============================] - 29s 465ms/step - loss: 9.4213e-04\n",
            "Epoch 26/40\n",
            "63/63 [==============================] - 30s 482ms/step - loss: 0.0012\n",
            "Epoch 27/40\n",
            "63/63 [==============================] - 30s 474ms/step - loss: 6.3573e-04\n",
            "Epoch 28/40\n",
            "63/63 [==============================] - 30s 480ms/step - loss: 6.4569e-04\n",
            "Epoch 29/40\n",
            "63/63 [==============================] - 30s 472ms/step - loss: 9.8981e-04\n",
            "Epoch 30/40\n",
            "63/63 [==============================] - 30s 480ms/step - loss: 0.0011\n",
            "Epoch 31/40\n",
            "63/63 [==============================] - 29s 459ms/step - loss: 0.0012\n",
            "Epoch 32/40\n",
            "63/63 [==============================] - 30s 478ms/step - loss: 8.6207e-04\n",
            "Epoch 33/40\n",
            "63/63 [==============================] - 29s 456ms/step - loss: 9.6828e-04\n",
            "Epoch 34/40\n",
            "63/63 [==============================] - 31s 486ms/step - loss: 8.3340e-04\n",
            "Epoch 35/40\n",
            "63/63 [==============================] - 28s 446ms/step - loss: 5.6728e-04\n",
            "Epoch 36/40\n",
            "63/63 [==============================] - 29s 460ms/step - loss: 0.0023\n",
            "Epoch 37/40\n",
            "63/63 [==============================] - 28s 446ms/step - loss: 8.5705e-04\n",
            "Epoch 38/40\n",
            "63/63 [==============================] - 29s 468ms/step - loss: 9.9806e-04\n",
            "Epoch 39/40\n",
            "63/63 [==============================] - 29s 459ms/step - loss: 6.1028e-04\n",
            "Epoch 40/40\n",
            "63/63 [==============================] - 28s 452ms/step - loss: 9.6269e-04\n"
          ]
        },
        {
          "data": {
            "text/plain": [
              "<tensorflow.python.keras.callbacks.History at 0x7f2798f3db50>"
            ]
          },
          "execution_count": 52,
          "metadata": {},
          "output_type": "execute_result"
        }
      ],
      "source": [
        "# Train/Fit LSTM model\n",
        "# In forecasting, we don't validate, only forecast\n",
        "# so don't need earlystop or validation_generator\n",
        "\n",
        "model.fit_generator(forecast_tsGenerator, epochs = 40)"
      ]
    },
    {
      "cell_type": "markdown",
      "id": "3c2fa9ed",
      "metadata": {
        "id": "3c2fa9ed"
      },
      "source": [
        "## Timeseries Forecast Using LSTM Neural Network: 02/19/2022 - 06/01/2022"
      ]
    },
    {
      "cell_type": "code",
      "execution_count": null,
      "id": "b94ebb18",
      "metadata": {
        "id": "b94ebb18"
      },
      "outputs": [],
      "source": [
        "forecast = []\n",
        "\n",
        "# Set periods with the time span of forecasting\n",
        "# Let's forecast for the next 103 business days (02/19/2022 - 06/01/2022)\n",
        "periods = 103\n",
        "\n",
        "first_eval_batch = normalized_full_data[-length60:]\n",
        "current_batch = first_eval_batch.reshape((1, length60, n_features))\n",
        "\n",
        "for i in range(periods):\n",
        "    \n",
        "    # get prediction 1 time stamp ahead ([0] is for grabbing just the number instead of [array])\n",
        "    current_pred = model.predict(current_batch)[0]\n",
        "    \n",
        "    # store prediction\n",
        "    forecast.append(current_pred)\n",
        "    \n",
        "    # update batch to now include prediction and drop the first value\n",
        "    current_batch = np.append(current_batch[:,1:,:],[[current_pred]], axis = 1)"
      ]
    },
    {
      "cell_type": "markdown",
      "id": "e943134e",
      "metadata": {
        "id": "e943134e"
      },
      "source": [
        "## Inverse to Transform Normalized Data Back into True Values"
      ]
    },
    {
      "cell_type": "code",
      "execution_count": null,
      "id": "ec7c8ded",
      "metadata": {
        "id": "ec7c8ded",
        "outputId": "e458db11-7ae8-40b8-d72a-70ba5f884d26"
      },
      "outputs": [
        {
          "data": {
            "text/plain": [
              "array([[174.65891493],\n",
              "       [174.56806361],\n",
              "       [174.60110668],\n",
              "       [174.74866057],\n",
              "       [174.98574484],\n",
              "       [175.28582327],\n",
              "       [175.62664536],\n",
              "       [175.99159663],\n",
              "       [176.3693659 ],\n",
              "       [176.75281032],\n",
              "       [177.13772245],\n",
              "       [177.52180289],\n",
              "       [177.90402422],\n",
              "       [178.28393635],\n",
              "       [178.661461  ],\n",
              "       [179.03668624],\n",
              "       [179.40975884],\n",
              "       [179.7807375 ],\n",
              "       [180.14975922],\n",
              "       [180.51692183],\n",
              "       [180.88224491],\n",
              "       [181.24575782],\n",
              "       [181.60752904],\n",
              "       [181.96754879],\n",
              "       [182.32584643],\n",
              "       [182.68242196],\n",
              "       [183.03729494],\n",
              "       [183.39046537],\n",
              "       [183.7419724 ],\n",
              "       [184.09179645],\n",
              "       [184.43997667],\n",
              "       [184.78653262],\n",
              "       [185.13144473],\n",
              "       [185.47475215],\n",
              "       [185.8164353 ],\n",
              "       [186.15655289],\n",
              "       [186.49510492],\n",
              "       [186.83207182],\n",
              "       [187.16747317],\n",
              "       [187.50136767],\n",
              "       [187.83373574],\n",
              "       [188.1645774 ],\n",
              "       [188.49395134],\n",
              "       [188.82183801],\n",
              "       [189.14676968],\n",
              "       [189.46778746],\n",
              "       [189.7844021 ],\n",
              "       [190.09639834],\n",
              "       [190.40371748],\n",
              "       [190.70639866],\n",
              "       [191.00446143],\n",
              "       [191.2981015 ],\n",
              "       [191.58743629],\n",
              "       [191.8725832 ],\n",
              "       [192.1536401 ],\n",
              "       [192.43068525],\n",
              "       [192.7037578 ],\n",
              "       [192.97295558],\n",
              "       [193.23829819],\n",
              "       [193.49988345],\n",
              "       [193.75773094],\n",
              "       [194.01195807],\n",
              "       [194.26256485],\n",
              "       [194.50960999],\n",
              "       [194.75317176],\n",
              "       [194.99330887],\n",
              "       [195.23006046],\n",
              "       [195.46346566],\n",
              "       [195.69360277],\n",
              "       [195.92051091],\n",
              "       [196.14424879],\n",
              "       [196.36483599],\n",
              "       [196.58235077],\n",
              "       [196.79681272],\n",
              "       [197.00830011],\n",
              "       [197.21681294],\n",
              "       [197.42248819],\n",
              "       [197.62528673],\n",
              "       [197.82532597],\n",
              "       [198.02258634],\n",
              "       [198.2171657 ],\n",
              "       [198.4090249 ],\n",
              "       [198.59828135],\n",
              "       [198.78493507],\n",
              "       [198.96904475],\n",
              "       [199.15064954],\n",
              "       [199.32976901],\n",
              "       [199.50646185],\n",
              "       [199.68076723],\n",
              "       [199.85266555],\n",
              "       [200.02227425],\n",
              "       [200.18955418],\n",
              "       [200.35462276],\n",
              "       [200.51742127],\n",
              "       [200.67806715],\n",
              "       [200.83650167],\n",
              "       [200.99282269],\n",
              "       [201.14706935],\n",
              "       [201.29924163],\n",
              "       [201.44935913],\n",
              "       [201.5975001 ],\n",
              "       [201.74362542],\n",
              "       [201.8878525 ]])"
            ]
          },
          "execution_count": 54,
          "metadata": {},
          "output_type": "execute_result"
        }
      ],
      "source": [
        "forecast = full_scaler.inverse_transform(forecast)\n",
        "\n",
        "forecast"
      ]
    },
    {
      "cell_type": "code",
      "execution_count": null,
      "id": "a12519f3",
      "metadata": {
        "id": "a12519f3",
        "outputId": "27f2b71d-2315-41fe-8386-75f481ce1deb"
      },
      "outputs": [
        {
          "data": {
            "text/html": [
              "<div>\n",
              "<style scoped>\n",
              "    .dataframe tbody tr th:only-of-type {\n",
              "        vertical-align: middle;\n",
              "    }\n",
              "\n",
              "    .dataframe tbody tr th {\n",
              "        vertical-align: top;\n",
              "    }\n",
              "\n",
              "    .dataframe thead th {\n",
              "        text-align: right;\n",
              "    }\n",
              "</style>\n",
              "<table border=\"1\" class=\"dataframe\">\n",
              "  <thead>\n",
              "    <tr style=\"text-align: right;\">\n",
              "      <th></th>\n",
              "      <th>Close</th>\n",
              "    </tr>\n",
              "  </thead>\n",
              "  <tbody>\n",
              "    <tr>\n",
              "      <th>0</th>\n",
              "      <td>19.754642</td>\n",
              "    </tr>\n",
              "    <tr>\n",
              "      <th>1</th>\n",
              "      <td>19.320715</td>\n",
              "    </tr>\n",
              "    <tr>\n",
              "      <th>2</th>\n",
              "      <td>19.426071</td>\n",
              "    </tr>\n",
              "    <tr>\n",
              "      <th>3</th>\n",
              "      <td>19.287144</td>\n",
              "    </tr>\n",
              "    <tr>\n",
              "      <th>4</th>\n",
              "      <td>19.409286</td>\n",
              "    </tr>\n",
              "    <tr>\n",
              "      <th>...</th>\n",
              "      <td>...</td>\n",
              "    </tr>\n",
              "    <tr>\n",
              "      <th>2044</th>\n",
              "      <td>168.880005</td>\n",
              "    </tr>\n",
              "    <tr>\n",
              "      <th>2045</th>\n",
              "      <td>172.789993</td>\n",
              "    </tr>\n",
              "    <tr>\n",
              "      <th>2046</th>\n",
              "      <td>172.550003</td>\n",
              "    </tr>\n",
              "    <tr>\n",
              "      <th>2047</th>\n",
              "      <td>168.880005</td>\n",
              "    </tr>\n",
              "    <tr>\n",
              "      <th>2048</th>\n",
              "      <td>167.300003</td>\n",
              "    </tr>\n",
              "  </tbody>\n",
              "</table>\n",
              "<p>2049 rows × 1 columns</p>\n",
              "</div>"
            ],
            "text/plain": [
              "           Close\n",
              "0      19.754642\n",
              "1      19.320715\n",
              "2      19.426071\n",
              "3      19.287144\n",
              "4      19.409286\n",
              "...          ...\n",
              "2044  168.880005\n",
              "2045  172.789993\n",
              "2046  172.550003\n",
              "2047  168.880005\n",
              "2048  167.300003\n",
              "\n",
              "[2049 rows x 1 columns]"
            ]
          },
          "execution_count": 55,
          "metadata": {},
          "output_type": "execute_result"
        }
      ],
      "source": [
        "df"
      ]
    },
    {
      "cell_type": "markdown",
      "id": "79be5cb3",
      "metadata": {
        "id": "79be5cb3"
      },
      "source": [
        "## Creating New Timestamp Index with Pandas: 02/19/2022 - 06/01/2022"
      ]
    },
    {
      "cell_type": "code",
      "execution_count": null,
      "id": "ccf1a1ab",
      "metadata": {
        "id": "ccf1a1ab"
      },
      "outputs": [],
      "source": [
        "# Calculate forecast index\n",
        "\n",
        "forecast_index = np.arange(2049, 2152, step = 1)"
      ]
    },
    {
      "cell_type": "code",
      "execution_count": null,
      "id": "4a5da0f5",
      "metadata": {
        "id": "4a5da0f5"
      },
      "outputs": [],
      "source": [
        "forecast_df = pd.DataFrame(data = forecast, index = forecast_index, columns = ['Forecast'])"
      ]
    },
    {
      "cell_type": "code",
      "execution_count": null,
      "id": "eef50e39",
      "metadata": {
        "id": "eef50e39",
        "outputId": "a575cb51-4fd6-4b1b-d4d3-6a0ba2f25a6f"
      },
      "outputs": [
        {
          "data": {
            "text/html": [
              "<div>\n",
              "<style scoped>\n",
              "    .dataframe tbody tr th:only-of-type {\n",
              "        vertical-align: middle;\n",
              "    }\n",
              "\n",
              "    .dataframe tbody tr th {\n",
              "        vertical-align: top;\n",
              "    }\n",
              "\n",
              "    .dataframe thead th {\n",
              "        text-align: right;\n",
              "    }\n",
              "</style>\n",
              "<table border=\"1\" class=\"dataframe\">\n",
              "  <thead>\n",
              "    <tr style=\"text-align: right;\">\n",
              "      <th></th>\n",
              "      <th>Forecast</th>\n",
              "    </tr>\n",
              "  </thead>\n",
              "  <tbody>\n",
              "    <tr>\n",
              "      <th>2049</th>\n",
              "      <td>174.658915</td>\n",
              "    </tr>\n",
              "    <tr>\n",
              "      <th>2050</th>\n",
              "      <td>174.568064</td>\n",
              "    </tr>\n",
              "    <tr>\n",
              "      <th>2051</th>\n",
              "      <td>174.601107</td>\n",
              "    </tr>\n",
              "    <tr>\n",
              "      <th>2052</th>\n",
              "      <td>174.748661</td>\n",
              "    </tr>\n",
              "    <tr>\n",
              "      <th>2053</th>\n",
              "      <td>174.985745</td>\n",
              "    </tr>\n",
              "    <tr>\n",
              "      <th>...</th>\n",
              "      <td>...</td>\n",
              "    </tr>\n",
              "    <tr>\n",
              "      <th>2147</th>\n",
              "      <td>201.299242</td>\n",
              "    </tr>\n",
              "    <tr>\n",
              "      <th>2148</th>\n",
              "      <td>201.449359</td>\n",
              "    </tr>\n",
              "    <tr>\n",
              "      <th>2149</th>\n",
              "      <td>201.597500</td>\n",
              "    </tr>\n",
              "    <tr>\n",
              "      <th>2150</th>\n",
              "      <td>201.743625</td>\n",
              "    </tr>\n",
              "    <tr>\n",
              "      <th>2151</th>\n",
              "      <td>201.887853</td>\n",
              "    </tr>\n",
              "  </tbody>\n",
              "</table>\n",
              "<p>103 rows × 1 columns</p>\n",
              "</div>"
            ],
            "text/plain": [
              "        Forecast\n",
              "2049  174.658915\n",
              "2050  174.568064\n",
              "2051  174.601107\n",
              "2052  174.748661\n",
              "2053  174.985745\n",
              "...          ...\n",
              "2147  201.299242\n",
              "2148  201.449359\n",
              "2149  201.597500\n",
              "2150  201.743625\n",
              "2151  201.887853\n",
              "\n",
              "[103 rows x 1 columns]"
            ]
          },
          "execution_count": 58,
          "metadata": {},
          "output_type": "execute_result"
        }
      ],
      "source": [
        "forecast_df"
      ]
    },
    {
      "cell_type": "markdown",
      "id": "4eef0e8c",
      "metadata": {
        "id": "4eef0e8c"
      },
      "source": [
        "## Plot the Forecast"
      ]
    },
    {
      "cell_type": "code",
      "execution_count": null,
      "id": "494c8a61",
      "metadata": {
        "id": "494c8a61",
        "outputId": "f44bcb8d-03ec-4dd4-fd28-7486ada24675"
      },
      "outputs": [
        {
          "data": {
            "text/plain": [
              "<AxesSubplot:>"
            ]
          },
          "execution_count": 59,
          "metadata": {},
          "output_type": "execute_result"
        },
        {
          "data": {
            "image/png": "[encoded data removed]",
            "text/plain": [
              "<Figure size 432x288 with 1 Axes>"
            ]
          },
          "metadata": {
            "needs_background": "light"
          },
          "output_type": "display_data"
        },
        {
          "data": {
            "image/png": "[encoded data removed]",
            "text/plain": [
              "<Figure size 432x288 with 1 Axes>"
            ]
          },
          "metadata": {
            "needs_background": "light"
          },
          "output_type": "display_data"
        }
      ],
      "source": [
        "df.plot()\n",
        "forecast_df.plot()"
      ]
    },
    {
      "cell_type": "markdown",
      "id": "3e1c721d",
      "metadata": {
        "id": "3e1c721d"
      },
      "source": [
        "## Joining Pandas Plots"
      ]
    },
    {
      "cell_type": "code",
      "execution_count": null,
      "id": "89560e59",
      "metadata": {
        "id": "89560e59",
        "outputId": "831fa157-f85c-44f3-e732-310c1ce358b1"
      },
      "outputs": [
        {
          "data": {
            "text/plain": [
              "<AxesSubplot:>"
            ]
          },
          "execution_count": 60,
          "metadata": {},
          "output_type": "execute_result"
        },
        {
          "data": {
            "image/png": "[encoded data removed]",
            "text/plain": [
              "<Figure size 864x576 with 1 Axes>"
            ]
          },
          "metadata": {
            "needs_background": "light"
          },
          "output_type": "display_data"
        }
      ],
      "source": [
        "ax = df.plot()\n",
        "forecast_df.plot(ax = ax, figsize = (12,8))"
      ]
    },
    {
      "cell_type": "code",
      "execution_count": null,
      "id": "4a4683c6",
      "metadata": {
        "id": "4a4683c6"
      },
      "outputs": [],
      "source": [
        "# Homework directions did not specify to choose dates previous to current date\n",
        "# so I was not able to plot the prediction against the true values as the values I predicted\n",
        "# are actual future values."
      ]
    }
  ],
  "metadata": {
    "kernelspec": {
      "display_name": "Python 3",
      "language": "python",
      "name": "python3"
    },
    "language_info": {
      "codemirror_mode": {
        "name": "ipython",
        "version": 3
      },
      "file_extension": ".py",
      "mimetype": "text/x-python",
      "name": "python",
      "nbconvert_exporter": "python",
      "pygments_lexer": "ipython3",
      "version": "3.7.12"
    },
    "colab": {
      "name": "LSTM_APPL.ipynb",
      "provenance": [],
      "include_colab_link": true
    }
  },
  "nbformat": 4,
  "nbformat_minor": 5
}