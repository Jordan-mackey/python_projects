{
  "cells": [
    {
      "cell_type": "markdown",
      "metadata": {
        "id": "view-in-github",
        "colab_type": "text"
      },
      "source": [
        "<a href=\"https://colab.research.google.com/github/Jordan-mackey/python_projects/blob/main/Simple_RNN.ipynb\" target=\"_parent\"><img src=\"https://colab.research.google.com/assets/colab-badge.svg\" alt=\"Open In Colab\"/></a>"
      ]
    },
    {
      "cell_type": "markdown",
      "id": "f2836026",
      "metadata": {
        "id": "f2836026"
      },
      "source": [
        "# Import Libraries"
      ]
    },
    {
      "cell_type": "code",
      "execution_count": null,
      "id": "28453275",
      "metadata": {
        "id": "28453275"
      },
      "outputs": [],
      "source": [
        "# Import libraries\n",
        "\n",
        "import pandas as pd\n",
        "import numpy as np\n",
        "%matplotlib inline\n",
        "import matplotlib.pyplot as plt"
      ]
    },
    {
      "cell_type": "code",
      "execution_count": null,
      "id": "61807056",
      "metadata": {
        "id": "61807056"
      },
      "outputs": [],
      "source": [
        "# For time series RNN\n",
        "from tensorflow.keras.models import Sequential\n",
        "from tensorflow.keras.layers import Dense, SimpleRNN"
      ]
    },
    {
      "cell_type": "code",
      "execution_count": null,
      "id": "2676400e",
      "metadata": {
        "id": "2676400e"
      },
      "outputs": [],
      "source": [
        "# Import Keras: Timeseries generator\n",
        "# produces time series batches used in training/testing the model\n",
        "from tensorflow.keras.preprocessing.sequence import TimeseriesGenerator\n",
        "\n",
        "# Import Keras: MinMaxScaler\n",
        "# Used to preprocess or scale the data\n",
        "from sklearn.preprocessing import MinMaxScaler"
      ]
    },
    {
      "cell_type": "markdown",
      "id": "c13ee188",
      "metadata": {
        "id": "c13ee188"
      },
      "source": [
        "# Generate Data"
      ]
    },
    {
      "cell_type": "code",
      "execution_count": null,
      "id": "95cbd6c5",
      "metadata": {
        "id": "95cbd6c5"
      },
      "outputs": [],
      "source": [
        "# Create a simple sine wave using numpy\n",
        "x = np.linspace(0,64,1024)\n",
        "y = np.sin(x)"
      ]
    },
    {
      "cell_type": "code",
      "execution_count": null,
      "id": "6f6f37bc",
      "metadata": {
        "id": "6f6f37bc",
        "outputId": "dc83d5db-f97b-4219-89d0-f8bcfae1d397"
      },
      "outputs": [
        {
          "data": {
            "text/plain": [
              "array([0.00000000e+00, 6.25610948e-02, 1.25122190e-01, ...,\n",
              "       6.38748778e+01, 6.39374389e+01, 6.40000000e+01])"
            ]
          },
          "execution_count": 8,
          "metadata": {},
          "output_type": "execute_result"
        }
      ],
      "source": [
        "x"
      ]
    },
    {
      "cell_type": "code",
      "execution_count": null,
      "id": "32987b45",
      "metadata": {
        "id": "32987b45",
        "outputId": "607183a5-6237-4b63-fbaa-ab7a9f768a41"
      },
      "outputs": [
        {
          "data": {
            "text/plain": [
              "array([0.        , 0.06252029, 0.12479597, ..., 0.86393146, 0.89372716,\n",
              "       0.92002604])"
            ]
          },
          "execution_count": 9,
          "metadata": {},
          "output_type": "execute_result"
        }
      ],
      "source": [
        "y"
      ]
    },
    {
      "cell_type": "code",
      "execution_count": null,
      "id": "407ab9ca",
      "metadata": {
        "id": "407ab9ca",
        "outputId": "4cea8678-ac88-42e9-a388-6f0b5753eae8"
      },
      "outputs": [
        {
          "data": {
            "text/plain": [
              "[<matplotlib.lines.Line2D at 0x7fb082535250>]"
            ]
          },
          "execution_count": 10,
          "metadata": {},
          "output_type": "execute_result"
        },
        {
          "data": {
            "image/png": "[encoded data removed]",
            "text/plain": [
              "<Figure size 432x288 with 1 Axes>"
            ]
          },
          "metadata": {
            "needs_background": "light"
          },
          "output_type": "display_data"
        }
      ],
      "source": [
        "plt.plot(x,y)"
      ]
    },
    {
      "cell_type": "code",
      "execution_count": null,
      "id": "b7f61f72",
      "metadata": {
        "id": "b7f61f72"
      },
      "outputs": [],
      "source": [
        "# Load the data into a df\n",
        "# Index: x; Data: y; column label; Sine\n",
        "\n",
        "df = pd.DataFrame(data=y, index=x, columns=[\"Sine\"])"
      ]
    },
    {
      "cell_type": "code",
      "execution_count": null,
      "id": "5b59c7c8",
      "metadata": {
        "id": "5b59c7c8",
        "outputId": "4ec8dbe9-2e1e-4cc7-eabf-743f13a30e29"
      },
      "outputs": [
        {
          "data": {
            "text/html": [
              "<div>\n",
              "<style scoped>\n",
              "    .dataframe tbody tr th:only-of-type {\n",
              "        vertical-align: middle;\n",
              "    }\n",
              "\n",
              "    .dataframe tbody tr th {\n",
              "        vertical-align: top;\n",
              "    }\n",
              "\n",
              "    .dataframe thead th {\n",
              "        text-align: right;\n",
              "    }\n",
              "</style>\n",
              "<table border=\"1\" class=\"dataframe\">\n",
              "  <thead>\n",
              "    <tr style=\"text-align: right;\">\n",
              "      <th></th>\n",
              "      <th>Sine</th>\n",
              "    </tr>\n",
              "  </thead>\n",
              "  <tbody>\n",
              "    <tr>\n",
              "      <th>0.000000</th>\n",
              "      <td>0.000000</td>\n",
              "    </tr>\n",
              "    <tr>\n",
              "      <th>0.062561</th>\n",
              "      <td>0.062520</td>\n",
              "    </tr>\n",
              "    <tr>\n",
              "      <th>0.125122</th>\n",
              "      <td>0.124796</td>\n",
              "    </tr>\n",
              "    <tr>\n",
              "      <th>0.187683</th>\n",
              "      <td>0.186583</td>\n",
              "    </tr>\n",
              "    <tr>\n",
              "      <th>0.250244</th>\n",
              "      <td>0.247641</td>\n",
              "    </tr>\n",
              "  </tbody>\n",
              "</table>\n",
              "</div>"
            ],
            "text/plain": [
              "              Sine\n",
              "0.000000  0.000000\n",
              "0.062561  0.062520\n",
              "0.125122  0.124796\n",
              "0.187683  0.186583\n",
              "0.250244  0.247641"
            ]
          },
          "execution_count": 12,
          "metadata": {},
          "output_type": "execute_result"
        }
      ],
      "source": [
        "df.head(5)"
      ]
    },
    {
      "cell_type": "code",
      "execution_count": null,
      "id": "b7f459c4",
      "metadata": {
        "id": "b7f459c4",
        "outputId": "cbddf21a-1e7c-4bbf-8d5f-29e497e1892e"
      },
      "outputs": [
        {
          "data": {
            "text/plain": [
              "1024"
            ]
          },
          "execution_count": 13,
          "metadata": {},
          "output_type": "execute_result"
        }
      ],
      "source": [
        "len(df)"
      ]
    },
    {
      "cell_type": "markdown",
      "id": "c4219375",
      "metadata": {
        "id": "c4219375"
      },
      "source": [
        "# Split Data --> Train/Test"
      ]
    },
    {
      "cell_type": "code",
      "execution_count": null,
      "id": "8d5e6b00",
      "metadata": {
        "id": "8d5e6b00"
      },
      "outputs": [],
      "source": [
        "# Set percentage of data used for testing\n",
        "\n",
        "test_percent = 0.2"
      ]
    },
    {
      "cell_type": "code",
      "execution_count": null,
      "id": "515920fb",
      "metadata": {
        "id": "515920fb",
        "outputId": "c17fc859-a049-4ded-8b42-fc790d0cdeb4"
      },
      "outputs": [
        {
          "data": {
            "text/plain": [
              "204.8"
            ]
          },
          "execution_count": 15,
          "metadata": {},
          "output_type": "execute_result"
        }
      ],
      "source": [
        "# Number of data points reserved for testing the model\n",
        "# 20% of the original dataset\n",
        "\n",
        "len(df)*test_percent"
      ]
    },
    {
      "cell_type": "code",
      "execution_count": null,
      "id": "58bf4f9a",
      "metadata": {
        "id": "58bf4f9a"
      },
      "outputs": [],
      "source": [
        "# Need to find the length (number of data points) of the testing dataset\n",
        "# It has been found above that around 205 data points are used for testing\n",
        "\n",
        "test_length = np.round(len(df)*test_percent)"
      ]
    },
    {
      "cell_type": "code",
      "execution_count": null,
      "id": "d3bcab2a",
      "metadata": {
        "id": "d3bcab2a",
        "outputId": "db270dea-c064-460e-a881-eef06a786d93"
      },
      "outputs": [
        {
          "data": {
            "text/plain": [
              "205.0"
            ]
          },
          "execution_count": 17,
          "metadata": {},
          "output_type": "execute_result"
        }
      ],
      "source": [
        "test_length"
      ]
    },
    {
      "cell_type": "code",
      "execution_count": null,
      "id": "c63477ee",
      "metadata": {
        "id": "c63477ee"
      },
      "outputs": [],
      "source": [
        "# The testing data set starts at this index\n",
        "# Index starting with 0 \n",
        "\n",
        "test_start_index = int(len(df) - test_length)"
      ]
    },
    {
      "cell_type": "code",
      "execution_count": null,
      "id": "ac0a0252",
      "metadata": {
        "id": "ac0a0252",
        "outputId": "44873246-e9c8-4dc3-cf08-7a17fc6d5372"
      },
      "outputs": [
        {
          "data": {
            "text/plain": [
              "819"
            ]
          },
          "execution_count": 19,
          "metadata": {},
          "output_type": "execute_result"
        }
      ],
      "source": [
        "test_start_index"
      ]
    },
    {
      "cell_type": "code",
      "execution_count": null,
      "id": "10475e70",
      "metadata": {
        "id": "10475e70"
      },
      "outputs": [],
      "source": [
        "# Create separate training/testing datasets\n",
        "\n",
        "# Training dataset: ALL the indices from start to test_start_index\n",
        "# (excluding test_start_index)\n",
        "data_train = df.iloc[: test_start_index]\n",
        "\n",
        "# Testing dataset: ALl the indices from test_start_index to the end of the dataframe\n",
        "# including test_start_index\n",
        "data_test = df.iloc[test_start_index :]"
      ]
    },
    {
      "cell_type": "code",
      "execution_count": null,
      "id": "9af397b9",
      "metadata": {
        "id": "9af397b9",
        "outputId": "d2de6b30-1172-4d52-c18c-6f9e270eb02c"
      },
      "outputs": [
        {
          "data": {
            "text/html": [
              "<div>\n",
              "<style scoped>\n",
              "    .dataframe tbody tr th:only-of-type {\n",
              "        vertical-align: middle;\n",
              "    }\n",
              "\n",
              "    .dataframe tbody tr th {\n",
              "        vertical-align: top;\n",
              "    }\n",
              "\n",
              "    .dataframe thead th {\n",
              "        text-align: right;\n",
              "    }\n",
              "</style>\n",
              "<table border=\"1\" class=\"dataframe\">\n",
              "  <thead>\n",
              "    <tr style=\"text-align: right;\">\n",
              "      <th></th>\n",
              "      <th>Sine</th>\n",
              "    </tr>\n",
              "  </thead>\n",
              "  <tbody>\n",
              "    <tr>\n",
              "      <th>0.000000</th>\n",
              "      <td>0.000000</td>\n",
              "    </tr>\n",
              "    <tr>\n",
              "      <th>0.062561</th>\n",
              "      <td>0.062520</td>\n",
              "    </tr>\n",
              "    <tr>\n",
              "      <th>0.125122</th>\n",
              "      <td>0.124796</td>\n",
              "    </tr>\n",
              "    <tr>\n",
              "      <th>0.187683</th>\n",
              "      <td>0.186583</td>\n",
              "    </tr>\n",
              "    <tr>\n",
              "      <th>0.250244</th>\n",
              "      <td>0.247641</td>\n",
              "    </tr>\n",
              "  </tbody>\n",
              "</table>\n",
              "</div>"
            ],
            "text/plain": [
              "              Sine\n",
              "0.000000  0.000000\n",
              "0.062561  0.062520\n",
              "0.125122  0.124796\n",
              "0.187683  0.186583\n",
              "0.250244  0.247641"
            ]
          },
          "execution_count": 21,
          "metadata": {},
          "output_type": "execute_result"
        }
      ],
      "source": [
        "data_train.head(5)"
      ]
    },
    {
      "cell_type": "markdown",
      "id": "4b4a2218",
      "metadata": {
        "id": "4b4a2218"
      },
      "source": [
        "# Normalize the Data (Scaled to range [0,1]"
      ]
    },
    {
      "cell_type": "code",
      "execution_count": null,
      "id": "4af7bbcb",
      "metadata": {
        "id": "4af7bbcb"
      },
      "outputs": [],
      "source": [
        "# Create a MinMaxScaler to normalize the data\n",
        "scaler = MinMaxScaler()"
      ]
    },
    {
      "cell_type": "code",
      "execution_count": null,
      "id": "ecc06a83",
      "metadata": {
        "id": "ecc06a83",
        "outputId": "f7ce636a-a286-4c11-b9c1-b3651542c028"
      },
      "outputs": [
        {
          "data": {
            "text/plain": [
              "MinMaxScaler()"
            ]
          },
          "execution_count": 23,
          "metadata": {},
          "output_type": "execute_result"
        }
      ],
      "source": [
        "# Ignore the warning: just converting the data to floats\n",
        "# Only scale the TRAINING data - not the testing data\n",
        "\n",
        "# Train the scaler to perform the normalization\n",
        "scaler.fit(data_train)"
      ]
    },
    {
      "cell_type": "code",
      "execution_count": null,
      "id": "22f1a49a",
      "metadata": {
        "id": "22f1a49a"
      },
      "outputs": [],
      "source": [
        "# Normalize the training dataset\n",
        "normalized_train = scaler.transform(data_train)\n",
        "\n",
        "# Normalize the testing dataset\n",
        "normalized_test = scaler.transform(data_test)"
      ]
    },
    {
      "cell_type": "markdown",
      "id": "96eeaa68",
      "metadata": {
        "id": "96eeaa68"
      },
      "source": [
        "# Create Timeseries Generator Instance"
      ]
    },
    {
      "cell_type": "code",
      "execution_count": null,
      "id": "d54b7aef",
      "metadata": {
        "id": "d54b7aef"
      },
      "outputs": [],
      "source": [
        "# Timeseries Generator: Generate time series batches for training/testing\n",
        "\n",
        "# Set the length of the input sequence \n",
        "# i.e., the number of time series steps that are used to predict the future one \n",
        "# Use 50 historical data points to predict the next one\n",
        "length = 50\n",
        "\n",
        "# batch_size: Number of time series samples in each batch\n",
        "# One sample: each sample is a time series input sequence\n",
        "# Only one sample in each batch\n",
        "batch_size = 1\n",
        "\n",
        "# Create a TimeSeriesGenerator for training: train_tzGenerator\n",
        "# --) This time series generator produces time series batches used to train the model \n",
        "# Timeseries Generator (inputs dataset, outputs dataset, length, batch_size)\n",
        "\n",
        "train_tsGenerator50 = TimeseriesGenerator(normalized_train, normalized_train, length=length, batch_size=batch_size)\n"
      ]
    },
    {
      "cell_type": "code",
      "execution_count": null,
      "id": "f1f42c8a",
      "metadata": {
        "id": "f1f42c8a"
      },
      "outputs": [],
      "source": [
        "# What does the first batch look like?\n",
        "X,y = train_tsGenerator50[0]\n",
        "\n"
      ]
    },
    {
      "cell_type": "code",
      "execution_count": null,
      "id": "4b022242",
      "metadata": {
        "id": "4b022242",
        "outputId": "663e7159-5274-4440-91f8-aa45640b40e9"
      },
      "outputs": [
        {
          "data": {
            "text/plain": [
              "array([0.49999882, 0.53125908, 0.56239703, 0.59329085, 0.62381964,\n",
              "       0.65386398, 0.6833063 , 0.7120314 , 0.73992691, 0.76688367,\n",
              "       0.79279621, 0.81756315, 0.84108759, 0.86327747, 0.88404598,\n",
              "       0.90331187, 0.92099975, 0.93704041, 0.9513711 , 0.96393574,\n",
              "       0.97468518, 0.98357735, 0.99057747, 0.99565814, 0.99879949,\n",
              "       0.99998922, 0.99922268, 0.99650287, 0.99184044, 0.98525361,\n",
              "       0.97676818, 0.96641732, 0.95424156, 0.94028851, 0.92461278,\n",
              "       0.90727571, 0.88834511, 0.86789506, 0.84600558, 0.82276231,\n",
              "       0.79825619, 0.7725831 , 0.7458435 , 0.718142  , 0.68958699,\n",
              "       0.66029019, 0.63036624, 0.59993221, 0.56910717, 0.53801175])"
            ]
          },
          "execution_count": 27,
          "metadata": {},
          "output_type": "execute_result"
        }
      ],
      "source": [
        "# Print X.flatten()\n",
        "X.flatten()"
      ]
    },
    {
      "cell_type": "code",
      "execution_count": null,
      "id": "68f1ab6c",
      "metadata": {
        "id": "68f1ab6c",
        "outputId": "7f88714d-055c-4a32-d243-ff8d1d6749e8"
      },
      "outputs": [
        {
          "data": {
            "text/plain": [
              "array([[0.50676759]])"
            ]
          },
          "execution_count": 28,
          "metadata": {},
          "output_type": "execute_result"
        }
      ],
      "source": [
        "# Print y: What does X predict?\n",
        "\n",
        "y"
      ]
    },
    {
      "cell_type": "markdown",
      "id": "7fd6e357",
      "metadata": {
        "id": "7fd6e357"
      },
      "source": [
        "# Build, Train, and Test Model"
      ]
    },
    {
      "cell_type": "markdown",
      "id": "59728776",
      "metadata": {
        "id": "59728776"
      },
      "source": [
        "## Build Simple RNN Model"
      ]
    },
    {
      "cell_type": "code",
      "execution_count": null,
      "id": "5f766350",
      "metadata": {
        "id": "5f766350"
      },
      "outputs": [],
      "source": [
        "# Dataset: Only one column/attripbute: Sine values of index \n",
        "# Features: How many features used to train the model: only one\n",
        "n_features = 1\n",
        "\n",
        "# define model \n",
        "model = Sequential()\n",
        "\n",
        "# Add a simple RNN layer: Using SimpleRNN cells\n",
        "# This layer has 100 neurons: One neuron for each input data point\n",
        "# NOTES: # time series steps of the input sequence: 50\n",
        "model.add(SimpleRNN(100, input_shape = (length, n_features)))\n",
        "\n",
        "# Add a FC (fully-connected) layer for the final prediction\n",
        "# Only one neuron of the dense/fully-connected layer\n",
        "# Output: Predict the next data point of the input sequence: only one value\n",
        "model.add(Dense(1))"
      ]
    },
    {
      "cell_type": "markdown",
      "id": "04da9ec8",
      "metadata": {
        "id": "04da9ec8"
      },
      "source": [
        "# Compile Model"
      ]
    },
    {
      "cell_type": "code",
      "execution_count": null,
      "id": "6af9a66e",
      "metadata": {
        "id": "6af9a66e",
        "outputId": "945e6265-f631-41ab-da4e-63e3999736d9"
      },
      "outputs": [
        {
          "name": "stdout",
          "output_type": "stream",
          "text": [
            "Model: \"sequential_3\"\n",
            "_________________________________________________________________\n",
            "Layer (type)                 Output Shape              Param #   \n",
            "=================================================================\n",
            "simple_rnn_3 (SimpleRNN)     (None, 100)               10200     \n",
            "_________________________________________________________________\n",
            "dense_1 (Dense)              (None, 1)                 101       \n",
            "=================================================================\n",
            "Total params: 10,301\n",
            "Trainable params: 10,301\n",
            "Non-trainable params: 0\n",
            "_________________________________________________________________\n"
          ]
        }
      ],
      "source": [
        "# loss function: mse (mean squared errors)\n",
        "# NOTES: why MSI? The data is real values/continuous: A regression problem \n",
        "# Optimizer: Adam\n",
        "model.compile(optimizer='adam', loss='mse')\n",
        "\n",
        "model.summary()"
      ]
    },
    {
      "cell_type": "markdown",
      "id": "9e37bd1c",
      "metadata": {
        "id": "9e37bd1c"
      },
      "source": [
        "# Train (Fit) the Model"
      ]
    },
    {
      "cell_type": "code",
      "execution_count": null,
      "id": "b4a30971",
      "metadata": {
        "id": "b4a30971",
        "outputId": "2517801d-9479-4571-c686-bd6b798f0fde"
      },
      "outputs": [
        {
          "name": "stdout",
          "output_type": "stream",
          "text": [
            "Epoch 1/5\n",
            "WARNING:tensorflow:OMP_NUM_THREADS is no longer used by the default Keras config. To configure the number of threads, use tf.config.threading APIs.\n"
          ]
        },
        {
          "name": "stderr",
          "output_type": "stream",
          "text": [
            "\n",
            "User settings:\n",
            "\n",
            "   KMP_AFFINITY=granularity=fine,verbose,compact,1,0\n",
            "   KMP_BLOCKTIME=0\n",
            "   KMP_DUPLICATE_LIB_OK=True\n",
            "   KMP_INIT_AT_FORK=FALSE\n",
            "   KMP_SETTINGS=1\n",
            "   OMP_NUM_THREADS=8\n",
            "\n",
            "Effective settings:\n",
            "\n",
            "   KMP_ABORT_DELAY=0\n",
            "   KMP_ADAPTIVE_LOCK_PROPS='1,1024'\n",
            "   KMP_ALIGN_ALLOC=64\n",
            "   KMP_ALL_THREADPRIVATE=128\n",
            "   KMP_ATOMIC_MODE=2\n",
            "   KMP_BLOCKTIME=0\n",
            "   KMP_CPUINFO_FILE: value is not defined\n",
            "   KMP_DETERMINISTIC_REDUCTION=false\n",
            "   KMP_DEVICE_THREAD_LIMIT=2147483647\n",
            "   KMP_DISP_HAND_THREAD=false\n",
            "   KMP_DISP_NUM_BUFFERS=7\n",
            "   KMP_DUPLICATE_LIB_OK=true\n",
            "   KMP_FORCE_REDUCTION: value is not defined\n",
            "   KMP_FOREIGN_THREADS_THREADPRIVATE=true\n",
            "   KMP_FORKJOIN_BARRIER='2,2'\n",
            "   KMP_FORKJOIN_BARRIER_PATTERN='hyper,hyper'\n",
            "   KMP_FORKJOIN_FRAMES=true\n",
            "   KMP_FORKJOIN_FRAMES_MODE=3\n",
            "   KMP_GTID_MODE=3\n",
            "   KMP_HANDLE_SIGNALS=false\n",
            "   KMP_HOT_TEAMS_MAX_LEVEL=1\n",
            "   KMP_HOT_TEAMS_MODE=0\n",
            "   KMP_INIT_AT_FORK=true\n",
            "   KMP_ITT_PREPARE_DELAY=0\n",
            "   KMP_LIBRARY=throughput\n",
            "   KMP_LOCK_KIND=queuing\n",
            "   KMP_MALLOC_POOL_INCR=1M\n",
            "   KMP_MWAIT_HINTS=0\n",
            "   KMP_NUM_LOCKS_IN_BLOCK=1\n",
            "   KMP_PLAIN_BARRIER='2,2'\n",
            "   KMP_PLAIN_BARRIER_PATTERN='hyper,hyper'\n",
            "   KMP_REDUCTION_BARRIER='1,1'\n",
            "   KMP_REDUCTION_BARRIER_PATTERN='hyper,hyper'\n",
            "   KMP_SCHEDULE='static,balanced;guided,iterative'\n",
            "   KMP_SETTINGS=true\n",
            "   KMP_SPIN_BACKOFF_PARAMS='4096,100'\n",
            "   KMP_STACKOFFSET=64\n",
            "   KMP_STACKPAD=0\n",
            "   KMP_STACKSIZE=8M\n",
            "   KMP_STORAGE_MAP=false\n",
            "   KMP_TASKING=2\n",
            "   KMP_TASKLOOP_MIN_TASKS=0\n",
            "   KMP_TASK_STEALING_CONSTRAINT=1\n",
            "   KMP_TEAMS_THREAD_LIMIT=8\n",
            "   KMP_TOPOLOGY_METHOD=all\n",
            "   KMP_USER_LEVEL_MWAIT=false\n",
            "   KMP_USE_YIELD=1\n",
            "   KMP_VERSION=false\n",
            "   KMP_WARNINGS=true\n",
            "   OMP_AFFINITY_FORMAT='OMP: pid %P tid %i thread %n bound to OS proc set {%A}'\n",
            "   OMP_ALLOCATOR=omp_default_mem_alloc\n",
            "   OMP_CANCELLATION=false\n",
            "   OMP_DEBUG=disabled\n",
            "   OMP_DEFAULT_DEVICE=0\n",
            "   OMP_DISPLAY_AFFINITY=false\n",
            "   OMP_DISPLAY_ENV=false\n",
            "   OMP_DYNAMIC=false\n",
            "   OMP_MAX_ACTIVE_LEVELS=2147483647\n",
            "   OMP_MAX_TASK_PRIORITY=0\n",
            "   OMP_NESTED=false\n",
            "   OMP_NUM_THREADS='8'\n",
            "   OMP_PLACES: value is not defined\n",
            "   OMP_PROC_BIND='intel'\n",
            "   OMP_SCHEDULE='static'\n",
            "   OMP_STACKSIZE=8M\n",
            "   OMP_TARGET_OFFLOAD=DEFAULT\n",
            "   OMP_THREAD_LIMIT=2147483647\n",
            "   OMP_TOOL=enabled\n",
            "   OMP_TOOL_LIBRARIES: value is not defined\n",
            "   OMP_WAIT_POLICY=PASSIVE\n",
            "   KMP_AFFINITY='verbose,warnings,respect,granularity=fine,compact,1,0'\n",
            "\n",
            "2022-02-10 00:33:45.299206: I tensorflow/core/platform/profile_utils/cpu_utils.cc:94] CPU Frequency: 2299995000 Hz\n",
            "2022-02-10 00:33:45.300953: I tensorflow/compiler/xla/service/service.cc:168] XLA service 0x559ad36ead90 initialized for platform Host (this does not guarantee that XLA will be used). Devices:\n",
            "2022-02-10 00:33:45.300993: I tensorflow/compiler/xla/service/service.cc:176]   StreamExecutor device (0): Host, Default Version\n",
            "2022-02-10 00:33:45.301998: I tensorflow/core/common_runtime/process_util.cc:136] Creating new thread pool with default inter op setting: 2. Tune using inter_op_parallelism_threads for best performance.\n"
          ]
        },
        {
          "name": "stdout",
          "output_type": "stream",
          "text": [
            " 11/769 [..............................] - ETA: 1:30 - loss: 0.1143"
          ]
        },
        {
          "name": "stderr",
          "output_type": "stream",
          "text": [
            "OMP: Info #212: KMP_AFFINITY: decoding x2APIC ids.\n",
            "OMP: Info #210: KMP_AFFINITY: Affinity capable, using global cpuid leaf 11 info\n",
            "OMP: Info #154: KMP_AFFINITY: Initial OS proc set respected: 0-7\n",
            "OMP: Info #156: KMP_AFFINITY: 8 available OS procs\n",
            "OMP: Info #157: KMP_AFFINITY: Uniform topology\n",
            "OMP: Info #179: KMP_AFFINITY: 1 packages x 4 cores/pkg x 2 threads/core (4 total cores)\n",
            "OMP: Info #214: KMP_AFFINITY: OS proc to physical thread map:\n",
            "OMP: Info #171: KMP_AFFINITY: OS proc 0 maps to package 0 core 0 thread 0 \n",
            "OMP: Info #171: KMP_AFFINITY: OS proc 4 maps to package 0 core 0 thread 1 \n",
            "OMP: Info #171: KMP_AFFINITY: OS proc 1 maps to package 0 core 1 thread 0 \n",
            "OMP: Info #171: KMP_AFFINITY: OS proc 5 maps to package 0 core 1 thread 1 \n",
            "OMP: Info #171: KMP_AFFINITY: OS proc 2 maps to package 0 core 2 thread 0 \n",
            "OMP: Info #171: KMP_AFFINITY: OS proc 6 maps to package 0 core 2 thread 1 \n",
            "OMP: Info #171: KMP_AFFINITY: OS proc 3 maps to package 0 core 3 thread 0 \n",
            "OMP: Info #171: KMP_AFFINITY: OS proc 7 maps to package 0 core 3 thread 1 \n",
            "OMP: Info #250: KMP_AFFINITY: pid 1473 tid 1950 thread 0 bound to OS proc set 0\n",
            "OMP: Info #250: KMP_AFFINITY: pid 1473 tid 1950 thread 1 bound to OS proc set 1\n",
            "OMP: Info #250: KMP_AFFINITY: pid 1473 tid 1952 thread 2 bound to OS proc set 2\n",
            "OMP: Info #250: KMP_AFFINITY: pid 1473 tid 1953 thread 3 bound to OS proc set 3\n",
            "OMP: Info #250: KMP_AFFINITY: pid 1473 tid 1954 thread 4 bound to OS proc set 4\n",
            "OMP: Info #250: KMP_AFFINITY: pid 1473 tid 1955 thread 5 bound to OS proc set 5\n",
            "OMP: Info #250: KMP_AFFINITY: pid 1473 tid 1956 thread 6 bound to OS proc set 6\n",
            "OMP: Info #250: KMP_AFFINITY: pid 1473 tid 1958 thread 8 bound to OS proc set 0\n",
            "OMP: Info #250: KMP_AFFINITY: pid 1473 tid 1957 thread 7 bound to OS proc set 7\n",
            "OMP: Info #250: KMP_AFFINITY: pid 1473 tid 1949 thread 9 bound to OS proc set 1\n",
            "OMP: Info #250: KMP_AFFINITY: pid 1473 tid 1960 thread 11 bound to OS proc set 3\n",
            "OMP: Info #250: KMP_AFFINITY: pid 1473 tid 1961 thread 12 bound to OS proc set 4\n",
            "OMP: Info #250: KMP_AFFINITY: pid 1473 tid 1959 thread 10 bound to OS proc set 2\n",
            "OMP: Info #250: KMP_AFFINITY: pid 1473 tid 1962 thread 13 bound to OS proc set 5\n",
            "OMP: Info #250: KMP_AFFINITY: pid 1473 tid 1963 thread 14 bound to OS proc set 6\n",
            "OMP: Info #250: KMP_AFFINITY: pid 1473 tid 1964 thread 15 bound to OS proc set 7\n",
            "OMP: Info #250: KMP_AFFINITY: pid 1473 tid 1965 thread 16 bound to OS proc set 0\n"
          ]
        },
        {
          "name": "stdout",
          "output_type": "stream",
          "text": [
            "769/769 [==============================] - 15s 19ms/step - loss: 0.0031\n",
            "Epoch 2/5\n",
            "769/769 [==============================] - 14s 18ms/step - loss: 2.5193e-04\n",
            "Epoch 3/5\n",
            "769/769 [==============================] - 14s 18ms/step - loss: 1.6716e-04\n",
            "Epoch 4/5\n",
            "769/769 [==============================] - 14s 18ms/step - loss: 8.9303e-05\n",
            "Epoch 5/5\n",
            "769/769 [==============================] - 14s 18ms/step - loss: 2.4175e-04\n"
          ]
        },
        {
          "data": {
            "text/plain": [
              "<tensorflow.python.keras.callbacks.History at 0x7fb079a1ce90>"
            ]
          },
          "execution_count": 34,
          "metadata": {},
          "output_type": "execute_result"
        }
      ],
      "source": [
        "# Fit the model\n",
        "# Use fit_generator(), NOT fit()\n",
        "\n",
        "model.fit_generator(train_tsGenerator50,epochs=5)"
      ]
    },
    {
      "cell_type": "markdown",
      "id": "734221d1",
      "metadata": {
        "id": "734221d1"
      },
      "source": [
        "# Visualize the Model's Performance After Training"
      ]
    },
    {
      "cell_type": "code",
      "execution_count": null,
      "id": "736c658d",
      "metadata": {
        "id": "736c658d",
        "outputId": "b82f6ed7-ab5a-4d43-a419-95593515bc47"
      },
      "outputs": [
        {
          "data": {
            "text/plain": [
              "<AxesSubplot:>"
            ]
          },
          "execution_count": 35,
          "metadata": {},
          "output_type": "execute_result"
        },
        {
          "data": {
            "image/png": "[encoded data removed]",
            "text/plain": [
              "<Figure size 432x288 with 1 Axes>"
            ]
          },
          "metadata": {
            "needs_background": "light"
          },
          "output_type": "display_data"
        }
      ],
      "source": [
        "# Load the loss data (model.history.history) into a dataframe\n",
        "df_model_loss = pd.DataFrame(model.history.history)\n",
        "\n",
        "# Visualize the loss data using DataFrame.plot()\n",
        "df_model_loss.plot()"
      ]
    },
    {
      "cell_type": "markdown",
      "id": "e38a4feb",
      "metadata": {
        "id": "e38a4feb"
      },
      "source": [
        "# Evaluate the Model on Test Data"
      ]
    },
    {
      "cell_type": "markdown",
      "id": "a23c7e94",
      "metadata": {
        "id": "a23c7e94"
      },
      "source": [
        "## A Sneak Peek into the Test Data"
      ]
    },
    {
      "cell_type": "code",
      "execution_count": null,
      "id": "89899d70",
      "metadata": {
        "id": "89899d70",
        "outputId": "d8e47c5a-88f3-4dd8-da89-b9703498611a"
      },
      "outputs": [
        {
          "data": {
            "text/plain": [
              "50"
            ]
          },
          "execution_count": 36,
          "metadata": {},
          "output_type": "execute_result"
        }
      ],
      "source": [
        "# Number of time steps of the input time series\n",
        "length"
      ]
    },
    {
      "cell_type": "code",
      "execution_count": null,
      "id": "3aa49427",
      "metadata": {
        "id": "3aa49427",
        "outputId": "e1f7735f-df6e-4e38-ca32-66c266d45ff9"
      },
      "outputs": [
        {
          "data": {
            "text/plain": [
              "array([[8.31976169e-02],\n",
              "       [6.67457884e-02],\n",
              "       [5.19891118e-02],\n",
              "       [3.89853243e-02],\n",
              "       [2.77853048e-02],\n",
              "       [1.84328746e-02],\n",
              "       [1.09646261e-02],\n",
              "       [5.40977978e-03],\n",
              "       [1.79006951e-03],\n",
              "       [1.19657859e-04],\n",
              "       [4.05080501e-04],\n",
              "       [2.64522069e-03],\n",
              "       [6.83131362e-03],\n",
              "       [1.29469807e-02],\n",
              "       [2.09682938e-02],\n",
              "       [3.08638684e-02],\n",
              "       [4.25949871e-02],\n",
              "       [5.61157506e-02],\n",
              "       [7.13732572e-02],\n",
              "       [8.83078103e-02],\n",
              "       [1.06853151e-01],\n",
              "       [1.26936720e-01],\n",
              "       [1.48479936e-01],\n",
              "       [1.71398511e-01],\n",
              "       [1.95602771e-01],\n",
              "       [2.20998016e-01],\n",
              "       [2.47484883e-01],\n",
              "       [2.74959740e-01],\n",
              "       [3.03315088e-01],\n",
              "       [3.32439984e-01],\n",
              "       [3.62220472e-01],\n",
              "       [3.92540034e-01],\n",
              "       [4.23280041e-01],\n",
              "       [4.54320219e-01],\n",
              "       [4.85539119e-01],\n",
              "       [5.16814595e-01],\n",
              "       [5.48024277e-01],\n",
              "       [5.79046054e-01],\n",
              "       [6.09758550e-01],\n",
              "       [6.40041598e-01],\n",
              "       [6.69776713e-01],\n",
              "       [6.98847552e-01],\n",
              "       [7.27140373e-01],\n",
              "       [7.54544477e-01],\n",
              "       [7.80952641e-01],\n",
              "       [8.06261542e-01],\n",
              "       [8.30372155e-01],\n",
              "       [8.53190144e-01],\n",
              "       [8.74626233e-01],\n",
              "       [8.94596548e-01]])"
            ]
          },
          "execution_count": 37,
          "metadata": {},
          "output_type": "execute_result"
        }
      ],
      "source": [
        "# Take a sneak peek into the 1st tie series batch (50 data points)\n",
        "# array[-length:]: A sequence of [50th to the last .. last]\n",
        "first_eval_batch = normalized_train[-length : ]\n",
        "\n",
        "first_eval_batch"
      ]
    },
    {
      "cell_type": "code",
      "execution_count": null,
      "id": "84060404",
      "metadata": {
        "id": "84060404",
        "outputId": "faa7c3b9-3277-4b65-98b2-00a9ac5ccf68"
      },
      "outputs": [
        {
          "data": {
            "text/plain": [
              "array([[[8.31976169e-02],\n",
              "        [6.67457884e-02],\n",
              "        [5.19891118e-02],\n",
              "        [3.89853243e-02],\n",
              "        [2.77853048e-02],\n",
              "        [1.84328746e-02],\n",
              "        [1.09646261e-02],\n",
              "        [5.40977978e-03],\n",
              "        [1.79006951e-03],\n",
              "        [1.19657859e-04],\n",
              "        [4.05080501e-04],\n",
              "        [2.64522069e-03],\n",
              "        [6.83131362e-03],\n",
              "        [1.29469807e-02],\n",
              "        [2.09682938e-02],\n",
              "        [3.08638684e-02],\n",
              "        [4.25949871e-02],\n",
              "        [5.61157506e-02],\n",
              "        [7.13732572e-02],\n",
              "        [8.83078103e-02],\n",
              "        [1.06853151e-01],\n",
              "        [1.26936720e-01],\n",
              "        [1.48479936e-01],\n",
              "        [1.71398511e-01],\n",
              "        [1.95602771e-01],\n",
              "        [2.20998016e-01],\n",
              "        [2.47484883e-01],\n",
              "        [2.74959740e-01],\n",
              "        [3.03315088e-01],\n",
              "        [3.32439984e-01],\n",
              "        [3.62220472e-01],\n",
              "        [3.92540034e-01],\n",
              "        [4.23280041e-01],\n",
              "        [4.54320219e-01],\n",
              "        [4.85539119e-01],\n",
              "        [5.16814595e-01],\n",
              "        [5.48024277e-01],\n",
              "        [5.79046054e-01],\n",
              "        [6.09758550e-01],\n",
              "        [6.40041598e-01],\n",
              "        [6.69776713e-01],\n",
              "        [6.98847552e-01],\n",
              "        [7.27140373e-01],\n",
              "        [7.54544477e-01],\n",
              "        [7.80952641e-01],\n",
              "        [8.06261542e-01],\n",
              "        [8.30372155e-01],\n",
              "        [8.53190144e-01],\n",
              "        [8.74626233e-01],\n",
              "        [8.94596548e-01]]])"
            ]
          },
          "execution_count": 39,
          "metadata": {},
          "output_type": "execute_result"
        }
      ],
      "source": [
        "first_eval_batch = first_eval_batch.reshape((1, length, n_features))\n",
        "\n",
        "first_eval_batch"
      ]
    },
    {
      "cell_type": "code",
      "execution_count": null,
      "id": "a4e36591",
      "metadata": {
        "id": "a4e36591",
        "outputId": "acd8dffc-860b-49ad-b4b6-d3e850ca555b"
      },
      "outputs": [
        {
          "data": {
            "text/plain": [
              "(1, 50, 1)"
            ]
          },
          "execution_count": 40,
          "metadata": {},
          "output_type": "execute_result"
        }
      ],
      "source": [
        "first_eval_batch.shape"
      ]
    },
    {
      "cell_type": "markdown",
      "id": "528aa508",
      "metadata": {
        "id": "528aa508"
      },
      "source": [
        "# Evaluate Model"
      ]
    },
    {
      "cell_type": "code",
      "execution_count": null,
      "id": "aa9f733b",
      "metadata": {
        "id": "aa9f733b"
      },
      "outputs": [],
      "source": [
        "# All the code for evaluation\n",
        "\n",
        "# Declare a list to store all the predictions\n",
        "# Similar to: test_predictions = list();\n",
        "test_predictions = []\n",
        "\n",
        "# Get the first time series batch for testing\n",
        "# The 1st batch: the 1st time series input sequence\n",
        "# = the last 50 data points of the train data set\n",
        "first_eval_batch = normalized_train[-length:]\n",
        "\n",
        "# Reshape the batch into 3D array: #samples/batch x length x #features\n",
        "current_batch = first_eval_batch.reshape((1, length, n_features))\n",
        "\n",
        "# Run a FOR loop to make a prediction for each batch \n",
        "for i in range(len(data_test)):\n",
        "    \n",
        "    # Get the value of the first element: The prediction\n",
        "    current_pred = model.predict(current_batch)[0]\n",
        "    \n",
        "    #store prediction into the list of predictions\n",
        "    test_predictions.append(current_pred)\n",
        "    \n",
        "    # Generate a new batch to prepare for the next iteration of testing \n",
        "    # --) Drop the first dat point of the current input seqauence\n",
        "    # --) Append the newly-predicted value to the tail of the input sequence\n",
        "    # --) Maintain the number of time series steds: 50\n",
        "    current_batch = np.append(current_batch[:,1:,:],[[current_pred]],axis=1)"
      ]
    },
    {
      "cell_type": "code",
      "execution_count": null,
      "id": "5dbc88dd",
      "metadata": {
        "id": "5dbc88dd",
        "outputId": "d750d3e3-0e3d-4e95-d046-e89b6f985785"
      },
      "outputs": [
        {
          "data": {
            "text/plain": [
              "array([[ 8.19079918e-01],\n",
              "       [ 8.50891275e-01],\n",
              "       [ 8.76388379e-01],\n",
              "       [ 8.95979160e-01],\n",
              "       [ 9.12610464e-01],\n",
              "       [ 9.23072470e-01],\n",
              "       [ 9.28708069e-01],\n",
              "       [ 9.30573329e-01],\n",
              "       [ 9.26615238e-01],\n",
              "       [ 9.17834195e-01],\n",
              "       [ 9.05064901e-01],\n",
              "       [ 8.87576725e-01],\n",
              "       [ 8.65976916e-01],\n",
              "       [ 8.39660252e-01],\n",
              "       [ 8.09751348e-01],\n",
              "       [ 7.75745594e-01],\n",
              "       [ 7.37728463e-01],\n",
              "       [ 6.96594258e-01],\n",
              "       [ 6.51635357e-01],\n",
              "       [ 6.03062758e-01],\n",
              "       [ 5.51518999e-01],\n",
              "       [ 4.96810244e-01],\n",
              "       [ 4.38630367e-01],\n",
              "       [ 3.78006708e-01],\n",
              "       [ 3.14262876e-01],\n",
              "       [ 2.47574229e-01],\n",
              "       [ 1.78229370e-01],\n",
              "       [ 1.06257267e-01],\n",
              "       [ 3.14434636e-02],\n",
              "       [-4.58265188e-02],\n",
              "       [-1.25537898e-01],\n",
              "       [-2.08009201e-01],\n",
              "       [-2.92694093e-01],\n",
              "       [-3.79712736e-01],\n",
              "       [-4.69199838e-01],\n",
              "       [-5.60921836e-01],\n",
              "       [-6.54384254e-01],\n",
              "       [-7.50224904e-01],\n",
              "       [-8.47821678e-01],\n",
              "       [-9.46806301e-01],\n",
              "       [-1.04757801e+00],\n",
              "       [-1.14947591e+00],\n",
              "       [-1.25209968e+00],\n",
              "       [-1.35568179e+00],\n",
              "       [-1.45933845e+00],\n",
              "       [-1.56280392e+00],\n",
              "       [-1.66590443e+00],\n",
              "       [-1.76775718e+00],\n",
              "       [-1.86813485e+00],\n",
              "       [-1.96637879e+00],\n",
              "       [-2.06210779e+00],\n",
              "       [-2.15461099e+00],\n",
              "       [-2.24337962e+00],\n",
              "       [-2.32811160e+00],\n",
              "       [-2.40813757e+00],\n",
              "       [-2.48305604e+00],\n",
              "       [-2.55270798e+00],\n",
              "       [-2.61660941e+00],\n",
              "       [-2.67455516e+00],\n",
              "       [-2.72661712e+00],\n",
              "       [-2.77247259e+00],\n",
              "       [-2.81220776e+00],\n",
              "       [-2.84596770e+00],\n",
              "       [-2.87377627e+00],\n",
              "       [-2.89577888e+00],\n",
              "       [-2.91228013e+00],\n",
              "       [-2.92343915e+00],\n",
              "       [-2.92947732e+00],\n",
              "       [-2.93075619e+00],\n",
              "       [-2.92750131e+00],\n",
              "       [-2.91995110e+00],\n",
              "       [-2.90842706e+00],\n",
              "       [-2.89321804e+00],\n",
              "       [-2.87447602e+00],\n",
              "       [-2.85252944e+00],\n",
              "       [-2.82760036e+00],\n",
              "       [-2.79983841e+00],\n",
              "       [-2.76948796e+00],\n",
              "       [-2.73674904e+00],\n",
              "       [-2.70172214e+00],\n",
              "       [-2.66460837e+00],\n",
              "       [-2.62556080e+00],\n",
              "       [-2.58464808e+00],\n",
              "       [-2.54203819e+00],\n",
              "       [-2.49782673e+00],\n",
              "       [-2.45209333e+00],\n",
              "       [-2.40492966e+00],\n",
              "       [-2.35642835e+00],\n",
              "       [-2.30664519e+00],\n",
              "       [-2.25563059e+00],\n",
              "       [-2.20345705e+00],\n",
              "       [-2.15016593e+00],\n",
              "       [-2.09576688e+00],\n",
              "       [-2.04032094e+00],\n",
              "       [-1.98384158e+00],\n",
              "       [-1.92631317e+00],\n",
              "       [-1.86778402e+00],\n",
              "       [-1.80823490e+00],\n",
              "       [-1.74764784e+00],\n",
              "       [-1.68603690e+00],\n",
              "       [-1.62338347e+00],\n",
              "       [-1.55965537e+00],\n",
              "       [-1.49485371e+00],\n",
              "       [-1.42896189e+00],\n",
              "       [-1.36195003e+00],\n",
              "       [-1.29381672e+00],\n",
              "       [-1.22456079e+00],\n",
              "       [-1.15417070e+00],\n",
              "       [-1.08265665e+00],\n",
              "       [-1.01005518e+00],\n",
              "       [-9.36382288e-01],\n",
              "       [-8.61691926e-01],\n",
              "       [-7.86064418e-01],\n",
              "       [-7.09576520e-01],\n",
              "       [-6.32338545e-01],\n",
              "       [-5.54500920e-01],\n",
              "       [-4.76215517e-01],\n",
              "       [-3.97670715e-01],\n",
              "       [-3.19100164e-01],\n",
              "       [-2.40742162e-01],\n",
              "       [-1.62872559e-01],\n",
              "       [-8.58033247e-02],\n",
              "       [-9.85930236e-03],\n",
              "       [ 6.46164247e-02],\n",
              "       [ 1.37250733e-01],\n",
              "       [ 2.07669783e-01],\n",
              "       [ 2.75497828e-01],\n",
              "       [ 3.40353640e-01],\n",
              "       [ 4.01865405e-01],\n",
              "       [ 4.59688371e-01],\n",
              "       [ 5.13493642e-01],\n",
              "       [ 5.62975207e-01],\n",
              "       [ 6.07881895e-01],\n",
              "       [ 6.47987328e-01],\n",
              "       [ 6.83104585e-01],\n",
              "       [ 7.13108856e-01],\n",
              "       [ 7.37905130e-01],\n",
              "       [ 7.57441076e-01],\n",
              "       [ 7.71717528e-01],\n",
              "       [ 7.80763691e-01],\n",
              "       [ 7.84641674e-01],\n",
              "       [ 7.83450539e-01],\n",
              "       [ 7.77308899e-01],\n",
              "       [ 7.66354083e-01],\n",
              "       [ 7.50740585e-01],\n",
              "       [ 7.30637444e-01],\n",
              "       [ 7.06211313e-01],\n",
              "       [ 6.77637190e-01],\n",
              "       [ 6.45093890e-01],\n",
              "       [ 6.08748782e-01],\n",
              "       [ 5.68768877e-01],\n",
              "       [ 5.25318206e-01],\n",
              "       [ 4.78545780e-01],\n",
              "       [ 4.28596081e-01],\n",
              "       [ 3.75607987e-01],\n",
              "       [ 3.19704522e-01],\n",
              "       [ 2.61003344e-01],\n",
              "       [ 1.99617344e-01],\n",
              "       [ 1.35646539e-01],\n",
              "       [ 6.91851037e-02],\n",
              "       [ 3.26616762e-04],\n",
              "       [-7.08444026e-02],\n",
              "       [-1.44245343e-01],\n",
              "       [-2.19791327e-01],\n",
              "       [-2.97398432e-01],\n",
              "       [-3.76981304e-01],\n",
              "       [-4.58445888e-01],\n",
              "       [-5.41691721e-01],\n",
              "       [-6.26609725e-01],\n",
              "       [-7.13076194e-01],\n",
              "       [-8.00950995e-01],\n",
              "       [-8.90079382e-01],\n",
              "       [-9.80283755e-01],\n",
              "       [-1.07136148e+00],\n",
              "       [-1.16309025e+00],\n",
              "       [-1.25521782e+00],\n",
              "       [-1.34746446e+00],\n",
              "       [-1.43952576e+00],\n",
              "       [-1.53107040e+00],\n",
              "       [-1.62174137e+00],\n",
              "       [-1.71116278e+00],\n",
              "       [-1.79894305e+00],\n",
              "       [-1.88467627e+00],\n",
              "       [-1.96795628e+00],\n",
              "       [-2.04837850e+00],\n",
              "       [-2.12554787e+00],\n",
              "       [-2.19908996e+00],\n",
              "       [-2.26865726e+00],\n",
              "       [-2.33393424e+00],\n",
              "       [-2.39464516e+00],\n",
              "       [-2.45056197e+00],\n",
              "       [-2.50150063e+00],\n",
              "       [-2.54732761e+00],\n",
              "       [-2.58796126e+00],\n",
              "       [-2.62336533e+00],\n",
              "       [-2.65354961e+00],\n",
              "       [-2.67856654e+00],\n",
              "       [-2.69850326e+00],\n",
              "       [-2.71348054e+00],\n",
              "       [-2.72364262e+00],\n",
              "       [-2.72915734e+00],\n",
              "       [-2.73020471e+00],\n",
              "       [-2.72697701e+00],\n",
              "       [-2.71967225e+00],\n",
              "       [-2.70849022e+00]])"
            ]
          },
          "execution_count": 43,
          "metadata": {},
          "output_type": "execute_result"
        }
      ],
      "source": [
        "# Convert the scaled result back to the real values\n",
        "true_predictions = scaler.inverse_transform(test_predictions)\n",
        "\n",
        "true_predictions"
      ]
    },
    {
      "cell_type": "code",
      "execution_count": null,
      "id": "fee15965",
      "metadata": {
        "id": "fee15965",
        "outputId": "534bff22-3b5f-4591-8c82-b9cd06fed00b"
      },
      "outputs": [
        {
          "data": {
            "text/html": [
              "<div>\n",
              "<style scoped>\n",
              "    .dataframe tbody tr th:only-of-type {\n",
              "        vertical-align: middle;\n",
              "    }\n",
              "\n",
              "    .dataframe tbody tr th {\n",
              "        vertical-align: top;\n",
              "    }\n",
              "\n",
              "    .dataframe thead th {\n",
              "        text-align: right;\n",
              "    }\n",
              "</style>\n",
              "<table border=\"1\" class=\"dataframe\">\n",
              "  <thead>\n",
              "    <tr style=\"text-align: right;\">\n",
              "      <th></th>\n",
              "      <th>Sine</th>\n",
              "    </tr>\n",
              "  </thead>\n",
              "  <tbody>\n",
              "    <tr>\n",
              "      <th>51.237537</th>\n",
              "      <td>0.826045</td>\n",
              "    </tr>\n",
              "    <tr>\n",
              "      <th>51.300098</th>\n",
              "      <td>0.859666</td>\n",
              "    </tr>\n",
              "    <tr>\n",
              "      <th>51.362659</th>\n",
              "      <td>0.889923</td>\n",
              "    </tr>\n",
              "    <tr>\n",
              "      <th>51.425220</th>\n",
              "      <td>0.916698</td>\n",
              "    </tr>\n",
              "    <tr>\n",
              "      <th>51.487781</th>\n",
              "      <td>0.939887</td>\n",
              "    </tr>\n",
              "    <tr>\n",
              "      <th>...</th>\n",
              "      <td>...</td>\n",
              "    </tr>\n",
              "    <tr>\n",
              "      <th>63.749756</th>\n",
              "      <td>0.794329</td>\n",
              "    </tr>\n",
              "    <tr>\n",
              "      <th>63.812317</th>\n",
              "      <td>0.830756</td>\n",
              "    </tr>\n",
              "    <tr>\n",
              "      <th>63.874878</th>\n",
              "      <td>0.863931</td>\n",
              "    </tr>\n",
              "    <tr>\n",
              "      <th>63.937439</th>\n",
              "      <td>0.893727</td>\n",
              "    </tr>\n",
              "    <tr>\n",
              "      <th>64.000000</th>\n",
              "      <td>0.920026</td>\n",
              "    </tr>\n",
              "  </tbody>\n",
              "</table>\n",
              "<p>205 rows × 1 columns</p>\n",
              "</div>"
            ],
            "text/plain": [
              "               Sine\n",
              "51.237537  0.826045\n",
              "51.300098  0.859666\n",
              "51.362659  0.889923\n",
              "51.425220  0.916698\n",
              "51.487781  0.939887\n",
              "...             ...\n",
              "63.749756  0.794329\n",
              "63.812317  0.830756\n",
              "63.874878  0.863931\n",
              "63.937439  0.893727\n",
              "64.000000  0.920026\n",
              "\n",
              "[205 rows x 1 columns]"
            ]
          },
          "execution_count": 44,
          "metadata": {},
          "output_type": "execute_result"
        }
      ],
      "source": [
        "data_test"
      ]
    },
    {
      "cell_type": "code",
      "execution_count": null,
      "id": "4c6f8443",
      "metadata": {
        "id": "4c6f8443",
        "outputId": "0f96c7b5-d1f1-465f-9b9b-78e36b499cef"
      },
      "outputs": [
        {
          "name": "stderr",
          "output_type": "stream",
          "text": [
            "/opt/conda/lib/python3.7/site-packages/ipykernel_launcher.py:4: SettingWithCopyWarning: \n",
            "A value is trying to be set on a copy of a slice from a DataFrame.\n",
            "Try using .loc[row_indexer,col_indexer] = value instead\n",
            "\n",
            "See the caveats in the documentation: https://pandas.pydata.org/pandas-docs/stable/user_guide/indexing.html#returning-a-view-versus-a-copy\n",
            "  after removing the cwd from sys.path.\n"
          ]
        }
      ],
      "source": [
        "# Copy the true values of predictions into the data frame of original test data\n",
        "# Add it as another column\n",
        "\n",
        "data_test['Predictions'] = true_predictions"
      ]
    },
    {
      "cell_type": "code",
      "execution_count": null,
      "id": "008f5712",
      "metadata": {
        "id": "008f5712",
        "outputId": "e26491a1-c80e-41ba-c990-cf4ad9ad1b96"
      },
      "outputs": [
        {
          "data": {
            "text/html": [
              "<div>\n",
              "<style scoped>\n",
              "    .dataframe tbody tr th:only-of-type {\n",
              "        vertical-align: middle;\n",
              "    }\n",
              "\n",
              "    .dataframe tbody tr th {\n",
              "        vertical-align: top;\n",
              "    }\n",
              "\n",
              "    .dataframe thead th {\n",
              "        text-align: right;\n",
              "    }\n",
              "</style>\n",
              "<table border=\"1\" class=\"dataframe\">\n",
              "  <thead>\n",
              "    <tr style=\"text-align: right;\">\n",
              "      <th></th>\n",
              "      <th>Sine</th>\n",
              "      <th>Predictions</th>\n",
              "    </tr>\n",
              "  </thead>\n",
              "  <tbody>\n",
              "    <tr>\n",
              "      <th>51.237537</th>\n",
              "      <td>0.826045</td>\n",
              "      <td>0.819080</td>\n",
              "    </tr>\n",
              "    <tr>\n",
              "      <th>51.300098</th>\n",
              "      <td>0.859666</td>\n",
              "      <td>0.850891</td>\n",
              "    </tr>\n",
              "    <tr>\n",
              "      <th>51.362659</th>\n",
              "      <td>0.889923</td>\n",
              "      <td>0.876388</td>\n",
              "    </tr>\n",
              "    <tr>\n",
              "      <th>51.425220</th>\n",
              "      <td>0.916698</td>\n",
              "      <td>0.895979</td>\n",
              "    </tr>\n",
              "    <tr>\n",
              "      <th>51.487781</th>\n",
              "      <td>0.939887</td>\n",
              "      <td>0.912610</td>\n",
              "    </tr>\n",
              "    <tr>\n",
              "      <th>...</th>\n",
              "      <td>...</td>\n",
              "      <td>...</td>\n",
              "    </tr>\n",
              "    <tr>\n",
              "      <th>63.749756</th>\n",
              "      <td>0.794329</td>\n",
              "      <td>-2.729157</td>\n",
              "    </tr>\n",
              "    <tr>\n",
              "      <th>63.812317</th>\n",
              "      <td>0.830756</td>\n",
              "      <td>-2.730205</td>\n",
              "    </tr>\n",
              "    <tr>\n",
              "      <th>63.874878</th>\n",
              "      <td>0.863931</td>\n",
              "      <td>-2.726977</td>\n",
              "    </tr>\n",
              "    <tr>\n",
              "      <th>63.937439</th>\n",
              "      <td>0.893727</td>\n",
              "      <td>-2.719672</td>\n",
              "    </tr>\n",
              "    <tr>\n",
              "      <th>64.000000</th>\n",
              "      <td>0.920026</td>\n",
              "      <td>-2.708490</td>\n",
              "    </tr>\n",
              "  </tbody>\n",
              "</table>\n",
              "<p>205 rows × 2 columns</p>\n",
              "</div>"
            ],
            "text/plain": [
              "               Sine  Predictions\n",
              "51.237537  0.826045     0.819080\n",
              "51.300098  0.859666     0.850891\n",
              "51.362659  0.889923     0.876388\n",
              "51.425220  0.916698     0.895979\n",
              "51.487781  0.939887     0.912610\n",
              "...             ...          ...\n",
              "63.749756  0.794329    -2.729157\n",
              "63.812317  0.830756    -2.730205\n",
              "63.874878  0.863931    -2.726977\n",
              "63.937439  0.893727    -2.719672\n",
              "64.000000  0.920026    -2.708490\n",
              "\n",
              "[205 rows x 2 columns]"
            ]
          },
          "execution_count": 46,
          "metadata": {},
          "output_type": "execute_result"
        }
      ],
      "source": [
        "data_test"
      ]
    },
    {
      "cell_type": "code",
      "execution_count": null,
      "id": "3cb9ce34",
      "metadata": {
        "id": "3cb9ce34",
        "outputId": "6560a2fc-fbc7-409d-81f3-7ef54f87a40e"
      },
      "outputs": [
        {
          "data": {
            "text/plain": [
              "<AxesSubplot:>"
            ]
          },
          "execution_count": 48,
          "metadata": {},
          "output_type": "execute_result"
        },
        {
          "data": {
            "image/png": "[encoded data removed]",
            "text/plain": [
              "<Figure size 864x576 with 1 Axes>"
            ]
          },
          "metadata": {
            "needs_background": "light"
          },
          "output_type": "display_data"
        }
      ],
      "source": [
        "# Visualize the data of the updated test data\n",
        "# Compare teh predicted sine wave against the original sine wave\n",
        "\n",
        "data_test.plot(figsize=(12,8))"
      ]
    },
    {
      "cell_type": "code",
      "execution_count": null,
      "id": "9a3411f3",
      "metadata": {
        "id": "9a3411f3"
      },
      "outputs": [],
      "source": [
        ""
      ]
    }
  ],
  "metadata": {
    "kernelspec": {
      "display_name": "Python 3",
      "language": "python",
      "name": "python3"
    },
    "language_info": {
      "codemirror_mode": {
        "name": "ipython",
        "version": 3
      },
      "file_extension": ".py",
      "mimetype": "text/x-python",
      "name": "python",
      "nbconvert_exporter": "python",
      "pygments_lexer": "ipython3",
      "version": "3.7.12"
    },
    "colab": {
      "name": "Simple RNN.ipynb",
      "provenance": [],
      "include_colab_link": true
    }
  },
  "nbformat": 4,
  "nbformat_minor": 5
}